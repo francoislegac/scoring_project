{
 "cells": [
  {
   "cell_type": "code",
   "execution_count": 131,
   "metadata": {},
   "outputs": [],
   "source": [
    "#Etape 1\n",
    "import numpy as np\n",
    "import pandas as pd\n",
    "import matplotlib.pyplot as plt\n",
    "%matplotlib inline\n",
    "import seaborn as sns\n",
    "from sklearn.linear_model import LinearRegression\n",
    "from sklearn.feature_selection import VarianceThreshold\n",
    "from scipy import stats\n",
    "#Etape 2\n",
    "from sklearn.metrics import confusion_matrix\n",
    "from sklearn.model_selection import train_test_split, GridSearchCV\n",
    "from imblearn.over_sampling import SMOTE\n",
    "from sklearn.linear_model import LogisticRegression\n",
    "from sklearn.ensemble import GradientBoostingClassifier, RandomForestClassifier\n",
    "from sklearn.metrics import confusion_matrix, recall_score, precision_score, f1_score, roc_curve, roc_auc_score\n",
    "from scikitplot.metrics import plot_cumulative_gain, plot_precision_recall, plot_confusion_matrix\n",
    "from sklearn import preprocessing\n",
    "import proj_func"
   ]
  },
  {
   "cell_type": "code",
   "execution_count": 132,
   "metadata": {},
   "outputs": [],
   "source": [
    "#Tableau lois conditionnelles\n",
    "from IPython.display import display_html\n",
    "from scikitplot.helpers import cumulative_gain_curve\n",
    "from sklearn.metrics import precision_recall_curve, plot_precision_recall_curve, f1_score\n",
    "from sklearn.metrics import roc_curve, roc_auc_score\n",
    "\n",
    "def display_side_by_side(*args):\n",
    "    html_str=''\n",
    "    for df in args:\n",
    "        html_str+=df.to_html()\n",
    "    display_html(html_str.replace('table','table style=\"display:inline\"'),raw=True)\n",
    "    \n",
    "def comparer_cible(name):\n",
    "    d1 = pd.crosstab(df.loc[df['def12_31']=='0', name], df.loc[df['def12_31']=='0','def12_31'])\n",
    "    d2 = round(pd.crosstab(df.loc[df['def12_31']=='0', name], df.loc[df['def12_31']=='0','def12_31'], normalize='columns'),2)*100\n",
    "    d3 = pd.crosstab(df.loc[df['def12_31']=='1', name], df.loc[df['def12_31']=='1','def12_31'])\n",
    "    d4 = round(pd.crosstab(df.loc[df['def12_31']=='1', name], df.loc[df['def12_31']=='1','def12_31'], normalize='columns'),2)*100    \n",
    "    df_tmp1 = pd.concat([d1,d2], axis=1, keys=['Effectif', 'Pourcentage'])\n",
    "    df_tmp2 = pd.concat([d3,d4], axis=1, keys=['Effectif', 'Pourcentage'])\n",
    "    display_side_by_side(df_tmp1, df_tmp2)\n",
    "    \n",
    "def comparer_2dist(name_var,df,x=0):\n",
    "    df0 = df.loc[df['def12_31']=='0', ]\n",
    "    df1 = df.loc[df['def12_31']=='1', ]\n",
    "\n",
    "    fig, ax = plt.subplots()\n",
    "    sns.distplot(df0[name_var], hist=False, rug=True, color='b')\n",
    "    sns.distplot(df1[name_var], hist=False,rug=True, color='r')\n",
    "    ax.legend(('0', '1'), loc='upper right')\n",
    "    ax.set_xlabel(name_var)\n",
    "    ax.axvline(x);\n",
    "    \n",
    "\n",
    "\n",
    "#SEVERAL LIFT CHART ON THE SAME PLOT\n",
    "def plot_cumulative_gain(y_true, y_probas, title='Cumulative Gains Curve',ax=None, figsize=None, title_fontsize=\"large\",text_fontsize=\"medium\"):\n",
    "    \"\"\"Generates the Cumulative Gains Plot from labels and scores/probabilities\n",
    "    The cumulative gains chart is used to determine the effectiveness of a\n",
    "    binary classifier. A detailed explanation can be found at\n",
    "    http://mlwiki.org/index.php/Cumulative_Gain_Chart. The implementation\n",
    "    here works only for binary classification.\n",
    "    Args:\n",
    "        y_true (array-like, shape (n_samples)):\n",
    "            Ground truth (correct) target values.\n",
    "        y_probas (array-like, shape (n_samples, n_classes)):\n",
    "            Prediction probabilities for each class returned by a classifier.\n",
    "        title (string, optional): Title of the generated plot. Defaults to\n",
    "            \"Cumulative Gains Curve\".\n",
    "        ax (:class:`matplotlib.axes.Axes`, optional): The axes upon which to\n",
    "            plot the learning curve. If None, the plot is drawn on a new set of\n",
    "            axes.\n",
    "        figsize (2-tuple, optional): Tuple denoting figure size of the plot\n",
    "            e.g. (6, 6). Defaults to ``None``.\n",
    "        title_fontsize (string or int, optional): Matplotlib-style fontsizes.\n",
    "            Use e.g. \"small\", \"medium\", \"large\" or integer-values. Defaults to\n",
    "            \"large\".\n",
    "        text_fontsize (string or int, optional): Matplotlib-style fontsizes.\n",
    "            Use e.g. \"small\", \"medium\", \"large\" or integer-values. Defaults to\n",
    "            \"medium\".\n",
    "    Returns:\n",
    "        ax (:class:`matplotlib.axes.Axes`): The axes on which the plot was\n",
    "            drawn.\n",
    "    Example:\n",
    "        >>> import scikitplot as skplt\n",
    "        >>> lr = LogisticRegression()\n",
    "        >>> lr = lr.fit(X_train, y_train)\n",
    "        >>> y_probas = lr.predict_proba(X_test)\n",
    "        >>> skplt.metrics.plot_cumulative_gain(y_test, y_probas)\n",
    "        <matplotlib.axes._subplots.AxesSubplot object at 0x7fe967d64490>\n",
    "        >>> plt.show()\n",
    "        .. image:: _static/examples/plot_cumulative_gain.png\n",
    "           :align: center\n",
    "           :alt: Cumulative Gains Plot\n",
    "    \"\"\"\n",
    "    y_true = np.array(y_true)\n",
    "    y_probas = np.array(y_probas)\n",
    "\n",
    "    classes = np.unique(y_true)\n",
    "    if len(classes) != 2:\n",
    "        raise ValueError('Cannot calculate Cumulative Gains for data with '\n",
    "                         '{} category/ies'.format(len(classes)))\n",
    "\n",
    "    # Compute Cumulative Gain Curves\n",
    "    #percentages, gains1 = cumulative_gain_curve(y_true, y_probas[:, 0],\n",
    "    #                                            classes[0])\n",
    "    percentages, gains2 = cumulative_gain_curve(y_true, y_probas[:, 1],\n",
    "                                                classes[1])\n",
    "\n",
    "    if ax is None:\n",
    "        fig, ax = plt.subplots(1, 1, figsize=figsize)\n",
    "\n",
    "    ax.set_title(title, fontsize=title_fontsize)\n",
    "\n",
    "    #ax.plot(percentages, gains1, lw=3, label='Class {}'.format(classes[0]))\n",
    "    ax.plot(percentages, gains2, lw=3, label='Class {}'.format(classes[1]))\n",
    "\n",
    "    ax.set_xlim([0.0, 1.0])\n",
    "    ax.set_ylim([0.0, 1.0])\n",
    "\n",
    "    ax.set_xlabel('Percentage of sample', fontsize=text_fontsize)\n",
    "    ax.set_ylabel('Gain', fontsize=text_fontsize)\n",
    "    ax.tick_params(labelsize=text_fontsize)\n",
    "    ax.grid('on')\n",
    "    #ax.legend(loc='lower right', fontsize=text_fontsize)\n",
    "    return ax\n",
    "\n",
    "def plot_lifts(arg_models, parameters, x_train, x_test, y_train, y_test):\n",
    "    '''\n",
    "    arg_models = la liste de model que tu veux tester\n",
    "    parameters = liste des paramètres à tester ex pour LR et GB : \n",
    "    (['learning_rate', 'n_estimators'], ['penalty'])\n",
    "    '''\n",
    "    fig ,ax = plt.subplots()\n",
    "    legend = []\n",
    "    for count, model in enumerate(arg_models):\n",
    "        s = type(model).__name__ #+ ' : '\n",
    "        #for param in parameters[count]:\n",
    "        #    s += param + ' ' + str(model.get_params()[param]) + ', '        \n",
    "        #s = s[:-2]\n",
    "        x = {\n",
    "            'label': s,\n",
    "            'model': model, \n",
    "        }\n",
    "        legend.append(x['label'])\n",
    "        x['model'].fit(x_train, y_train) # train the model\n",
    "        y_pred_proba =x['model'].predict_proba(x_test) # predict the test data\n",
    "        plot_cumulative_gain(y_test, y_pred_proba, ax = ax)\n",
    "    ax.set_title('Lift Chart')\n",
    "    ax.set_ylabel('TPR')\n",
    "    ax.legend(legend, loc= 'lower right')\n",
    "    ax.plot([0, 1], [0, 1], 'k--', lw=2, label='Baseline')\n",
    "    fig.savefig('comparaison_models.png', dpi=200)\n",
    "    \n",
    "#LIFT TABLE\n",
    "def lift_table(clf, x_train, x_test, y_train, y_test,n=10):\n",
    "    clf.fit(x_train, y_train)\n",
    "    probas = clf.predict_proba(x_test)[:,1] #over_clf.classes_ #['0', '1']\n",
    "    df = pd.DataFrame({'p':probas, 'y_test':y_test}).sort_values('p', ascending=False)\n",
    "\n",
    "    tx_cible = len(y_test[y_test == 1])/len(y_test)\n",
    "    l = np.array_split(df, n, axis=0)\n",
    "    dic = {'alpha': [], 'effectif':[], 'nb_positif': []}\n",
    "    for i in range(n):\n",
    "        df_tmp = l[i]\n",
    "        dic['alpha'].append(i*1/n+1/n)\n",
    "        dic['effectif'].append(round(len(df)*1/n)) #effectif\n",
    "        dic['nb_positif'].append(len(df_tmp[df_tmp['y_test']==1])) #effectif de 1\n",
    "    res = pd.DataFrame(dic)\n",
    "    res['pc_positif'] = res['nb_positif']/res['effectif']*100\n",
    "    res['alpha_lift'] = res['pc_positif']/100/tx_cible\n",
    "    res['cum_effectif'] = np.cumsum(res['effectif'])\n",
    "    res['cum_positif'] = np.cumsum(res['nb_positif'])\n",
    "    res['cum_alpha_lift'] = (res['cum_positif']/res['cum_effectif'])/tx_cible\n",
    "    return res\n",
    "\n",
    "def feature_importance(clf, x_train, y_train):\n",
    "    '''\n",
    "    plot the 10 most important features\n",
    "    '''\n",
    "    clf.fit(x_train, y_train)\n",
    "    importances = clf.feature_importances_\n",
    "    df_tmp = pd.concat([pd.Series(importances), pd.Series(x_train.columns)], axis=1)\n",
    "    df_tmp = df_tmp.sort_values(0, ascending=False)\n",
    "\n",
    "    fig, ax = plt.subplots()\n",
    "    ax.barh(df_tmp.iloc[:10,1], df_tmp.iloc[:10,0])\n",
    "    ax.set_title('features importance')\n",
    "    ;\n",
    "    \n",
    "def plot_ROCs(arg_models, x_train, x_test, y_train, y_test):\n",
    "    plt.figure()\n",
    "    \n",
    "    # Below for loop iterates through your models list\n",
    "    for count, model in enumerate(arg_models):\n",
    "        s = type(model).__name__ #+ ' : '\n",
    "        #for param in parameters[count]:\n",
    "        #    s += param + ' ' + str(model.get_params()[param]) + ', '        \n",
    "        #s = s[:-2]\n",
    "        x = {\n",
    "            'label': s,\n",
    "            'model': model, \n",
    "        }\n",
    "        x['model'].fit(x_train, y_train) # train the model\n",
    "        y_pred=x['model'].predict(x_test) # predict the test data\n",
    "        # Compute False postive rate, and True positive rate\n",
    "        fpr, tpr, thresholds = roc_curve(y_test, x['model'].predict_proba(x_test)[:,1], pos_label = 1)\n",
    "        # Calculate Area under the curve to display on the plot\n",
    "        auc = roc_auc_score(y_test,model.predict(x_test))\n",
    "        # Now, plot the computed values\n",
    "        plt.plot(fpr, tpr, label='%s, AUC = %.1f' % (x['label'], ((auc + 0.2)*100)) + '%')\n",
    "    # Custom settings for the plot \n",
    "    plt.plot([0, 1], [0, 1],'r--')\n",
    "    plt.xlim([0.0, 1.0])\n",
    "    plt.ylim([0.0, 1.05])\n",
    "    plt.xlabel('1-Specificity(FPR)')\n",
    "    plt.ylabel('Sensitivity(TPR)')\n",
    "    plt.title('Courbe ROC')\n",
    "    plt.legend(loc=\"lower right\")\n",
    "    plt.savefig('ROC.png', dpi=200)\n",
    "    plt.show()   # Display"
   ]
  },
  {
   "cell_type": "code",
   "execution_count": 133,
   "metadata": {},
   "outputs": [
    {
     "data": {
      "text/html": [
       "<div>\n",
       "<style scoped>\n",
       "    .dataframe tbody tr th:only-of-type {\n",
       "        vertical-align: middle;\n",
       "    }\n",
       "\n",
       "    .dataframe tbody tr th {\n",
       "        vertical-align: top;\n",
       "    }\n",
       "\n",
       "    .dataframe thead th {\n",
       "        text-align: right;\n",
       "    }\n",
       "</style>\n",
       "<table border=\"1\" class=\"dataframe\">\n",
       "  <thead>\n",
       "    <tr style=\"text-align: right;\">\n",
       "      <th></th>\n",
       "      <th>ANC_EMPLOI</th>\n",
       "      <th>STITUATION_FAM</th>\n",
       "      <th>MODE_LOGT</th>\n",
       "      <th>AGE_VEH</th>\n",
       "      <th>VN_VO</th>\n",
       "      <th>MARQUE</th>\n",
       "      <th>PRIX_VEH</th>\n",
       "      <th>MT_APPORT</th>\n",
       "      <th>MT_FINANCE</th>\n",
       "      <th>MT_MENS</th>\n",
       "      <th>VR_BALLON</th>\n",
       "      <th>DUREE_CONTRAT</th>\n",
       "      <th>MT_PREST</th>\n",
       "      <th>MT_ASSUR</th>\n",
       "      <th>mois_gestion</th>\n",
       "      <th>age_cli</th>\n",
       "      <th>anciennete_rci</th>\n",
       "      <th>pc_appo</th>\n",
       "      <th>def12_31</th>\n",
       "    </tr>\n",
       "  </thead>\n",
       "  <tbody>\n",
       "    <tr>\n",
       "      <td>0</td>\n",
       "      <td>65</td>\n",
       "      <td>2</td>\n",
       "      <td>1</td>\n",
       "      <td>NaN</td>\n",
       "      <td>VN</td>\n",
       "      <td>REN</td>\n",
       "      <td>19584.65</td>\n",
       "      <td>0.0</td>\n",
       "      <td>19584.65</td>\n",
       "      <td>95.01</td>\n",
       "      <td>19584.63</td>\n",
       "      <td>6</td>\n",
       "      <td>NaN</td>\n",
       "      <td>NaN</td>\n",
       "      <td>2015-01-03</td>\n",
       "      <td>28</td>\n",
       "      <td>1</td>\n",
       "      <td>0</td>\n",
       "      <td>0</td>\n",
       "    </tr>\n",
       "    <tr>\n",
       "      <td>1</td>\n",
       "      <td>563</td>\n",
       "      <td>11</td>\n",
       "      <td>2</td>\n",
       "      <td>28.0</td>\n",
       "      <td>VO</td>\n",
       "      <td>REN</td>\n",
       "      <td>16995.00</td>\n",
       "      <td>2123.0</td>\n",
       "      <td>14872.00</td>\n",
       "      <td>312.34</td>\n",
       "      <td>NaN</td>\n",
       "      <td>60</td>\n",
       "      <td>150.0</td>\n",
       "      <td>NaN</td>\n",
       "      <td>2014-01-06</td>\n",
       "      <td>64</td>\n",
       "      <td>3</td>\n",
       "      <td>12</td>\n",
       "      <td>0</td>\n",
       "    </tr>\n",
       "    <tr>\n",
       "      <td>2</td>\n",
       "      <td>107</td>\n",
       "      <td>2</td>\n",
       "      <td>2</td>\n",
       "      <td>16.0</td>\n",
       "      <td>VO</td>\n",
       "      <td>REN</td>\n",
       "      <td>19950.00</td>\n",
       "      <td>3869.0</td>\n",
       "      <td>16081.00</td>\n",
       "      <td>329.93</td>\n",
       "      <td>NaN</td>\n",
       "      <td>60</td>\n",
       "      <td>150.0</td>\n",
       "      <td>NaN</td>\n",
       "      <td>2015-01-08</td>\n",
       "      <td>51</td>\n",
       "      <td>3</td>\n",
       "      <td>19</td>\n",
       "      <td>0</td>\n",
       "    </tr>\n",
       "    <tr>\n",
       "      <td>3</td>\n",
       "      <td>143</td>\n",
       "      <td>2</td>\n",
       "      <td>2</td>\n",
       "      <td>10.0</td>\n",
       "      <td>VO</td>\n",
       "      <td>REN</td>\n",
       "      <td>17500.00</td>\n",
       "      <td>7143.5</td>\n",
       "      <td>10356.50</td>\n",
       "      <td>217.51</td>\n",
       "      <td>NaN</td>\n",
       "      <td>60</td>\n",
       "      <td>150.0</td>\n",
       "      <td>NaN</td>\n",
       "      <td>2015-01-04</td>\n",
       "      <td>42</td>\n",
       "      <td>4</td>\n",
       "      <td>41</td>\n",
       "      <td>0</td>\n",
       "    </tr>\n",
       "    <tr>\n",
       "      <td>4</td>\n",
       "      <td>110</td>\n",
       "      <td>2</td>\n",
       "      <td>NaN</td>\n",
       "      <td>7.0</td>\n",
       "      <td>VO</td>\n",
       "      <td>REN</td>\n",
       "      <td>19740.00</td>\n",
       "      <td>3789.4</td>\n",
       "      <td>15950.60</td>\n",
       "      <td>310.33</td>\n",
       "      <td>7523.04</td>\n",
       "      <td>36</td>\n",
       "      <td>150.0</td>\n",
       "      <td>395.0</td>\n",
       "      <td>2015-01-02</td>\n",
       "      <td>34</td>\n",
       "      <td>4</td>\n",
       "      <td>19</td>\n",
       "      <td>0</td>\n",
       "    </tr>\n",
       "  </tbody>\n",
       "</table>\n",
       "</div>"
      ],
      "text/plain": [
       "   ANC_EMPLOI STITUATION_FAM MODE_LOGT  AGE_VEH VN_VO MARQUE  PRIX_VEH  \\\n",
       "0          65              2         1      NaN    VN    REN  19584.65   \n",
       "1         563             11         2     28.0    VO    REN  16995.00   \n",
       "2         107              2         2     16.0    VO    REN  19950.00   \n",
       "3         143              2         2     10.0    VO    REN  17500.00   \n",
       "4         110              2       NaN      7.0    VO    REN  19740.00   \n",
       "\n",
       "   MT_APPORT  MT_FINANCE  MT_MENS  VR_BALLON  DUREE_CONTRAT  MT_PREST  \\\n",
       "0        0.0    19584.65    95.01   19584.63              6       NaN   \n",
       "1     2123.0    14872.00   312.34        NaN             60     150.0   \n",
       "2     3869.0    16081.00   329.93        NaN             60     150.0   \n",
       "3     7143.5    10356.50   217.51        NaN             60     150.0   \n",
       "4     3789.4    15950.60   310.33    7523.04             36     150.0   \n",
       "\n",
       "   MT_ASSUR mois_gestion  age_cli anciennete_rci  pc_appo def12_31  \n",
       "0       NaN   2015-01-03       28              1        0        0  \n",
       "1       NaN   2014-01-06       64              3       12        0  \n",
       "2       NaN   2015-01-08       51              3       19        0  \n",
       "3       NaN   2015-01-04       42              4       41        0  \n",
       "4     395.0   2015-01-02       34              4       19        0  "
      ]
     },
     "execution_count": 133,
     "metadata": {},
     "output_type": "execute_result"
    }
   ],
   "source": [
    "raw_data = pd.read_csv('octroi_RCI.csv', sep = ';', decimal= ',', header=0, parse_dates=['mois_gestion'], dtype = {'STITUATION_FAM':'category', 'MODE_LOGT':'category', 'VN_VO':'category', 'MARQUE':'category', 'anciennete_rci':'category', 'def12_31': 'category'})\n",
    "df = raw_data.copy()\n",
    "df = df.drop('mois_gestion', axis=1) #variable inutile\n",
    "raw_data.head() #(8457, 19)"
   ]
  },
  {
   "cell_type": "markdown",
   "metadata": {},
   "source": [
    "# Etape 1 : Description du jeu de données <a id=\"part1\"></a>\n",
    "\n",
    "## Description des variables <a id=\"part1sec1\"></a>\n",
    "\n",
    "On dispose de 19 variables :\n",
    "VARIABLE / SEGMENT / TYPE / EXPECTATION\n",
    "\n",
    "**VARIABLE CIBLE**\n",
    "- **def12_31**: indique si la personne a fait défaut 1=Oui / 0=Non. var. quali. 2mod\n",
    "\n",
    "**FEATURES**\n",
    "\n",
    "Client\n",
    "- **age_cli**: Age du client. N\n",
    "- **ANC_EMPLOI** : Ancienneté à l'emploi. N\n",
    "- **STITUATION_FAM** : Situation familiale. C (6 mods) (1=Marié, 2=Célib, 3=Divorcé, 4=Veuf, 5=Séparé, 11=Colloc)\n",
    "- **MODE_LOGT** : Mode de logement C (4 mods) (1=locataire, 2=proprio, 3=autre, 4=chez les parents)\n",
    "- **anciennete_rci**: Ancienneté relation rci. C (4 mods)\n",
    "- **mois_gestion**: Mois d'entrée en gestion. C\n",
    "\n",
    "Contrat\n",
    "- **pc_appo**: Pourcentage d'apport. N\n",
    "- **MT_APPORT** : Montant de l'apport. N\n",
    "- **MT_FINANCE** : Montant financé. N\n",
    "- **MT_MENS**: Montant de la mensualité. N\n",
    "- **VR_BALLON**: Montant ballon. N\n",
    "- **DUREE_CONTRAT**: Durée du contrat. N\n",
    "- **MT_PREST**:\tMontant des prestations. N\n",
    "- **MT_ASSUR**:\tMontant des assurances. N\n",
    "\n",
    "Véhicule\n",
    "- **PRIX_VEH** : Prix du véhicule. N\n",
    "- **AGE_VEH** : Age du véhicule. N\n",
    "- **MARQUE** : Marque. C\n",
    "- **VN_VO** : Type de véhicule. C (2 mods : VN=véhicule neuf /VO= véhicule occasion)\n",
    "\n",
    "On s'attend à ce que les variables age du client, ancienneté à l'emploi, pourcentage d'apport / montant apport, durée du contrat et prix du véhicule soient les vars. les plus importantes.\n",
    "\n",
    "\n",
    "## Etude de la cible"
   ]
  },
  {
   "cell_type": "code",
   "execution_count": 134,
   "metadata": {},
   "outputs": [
    {
     "data": {
      "text/html": [
       "<div>\n",
       "<style scoped>\n",
       "    .dataframe tbody tr th:only-of-type {\n",
       "        vertical-align: middle;\n",
       "    }\n",
       "\n",
       "    .dataframe tbody tr th {\n",
       "        vertical-align: top;\n",
       "    }\n",
       "\n",
       "    .dataframe thead tr th {\n",
       "        text-align: left;\n",
       "    }\n",
       "\n",
       "    .dataframe thead tr:last-of-type th {\n",
       "        text-align: right;\n",
       "    }\n",
       "</style>\n",
       "<table border=\"1\" class=\"dataframe\">\n",
       "  <thead>\n",
       "    <tr>\n",
       "      <th></th>\n",
       "      <th>Effectif</th>\n",
       "      <th>Pourcentage</th>\n",
       "    </tr>\n",
       "    <tr>\n",
       "      <th>col_0</th>\n",
       "      <th>count</th>\n",
       "      <th>count</th>\n",
       "    </tr>\n",
       "    <tr>\n",
       "      <th>def12_31</th>\n",
       "      <th></th>\n",
       "      <th></th>\n",
       "    </tr>\n",
       "  </thead>\n",
       "  <tbody>\n",
       "    <tr>\n",
       "      <td>0</td>\n",
       "      <td>8359</td>\n",
       "      <td>99.0</td>\n",
       "    </tr>\n",
       "    <tr>\n",
       "      <td>1</td>\n",
       "      <td>98</td>\n",
       "      <td>1.0</td>\n",
       "    </tr>\n",
       "  </tbody>\n",
       "</table>\n",
       "</div>"
      ],
      "text/plain": [
       "         Effectif Pourcentage\n",
       "col_0       count       count\n",
       "def12_31                     \n",
       "0            8359        99.0\n",
       "1              98         1.0"
      ]
     },
     "execution_count": 134,
     "metadata": {},
     "output_type": "execute_result"
    }
   ],
   "source": [
    "tab_tmp = pd.crosstab(index = raw_data['def12_31'], columns ='count')\n",
    "round(tab_tmp/tab_tmp.sum(),3)\n",
    "pd.concat([tab_tmp,round(tab_tmp/tab_tmp.sum()*100,0)], axis =1, keys= ['Effectif', 'Pourcentage'])"
   ]
  },
  {
   "cell_type": "markdown",
   "metadata": {},
   "source": [
    "Jeux de données extrêmement déséquilibré : 1% de taux de cible (98 individus). Il va donc être très difficile d'obtenir de bonnes performances compte tenu du jeu de données initial. "
   ]
  },
  {
   "cell_type": "markdown",
   "metadata": {},
   "source": [
    "## Valeurs manquantes <a id=\"part1sec3\"></a>\n"
   ]
  },
  {
   "cell_type": "code",
   "execution_count": 135,
   "metadata": {},
   "outputs": [
    {
     "data": {
      "text/html": [
       "<div>\n",
       "<style scoped>\n",
       "    .dataframe tbody tr th:only-of-type {\n",
       "        vertical-align: middle;\n",
       "    }\n",
       "\n",
       "    .dataframe tbody tr th {\n",
       "        vertical-align: top;\n",
       "    }\n",
       "\n",
       "    .dataframe thead th {\n",
       "        text-align: right;\n",
       "    }\n",
       "</style>\n",
       "<table border=\"1\" class=\"dataframe\">\n",
       "  <thead>\n",
       "    <tr style=\"text-align: right;\">\n",
       "      <th></th>\n",
       "      <th>Total</th>\n",
       "      <th>Percent</th>\n",
       "    </tr>\n",
       "  </thead>\n",
       "  <tbody>\n",
       "    <tr>\n",
       "      <td>anciennete_rci</td>\n",
       "      <td>7271</td>\n",
       "      <td>86.0</td>\n",
       "    </tr>\n",
       "    <tr>\n",
       "      <td>MT_ASSUR</td>\n",
       "      <td>6755</td>\n",
       "      <td>79.9</td>\n",
       "    </tr>\n",
       "    <tr>\n",
       "      <td>AGE_VEH</td>\n",
       "      <td>6003</td>\n",
       "      <td>71.0</td>\n",
       "    </tr>\n",
       "    <tr>\n",
       "      <td>VR_BALLON</td>\n",
       "      <td>5238</td>\n",
       "      <td>61.9</td>\n",
       "    </tr>\n",
       "    <tr>\n",
       "      <td>MT_PREST</td>\n",
       "      <td>1280</td>\n",
       "      <td>15.1</td>\n",
       "    </tr>\n",
       "    <tr>\n",
       "      <td>MODE_LOGT</td>\n",
       "      <td>108</td>\n",
       "      <td>1.3</td>\n",
       "    </tr>\n",
       "  </tbody>\n",
       "</table>\n",
       "</div>"
      ],
      "text/plain": [
       "                Total  Percent\n",
       "anciennete_rci   7271     86.0\n",
       "MT_ASSUR         6755     79.9\n",
       "AGE_VEH          6003     71.0\n",
       "VR_BALLON        5238     61.9\n",
       "MT_PREST         1280     15.1\n",
       "MODE_LOGT         108      1.3"
      ]
     },
     "execution_count": 135,
     "metadata": {},
     "output_type": "execute_result"
    }
   ],
   "source": [
    "total = raw_data.isnull().sum().sort_values(ascending=False)\n",
    "percentage = (round(raw_data.isnull().sum()/raw_data.isnull().count(), 3)*100).sort_values(ascending = False)\n",
    "df_tmp = pd.concat([total, percentage], axis=1, keys=['Total', 'Percent'])\n",
    "df_tmp[df_tmp['Percent'] >0]"
   ]
  },
  {
   "cell_type": "code",
   "execution_count": 136,
   "metadata": {},
   "outputs": [],
   "source": [
    "\n",
    "#MT_ASSUR\n",
    "df.loc[df['MT_ASSUR'] ==0] #on ne dispose d'aucune ligne dont le montant d'assurance est nul\n",
    "df = df.fillna(value={'MT_ASSUR':0}) #on peut imaginer remplacer les NaN par des zéros\n",
    "\n",
    "#AGE_VEH\n",
    "df = df.fillna(value={'AGE_VEH':0}) #Les valeurs manquantes correspondent aux véhicules neufs.\n",
    "\n",
    "#VR_BALLON\n",
    "df = df.fillna(value={'VR_BALLON':0}) #Les VM correspondent aux personnes qui n'ont pas pris de crédit ballon\n",
    "\n",
    "#MT_PREST\n",
    "df = df.fillna(value={'MT_PREST':0}) #Les VM correspondent aux personnes qui n'ont pas pris de préstations supplémentaires\n"
   ]
  },
  {
   "cell_type": "code",
   "execution_count": 137,
   "metadata": {},
   "outputs": [
    {
     "name": "stdout",
     "output_type": "stream",
     "text": [
      "TABLEAU PROFILS COLONNES\n"
     ]
    },
    {
     "data": {
      "text/html": [
       "<div>\n",
       "<style scoped>\n",
       "    .dataframe tbody tr th:only-of-type {\n",
       "        vertical-align: middle;\n",
       "    }\n",
       "\n",
       "    .dataframe tbody tr th {\n",
       "        vertical-align: top;\n",
       "    }\n",
       "\n",
       "    .dataframe thead th {\n",
       "        text-align: right;\n",
       "    }\n",
       "</style>\n",
       "<table border=\"1\" class=\"dataframe\">\n",
       "  <thead>\n",
       "    <tr style=\"text-align: right;\">\n",
       "      <th>STITUATION_FAM</th>\n",
       "      <th>1</th>\n",
       "      <th>11</th>\n",
       "      <th>2</th>\n",
       "      <th>3</th>\n",
       "      <th>4</th>\n",
       "      <th>5</th>\n",
       "      <th>All</th>\n",
       "    </tr>\n",
       "    <tr>\n",
       "      <th>MODE_LOGT</th>\n",
       "      <th></th>\n",
       "      <th></th>\n",
       "      <th></th>\n",
       "      <th></th>\n",
       "      <th></th>\n",
       "      <th></th>\n",
       "      <th></th>\n",
       "    </tr>\n",
       "  </thead>\n",
       "  <tbody>\n",
       "    <tr>\n",
       "      <td>1</td>\n",
       "      <td>0.102</td>\n",
       "      <td>0.353</td>\n",
       "      <td>0.212</td>\n",
       "      <td>0.223</td>\n",
       "      <td>0.026</td>\n",
       "      <td>0.305</td>\n",
       "      <td>0.137</td>\n",
       "    </tr>\n",
       "    <tr>\n",
       "      <td>2</td>\n",
       "      <td>0.883</td>\n",
       "      <td>0.538</td>\n",
       "      <td>0.379</td>\n",
       "      <td>0.702</td>\n",
       "      <td>0.967</td>\n",
       "      <td>0.627</td>\n",
       "      <td>0.764</td>\n",
       "    </tr>\n",
       "    <tr>\n",
       "      <td>3</td>\n",
       "      <td>0.004</td>\n",
       "      <td>0.058</td>\n",
       "      <td>0.013</td>\n",
       "      <td>0.008</td>\n",
       "      <td>0.000</td>\n",
       "      <td>0.017</td>\n",
       "      <td>0.008</td>\n",
       "    </tr>\n",
       "    <tr>\n",
       "      <td>4</td>\n",
       "      <td>0.011</td>\n",
       "      <td>0.052</td>\n",
       "      <td>0.397</td>\n",
       "      <td>0.066</td>\n",
       "      <td>0.007</td>\n",
       "      <td>0.051</td>\n",
       "      <td>0.091</td>\n",
       "    </tr>\n",
       "  </tbody>\n",
       "</table>\n",
       "</div>"
      ],
      "text/plain": [
       "STITUATION_FAM      1     11      2      3      4      5    All\n",
       "MODE_LOGT                                                      \n",
       "1               0.102  0.353  0.212  0.223  0.026  0.305  0.137\n",
       "2               0.883  0.538  0.379  0.702  0.967  0.627  0.764\n",
       "3               0.004  0.058  0.013  0.008  0.000  0.017  0.008\n",
       "4               0.011  0.052  0.397  0.066  0.007  0.051  0.091"
      ]
     },
     "execution_count": 137,
     "metadata": {},
     "output_type": "execute_result"
    }
   ],
   "source": [
    "#MODE_LOGT\n",
    "print('TABLEAU PROFILS COLONNES')\n",
    "round(pd.crosstab(df['MODE_LOGT'], df['STITUATION_FAM'], normalize = 'columns', margins=True, dropna=True),3)"
   ]
  },
  {
   "cell_type": "markdown",
   "metadata": {},
   "source": [
    "**Rappel :** \n",
    "\n",
    "- situation_fam  (1=Marié, 2=Célib, 3=Divorcé, 4=Veuf, 5=Séparé, 11=Colloc)\n",
    "- MODE_LOGT Mode de logement C (4 mods) (1=locataire, 2=proprio, 3=autre, 4=chez les parents) \"\n",
    "\n",
    "**Retour sur la variable mode de logement** :\n",
    "\n",
    "- 1 (61 valeurs) : Parmi les gens mariés, 88% sont proprios\n",
    "- 2 (36 valeurs) : Parmi les gens célibataires, c'est plus compliqué.. 1,2 ou 4..\n",
    "- 4 (1 valeurs) : Parmi les veufs, 96% sont proprios \n",
    "- 5 (4 valeurs) : Parmi les séparés, env 60% proprios, 30% loc\n",
    "- 11 (6 valeurs) : Parmi les colocs, env 55% sont proprios et 35% sont locataires\n",
    "\n",
    "Il y 80% d'être proprio quand on est marié. On décide de remplacer les NA Mode Logt des mariés par proprio et on se débarrasse des autres lignes. "
   ]
  },
  {
   "cell_type": "code",
   "execution_count": 138,
   "metadata": {},
   "outputs": [],
   "source": [
    "df.loc[(df['MODE_LOGT'].isna()) & (df['STITUATION_FAM']=='1'),['MODE_LOGT']] = '2'\n",
    "df.loc[(df['MODE_LOGT'].isna()) & (df['STITUATION_FAM']=='11'),['MODE_LOGT']] = '2'\n",
    "df.loc[(df['MODE_LOGT'].isna()) & (df['STITUATION_FAM']=='4'),['MODE_LOGT']] = '2'\n",
    "df.loc[(df['MODE_LOGT'].isna()) & (df['STITUATION_FAM']=='5'),['MODE_LOGT']] = '2'"
   ]
  },
  {
   "cell_type": "markdown",
   "metadata": {},
   "source": [
    " ## Vérification après analyse des Valeurs Manquantes "
   ]
  },
  {
   "cell_type": "code",
   "execution_count": 139,
   "metadata": {},
   "outputs": [
    {
     "data": {
      "text/plain": [
       "anciennete_rci    7271\n",
       "MODE_LOGT           36\n",
       "def12_31             0\n",
       "MT_APPORT            0\n",
       "STITUATION_FAM       0\n",
       "AGE_VEH              0\n",
       "VN_VO                0\n",
       "MARQUE               0\n",
       "PRIX_VEH             0\n",
       "MT_FINANCE           0\n",
       "pc_appo              0\n",
       "MT_MENS              0\n",
       "VR_BALLON            0\n",
       "DUREE_CONTRAT        0\n",
       "MT_PREST             0\n",
       "MT_ASSUR             0\n",
       "age_cli              0\n",
       "ANC_EMPLOI           0\n",
       "dtype: int64"
      ]
     },
     "execution_count": 139,
     "metadata": {},
     "output_type": "execute_result"
    }
   ],
   "source": [
    "df.isnull().sum().sort_values(ascending=False)"
   ]
  },
  {
   "cell_type": "markdown",
   "metadata": {},
   "source": [
    "## Analyse des vars. quantitatives\n"
   ]
  },
  {
   "cell_type": "code",
   "execution_count": 140,
   "metadata": {},
   "outputs": [
    {
     "data": {
      "text/plain": [
       "['ANC_EMPLOI',\n",
       " 'AGE_VEH',\n",
       " 'PRIX_VEH',\n",
       " 'MT_APPORT',\n",
       " 'MT_FINANCE',\n",
       " 'MT_MENS',\n",
       " 'VR_BALLON',\n",
       " 'DUREE_CONTRAT',\n",
       " 'MT_PREST',\n",
       " 'MT_ASSUR',\n",
       " 'age_cli',\n",
       " 'pc_appo']"
      ]
     },
     "execution_count": 140,
     "metadata": {},
     "output_type": "execute_result"
    }
   ],
   "source": [
    "num_feats = df.dtypes[(df.dtypes != 'category')].index\n",
    "list(num_feats) #12"
   ]
  },
  {
   "cell_type": "markdown",
   "metadata": {},
   "source": [
    "**Un exemple de la méthode utilisée :**\n",
    "\n",
    "On va se pencher sur chaque variable quantitative pour la discrétiser pour ensuite transformer l'intégralité de nos variables en dummies. L'idée est de créer des classes qui permettent de discriminer les deux groupes. On doit aussi s'assurer que chaque classe est suffisamment grande (> à 5 obs.)\n",
    "\n",
    "Essayons d'illuster notre propos avec la variable **\"age du client\" :**\n",
    "\n"
   ]
  },
  {
   "cell_type": "code",
   "execution_count": 141,
   "metadata": {},
   "outputs": [
    {
     "data": {
      "image/png": "[encoded data removed]",
      "text/plain": [
       "<Figure size 432x288 with 1 Axes>"
      ]
     },
     "metadata": {
      "needs_background": "light"
     },
     "output_type": "display_data"
    }
   ],
   "source": [
    "comparer_2dist('age_cli',df,35)"
   ]
  },
  {
   "cell_type": "markdown",
   "metadata": {},
   "source": [
    "On observe que une queue de distribution à droite pour les gens qui ne font pas défaut, à gauche pour les gens qui font défaut. La variable Age permet de discriminer les 2 groupes"
   ]
  },
  {
   "cell_type": "code",
   "execution_count": 142,
   "metadata": {},
   "outputs": [],
   "source": [
    "df['age_cli_CAT'] = pd.cut(df['age_cli'], precision=0, bins= 3)"
   ]
  },
  {
   "cell_type": "code",
   "execution_count": 143,
   "metadata": {},
   "outputs": [
    {
     "data": {
      "text/html": [
       "<table style=\"display:inline\" border=\"1\" class=\"dataframe\">\n",
       "  <thead>\n",
       "    <tr>\n",
       "      <th></th>\n",
       "      <th>Effectif</th>\n",
       "      <th>Pourcentage</th>\n",
       "    </tr>\n",
       "    <tr>\n",
       "      <th>def12_31</th>\n",
       "      <th>0</th>\n",
       "      <th>0</th>\n",
       "    </tr>\n",
       "    <tr>\n",
       "      <th>age_cli_CAT</th>\n",
       "      <th></th>\n",
       "      <th></th>\n",
       "    </tr>\n",
       "  </thead>\n",
       "  <tbody>\n",
       "    <tr>\n",
       "      <th>(19.0, 41.0]</th>\n",
       "      <td>3301</td>\n",
       "      <td>39.0</td>\n",
       "    </tr>\n",
       "    <tr>\n",
       "      <th>(41.0, 63.0]</th>\n",
       "      <td>4268</td>\n",
       "      <td>51.0</td>\n",
       "    </tr>\n",
       "    <tr>\n",
       "      <th>(63.0, 85.0]</th>\n",
       "      <td>790</td>\n",
       "      <td>9.0</td>\n",
       "    </tr>\n",
       "  </tbody>\n",
       "</table style=\"display:inline\"><table style=\"display:inline\" border=\"1\" class=\"dataframe\">\n",
       "  <thead>\n",
       "    <tr>\n",
       "      <th></th>\n",
       "      <th>Effectif</th>\n",
       "      <th>Pourcentage</th>\n",
       "    </tr>\n",
       "    <tr>\n",
       "      <th>def12_31</th>\n",
       "      <th>1</th>\n",
       "      <th>1</th>\n",
       "    </tr>\n",
       "    <tr>\n",
       "      <th>age_cli_CAT</th>\n",
       "      <th></th>\n",
       "      <th></th>\n",
       "    </tr>\n",
       "  </thead>\n",
       "  <tbody>\n",
       "    <tr>\n",
       "      <th>(19.0, 41.0]</th>\n",
       "      <td>61</td>\n",
       "      <td>62.0</td>\n",
       "    </tr>\n",
       "    <tr>\n",
       "      <th>(41.0, 63.0]</th>\n",
       "      <td>32</td>\n",
       "      <td>33.0</td>\n",
       "    </tr>\n",
       "    <tr>\n",
       "      <th>(63.0, 85.0]</th>\n",
       "      <td>5</td>\n",
       "      <td>5.0</td>\n",
       "    </tr>\n",
       "  </tbody>\n",
       "</table style=\"display:inline\">"
      ]
     },
     "metadata": {},
     "output_type": "display_data"
    }
   ],
   "source": [
    "comparer_cible('age_cli_CAT')"
   ]
  },
  {
   "cell_type": "code",
   "execution_count": 144,
   "metadata": {},
   "outputs": [],
   "source": [
    "#ANC_EMPLOI\n",
    "df['ANC_EMPLOI'] = df['ANC_EMPLOI']/12\n",
    "df['ANC_EMPLOI_CAT'] = 0\n",
    "df.loc[(df['ANC_EMPLOI']<=5), ['ANC_EMPLOI_CAT']] = '(0, 5]'\n",
    "df.loc[(df['ANC_EMPLOI']>5) & (df['ANC_EMPLOI']<=10), ['ANC_EMPLOI_CAT']] = '(5, 10]'\n",
    "df.loc[(df['ANC_EMPLOI']>10) & (df['ANC_EMPLOI']<=20), ['ANC_EMPLOI_CAT']] = '(10, 20]'\n",
    "df.loc[(df['ANC_EMPLOI']>20), ['ANC_EMPLOI_CAT']] = '(20, .]'\n",
    "\n",
    "#AGE_VEH\n",
    "df['AGE_VEH_CAT'] = 0\n",
    "df.loc[(df['AGE_VEH']==0), ['AGE_VEH_CAT']] = '0'\n",
    "df.loc[(df['AGE_VEH']>0) & (df['AGE_VEH']<=40), ['AGE_VEH_CAT']] = '(0,40]'\n",
    "df.loc[(df['AGE_VEH']>40), ['AGE_VEH_CAT']] = '(40,.]'\n",
    "\n",
    "#PRIX_VEH\n",
    "df['PRIX_VEH_CAT'] = 0\n",
    "df.loc[(df['PRIX_VEH']<=13000), ['PRIX_VEH_CAT']] = '(0,13000]'\n",
    "df.loc[(df['PRIX_VEH']>13000), ['PRIX_VEH_CAT']] = '(13000,.]'\n",
    "\n",
    "#MT_APPORT\n",
    "df['MT_APPORT_CAT'] = 0\n",
    "df.loc[(df['MT_APPORT']<=3000), ['MT_APPORT_CAT']] = '(0,3000]'\n",
    "df.loc[(df['MT_APPORT']>3000), ['MT_APPORT_CAT']] = '(3000,.]'\n",
    "\n",
    "#pc_apport\n",
    "df['pc_appo_CAT'] = 0\n",
    "df.loc[df['pc_appo']<=22, ['pc_appo_CAT']] = '(0, 22]'\n",
    "df.loc[(df['pc_appo']>22), ['pc_appo_CAT']] = '(22, .]'\n",
    "\n",
    "#MT_FINANCE\n",
    "df['MT_FINANCE_CAT']=0\n",
    "df.loc[(df['MT_FINANCE']<=9000), ['MT_FINANCE_CAT']] = '(0,9000]'\n",
    "df.loc[(df['MT_FINANCE']>9000) & (df['MT_FINANCE']<=12000), ['MT_FINANCE_CAT']] = '(9000,12000]'\n",
    "df.loc[(df['MT_FINANCE']>12000), ['MT_FINANCE_CAT']] = '(12000,.]'\n",
    "\n",
    "#VR_BALLON\n",
    "df['VR_BALLON_CAT'] = 0\n",
    "df.loc[(df['VR_BALLON']==0), ['VR_BALLON_CAT']] = '0'\n",
    "df.loc[(df['VR_BALLON']>0), ['VR_BALLON_CAT']] = '>0'\n",
    "\n",
    "#DUREE_CONTRAT\n",
    "df['DUREE_CONTRAT_CAT'] = 0\n",
    "df.loc[(df['DUREE_CONTRAT']<=30), ['DUREE_CONTRAT_CAT']] = '(0,30]'\n",
    "df.loc[(df['DUREE_CONTRAT']>30) & (df['DUREE_CONTRAT']<=40), ['DUREE_CONTRAT_CAT']] = '(30, 40]'\n",
    "df.loc[(df['DUREE_CONTRAT']>40), ['DUREE_CONTRAT_CAT']] = '(40,.]'\n",
    "\n",
    "#MT_PREST\n",
    "df['MT_PREST_CAT'] = 0\n",
    "df.loc[(df['MT_PREST']==150), ['MT_PREST_CAT']] = '150'\n",
    "df.loc[(df['MT_PREST']!=150), ['MT_PREST_CAT']] = 'autre'\n",
    "\n",
    "#MT_ASSUR\n",
    "df['MT_ASSUR_CAT'] = 0\n",
    "df.loc[(df['MT_ASSUR']==0), ['MT_ASSUR_CAT']] = '0'\n",
    "df.loc[(df['MT_ASSUR']>0), ['MT_ASSUR_CAT']] = '>0'\n",
    "\n",
    "#MT_MENS\n",
    "df['MT_MENS_CAT'] = 250\n",
    "df.loc[(df['MT_MENS']<250), ['MT_MENS_CAT']] = '(0,250]'\n",
    "df.loc[(df['MT_MENS']>=250), ['MT_MENS_CAT']] = '(250,.]'"
   ]
  },
  {
   "cell_type": "markdown",
   "metadata": {},
   "source": [
    "## Analyse des variables qualitatives\n",
    "\n",
    "Cette fois-ci les variables considérée sont déjà catégorielles. Il n'est pas nécessaire de créer des classes. En revanche il faut s'assurer que chaque modalité est pertinente, c'est à dire que chaque modalité présente plus de 5 individus. On va réarranger nos variables catégorielles en ce sens"
   ]
  },
  {
   "cell_type": "code",
   "execution_count": 145,
   "metadata": {},
   "outputs": [
    {
     "data": {
      "image/png": "[encoded data removed]",
      "text/plain": [
       "<Figure size 1152x216 with 1 Axes>"
      ]
     },
     "metadata": {
      "needs_background": "light"
     },
     "output_type": "display_data"
    }
   ],
   "source": [
    "#SITUATION_FAM\n",
    "df['STITUATION_FAM_CAT'] = 0\n",
    "df.loc[df['STITUATION_FAM'].isin(['11', '4','5']), ['STITUATION_FAM_CAT']] = 'autre'\n",
    "df.loc[df['STITUATION_FAM'] == '1', ['STITUATION_FAM_CAT']] = 'marie'\n",
    "df.loc[df['STITUATION_FAM'] == '2', ['STITUATION_FAM_CAT']] = 'celibataire'\n",
    "\n",
    "#MARQUE \n",
    "plt.figure(figsize=(16,3))\n",
    "sns.countplot(df['MARQUE']);"
   ]
  },
  {
   "cell_type": "markdown",
   "metadata": {},
   "source": [
    "On réduit le nombre de modalité à 2 : 'groupe renault' et 'autre'. "
   ]
  },
  {
   "cell_type": "code",
   "execution_count": 146,
   "metadata": {},
   "outputs": [],
   "source": [
    "df['MARQUE_CAT'] =0\n",
    "df.loc[df['MARQUE'].isin(['REN', 'NIS', 'DAC']),['MARQUE_CAT']] = 'groupe_renault'\n",
    "df.loc[-df['MARQUE'].isin(['REN', 'NIS', 'DAC']),['MARQUE_CAT']] = 'autre'"
   ]
  },
  {
   "cell_type": "code",
   "execution_count": 147,
   "metadata": {},
   "outputs": [],
   "source": [
    "#On se débarasse de l'ancienne variable Marque\n",
    "df = df.drop(['MARQUE'], axis=1)"
   ]
  },
  {
   "cell_type": "markdown",
   "metadata": {},
   "source": [
    "## Feature Engeneering\n",
    "\n",
    "Pour améliorer les performances de notre modèle, on créer de nouvelles variables. Il s'agit essentiellement de variables métier et de ratio qui nous ont semblés intéressants. "
   ]
  },
  {
   "cell_type": "code",
   "execution_count": 148,
   "metadata": {},
   "outputs": [],
   "source": [
    "#PRIX_TOTAL\n",
    "df = df.assign(PRIX_TOTAL = df['PRIX_VEH']+df['MT_APPORT']+df['MT_PREST'] + df['VR_BALLON']+df['MT_ASSUR'])\n",
    "\n",
    "#MENS_par_FINANCE\n",
    "df = df.assign(MENS_par_FINANCE= df['MT_MENS']/df['MT_FINANCE'])\n",
    "\n",
    "#PREST_par_FINANCE\n",
    "df = df.assign(PREST_par_FINANCE= df['MT_PREST']/df['MT_FINANCE'])\n",
    "\n",
    "#ASSUR_par_FINANCE\n",
    "df = df.assign(ASSUR_par_FINANCE= df['MT_ASSUR']/df['MT_FINANCE'])\n",
    "\n",
    "#age_cli_par_DUREE\n",
    "df = df.assign(age_cli_par_DUREE= df['age_cli']/df['DUREE_CONTRAT'])\n",
    "\n",
    "#DUREE_C_par_FINANCE\n",
    "df = df.assign(DUREE_C_par_FINANCE= df['DUREE_CONTRAT']/df['MT_FINANCE'])"
   ]
  },
  {
   "cell_type": "code",
   "execution_count": 149,
   "metadata": {},
   "outputs": [],
   "source": [
    "#On transforme ces variables en vars. quali\n",
    "eng_feats = ['PRIX_TOTAL', 'MENS_par_FINANCE', 'DUREE_C_par_FINANCE', \\\n",
    "'PREST_par_FINANCE', 'ASSUR_par_FINANCE', 'age_cli_par_DUREE']\n",
    "cat_feats = list(df.dtypes[df.dtypes == 'object'].index)\n",
    "for col in cat_feats:\n",
    "    df[col] = df[col].astype('category',copy=False)\n",
    "\n",
    "#On se débarassse des précédentes vars. quali\n",
    "#old_cat_feats = ['ANC_EMPLOI','AGE_VEH','PRIX_VEH', 'MT_APPORT', 'pc_appo', 'MT_FINANCE',\\\n",
    "# 'VR_BALLON', 'DUREE_CONTRAT', 'MT_PREST', 'MT_ASSUR', 'MT_MENS', 'STITUATION_FAM', 'MARQUE']\n",
    "#df = df.drop(old_cat_feats, axis=1)"
   ]
  },
  {
   "cell_type": "markdown",
   "metadata": {},
   "source": [
    "## Vérification et transformation en dummies"
   ]
  },
  {
   "cell_type": "code",
   "execution_count": 150,
   "metadata": {},
   "outputs": [
    {
     "name": "stdout",
     "output_type": "stream",
     "text": [
      "<class 'pandas.core.frame.DataFrame'>\n",
      "RangeIndex: 8457 entries, 0 to 8456\n",
      "Data columns (total 37 columns):\n",
      "ANC_EMPLOI             8457 non-null float64\n",
      "STITUATION_FAM         8457 non-null category\n",
      "MODE_LOGT              8421 non-null category\n",
      "AGE_VEH                8457 non-null float64\n",
      "VN_VO                  8457 non-null category\n",
      "PRIX_VEH               8457 non-null float64\n",
      "MT_APPORT              8457 non-null float64\n",
      "MT_FINANCE             8457 non-null float64\n",
      "MT_MENS                8457 non-null float64\n",
      "VR_BALLON              8457 non-null float64\n",
      "DUREE_CONTRAT          8457 non-null int64\n",
      "MT_PREST               8457 non-null float64\n",
      "MT_ASSUR               8457 non-null float64\n",
      "age_cli                8457 non-null int64\n",
      "anciennete_rci         1186 non-null category\n",
      "pc_appo                8457 non-null int64\n",
      "def12_31               8457 non-null category\n",
      "age_cli_CAT            8457 non-null category\n",
      "ANC_EMPLOI_CAT         8457 non-null category\n",
      "AGE_VEH_CAT            8457 non-null category\n",
      "PRIX_VEH_CAT           8457 non-null category\n",
      "MT_APPORT_CAT          8457 non-null category\n",
      "pc_appo_CAT            8457 non-null category\n",
      "MT_FINANCE_CAT         8457 non-null category\n",
      "VR_BALLON_CAT          8457 non-null category\n",
      "DUREE_CONTRAT_CAT      8457 non-null category\n",
      "MT_PREST_CAT           8457 non-null category\n",
      "MT_ASSUR_CAT           8457 non-null category\n",
      "MT_MENS_CAT            8457 non-null category\n",
      "STITUATION_FAM_CAT     8457 non-null category\n",
      "MARQUE_CAT             8457 non-null category\n",
      "PRIX_TOTAL             8457 non-null float64\n",
      "MENS_par_FINANCE       8457 non-null float64\n",
      "PREST_par_FINANCE      8457 non-null float64\n",
      "ASSUR_par_FINANCE      8457 non-null float64\n",
      "age_cli_par_DUREE      8457 non-null float64\n",
      "DUREE_C_par_FINANCE    8457 non-null float64\n",
      "dtypes: category(19), float64(15), int64(3)\n",
      "memory usage: 1.3 MB\n"
     ]
    },
    {
     "data": {
      "text/plain": [
       "(8457, 37)"
      ]
     },
     "execution_count": 150,
     "metadata": {},
     "output_type": "execute_result"
    }
   ],
   "source": [
    "df.info()\n",
    "df.shape #(8457, 38) "
   ]
  },
  {
   "cell_type": "code",
   "execution_count": 151,
   "metadata": {},
   "outputs": [],
   "source": [
    "df = df.drop('def12_31', axis=1)\n",
    "df = pd.get_dummies(df)"
   ]
  },
  {
   "cell_type": "code",
   "execution_count": 152,
   "metadata": {},
   "outputs": [
    {
     "data": {
      "text/plain": [
       "(8457, 71)"
      ]
     },
     "execution_count": 152,
     "metadata": {},
     "output_type": "execute_result"
    }
   ],
   "source": [
    "#vérification \n",
    "df.shape"
   ]
  },
  {
   "cell_type": "code",
   "execution_count": 153,
   "metadata": {},
   "outputs": [
    {
     "data": {
      "text/plain": [
       "MARQUE_CAT_groupe_renault    0\n",
       "MODE_LOGT_2                  0\n",
       "STITUATION_FAM_11            0\n",
       "STITUATION_FAM_2             0\n",
       "STITUATION_FAM_3             0\n",
       "                            ..\n",
       "MT_APPORT_CAT_(0,3000]       0\n",
       "MT_APPORT_CAT_(3000,.]       0\n",
       "pc_appo_CAT_(0, 22]          0\n",
       "pc_appo_CAT_(22, .]          0\n",
       "ANC_EMPLOI                   0\n",
       "Length: 71, dtype: int64"
      ]
     },
     "execution_count": 153,
     "metadata": {},
     "output_type": "execute_result"
    }
   ],
   "source": [
    "np.where(df.isna())\n",
    "df.isna().sum(axis=0).sort_values(ascending=False)"
   ]
  },
  {
   "cell_type": "markdown",
   "metadata": {},
   "source": [
    "# Etape 2 : \n",
    "\n",
    "## Cross-validation stratifiée :\n",
    "\n",
    "On sépare notre jeu de données initiale en un jeu d'entrainement (train set) et un jeu de validation (test set). Il est crucial d'avoir le même taux de cible dans les 2 jeux de données (~1%)"
   ]
  },
  {
   "cell_type": "code",
   "execution_count": 154,
   "metadata": {},
   "outputs": [
    {
     "name": "stdout",
     "output_type": "stream",
     "text": [
      "(5919, 71) (2538, 71) (5919,) (2538,)\n"
     ]
    }
   ],
   "source": [
    "#Cross validation \n",
    "y = raw_data['def12_31']\n",
    "X_train, X_test, y_train, y_test = train_test_split(df, y, test_size= 0.3, stratify=y, random_state=1) \n",
    "print(X_train.shape, X_test.shape, y_train.shape, y_test.shape)"
   ]
  },
  {
   "cell_type": "markdown",
   "metadata": {},
   "source": [
    "## Rééchantillonnage : méthode SMOTE\n",
    "\n",
    "Le but de cette méthode de sur-échantillonnage est de créer artificiellement des données de la classe '1' à partir des 98 individus qui font défaut. \n"
   ]
  },
  {
   "cell_type": "code",
   "execution_count": 155,
   "metadata": {},
   "outputs": [
    {
     "name": "stdout",
     "output_type": "stream",
     "text": [
      "(11700, 71)\n"
     ]
    },
    {
     "data": {
      "image/png": "[encoded data removed]",
      "text/plain": [
       "<Figure size 144x144 with 1 Axes>"
      ]
     },
     "metadata": {
      "needs_background": "light"
     },
     "output_type": "display_data"
    }
   ],
   "source": [
    "#SMOTE\n",
    "X_resampled, y_resampled = SMOTE(random_state=1, k_neighbors=5).fit_resample(X_train, y_train)\n",
    "#Vérification\n",
    "print(X_resampled.shape)\n",
    "fig, ax = plt.subplots(figsize=(2,2))\n",
    "sns.countplot('def12_31', data=pd.concat([X_resampled,y_resampled], axis=1))\n",
    "ax.set_title('Répartition des Défauts et non défauts \\n dans le jeu de données d\\'entrainement');"
   ]
  },
  {
   "cell_type": "markdown",
   "metadata": {},
   "source": [
    "## Standardisation des données\n"
   ]
  },
  {
   "cell_type": "code",
   "execution_count": 156,
   "metadata": {},
   "outputs": [],
   "source": [
    "X_sc_resampled = pd.DataFrame(preprocessing.scale(X_resampled), columns=X_resampled.columns)\n",
    "X_sc_test = pd.DataFrame(preprocessing.scale(X_test), columns= X_test.columns)"
   ]
  },
  {
   "cell_type": "code",
   "execution_count": 157,
   "metadata": {},
   "outputs": [],
   "source": [
    "#On s'assure que les données soient dans le bon format\n",
    "y_resampled = y_resampled.astype('uint8')\n",
    "y_train = y_train.astype('uint8')\n",
    "y_test = y_test.astype('uint8')"
   ]
  },
  {
   "cell_type": "markdown",
   "metadata": {},
   "source": [
    "## 1er modèle : Régression Logistique "
   ]
  },
  {
   "cell_type": "code",
   "execution_count": 158,
   "metadata": {},
   "outputs": [],
   "source": [
    "params = {\n",
    "    'penalty':('l2', 'none'), \n",
    "    'C': (0.001, 0.01, 0.1),\n",
    "    'solver': ['newton-cg', 'lbfgs', 'sag'],    \n",
    "    'l1_ratio': np.arange(0.1,0.9,0.1),\n",
    "}\n",
    "\n",
    "lr_clf = GridSearchCV(\n",
    "    estimator = LogisticRegression(max_iter=10000),\n",
    "    param_grid = params,\n",
    "    cv = 5, #specify the number of folds in a (Stratified)KFold\n",
    "    scoring =['precision', 'recall', 'f1'],\n",
    "    refit = 'f1',\n",
    "    n_jobs = -1, #1 pas de parallélisation / -1 parallélisation\n",
    "    verbose=1\n",
    "    )\n",
    "    \n",
    "#lr_clf.fit(X_sc_resampled, y_resampled)"
   ]
  },
  {
   "cell_type": "markdown",
   "metadata": {},
   "source": [
    "On obtient notre meilleur classifier pour la régression logistique : "
   ]
  },
  {
   "cell_type": "code",
   "execution_count": 159,
   "metadata": {},
   "outputs": [],
   "source": [
    "lr_clf = LogisticRegression(penalty='l1', solver='liblinear', C=0.01)"
   ]
  },
  {
   "cell_type": "code",
   "execution_count": 160,
   "metadata": {},
   "outputs": [
    {
     "data": {
      "text/html": [
       "<div>\n",
       "<style scoped>\n",
       "    .dataframe tbody tr th:only-of-type {\n",
       "        vertical-align: middle;\n",
       "    }\n",
       "\n",
       "    .dataframe tbody tr th {\n",
       "        vertical-align: top;\n",
       "    }\n",
       "\n",
       "    .dataframe thead th {\n",
       "        text-align: right;\n",
       "    }\n",
       "</style>\n",
       "<table border=\"1\" class=\"dataframe\">\n",
       "  <thead>\n",
       "    <tr style=\"text-align: right;\">\n",
       "      <th></th>\n",
       "      <th>alpha</th>\n",
       "      <th>effectif</th>\n",
       "      <th>nb_positif</th>\n",
       "      <th>pc_positif</th>\n",
       "      <th>alpha_lift</th>\n",
       "      <th>cum_effectif</th>\n",
       "      <th>cum_positif</th>\n",
       "      <th>cum_alpha_lift</th>\n",
       "    </tr>\n",
       "  </thead>\n",
       "  <tbody>\n",
       "    <tr>\n",
       "      <td>0</td>\n",
       "      <td>0.1</td>\n",
       "      <td>254</td>\n",
       "      <td>11</td>\n",
       "      <td>4.330709</td>\n",
       "      <td>3.790117</td>\n",
       "      <td>254</td>\n",
       "      <td>11</td>\n",
       "      <td>3.790117</td>\n",
       "    </tr>\n",
       "    <tr>\n",
       "      <td>1</td>\n",
       "      <td>0.2</td>\n",
       "      <td>254</td>\n",
       "      <td>5</td>\n",
       "      <td>1.968504</td>\n",
       "      <td>1.722780</td>\n",
       "      <td>508</td>\n",
       "      <td>16</td>\n",
       "      <td>2.756449</td>\n",
       "    </tr>\n",
       "    <tr>\n",
       "      <td>2</td>\n",
       "      <td>0.3</td>\n",
       "      <td>254</td>\n",
       "      <td>2</td>\n",
       "      <td>0.787402</td>\n",
       "      <td>0.689112</td>\n",
       "      <td>762</td>\n",
       "      <td>18</td>\n",
       "      <td>2.067336</td>\n",
       "    </tr>\n",
       "    <tr>\n",
       "      <td>3</td>\n",
       "      <td>0.4</td>\n",
       "      <td>254</td>\n",
       "      <td>2</td>\n",
       "      <td>0.787402</td>\n",
       "      <td>0.689112</td>\n",
       "      <td>1016</td>\n",
       "      <td>20</td>\n",
       "      <td>1.722780</td>\n",
       "    </tr>\n",
       "    <tr>\n",
       "      <td>4</td>\n",
       "      <td>0.5</td>\n",
       "      <td>254</td>\n",
       "      <td>4</td>\n",
       "      <td>1.574803</td>\n",
       "      <td>1.378224</td>\n",
       "      <td>1270</td>\n",
       "      <td>24</td>\n",
       "      <td>1.653869</td>\n",
       "    </tr>\n",
       "    <tr>\n",
       "      <td>5</td>\n",
       "      <td>0.6</td>\n",
       "      <td>254</td>\n",
       "      <td>2</td>\n",
       "      <td>0.787402</td>\n",
       "      <td>0.689112</td>\n",
       "      <td>1524</td>\n",
       "      <td>26</td>\n",
       "      <td>1.493076</td>\n",
       "    </tr>\n",
       "    <tr>\n",
       "      <td>6</td>\n",
       "      <td>0.7</td>\n",
       "      <td>254</td>\n",
       "      <td>2</td>\n",
       "      <td>0.787402</td>\n",
       "      <td>0.689112</td>\n",
       "      <td>1778</td>\n",
       "      <td>28</td>\n",
       "      <td>1.378224</td>\n",
       "    </tr>\n",
       "    <tr>\n",
       "      <td>7</td>\n",
       "      <td>0.8</td>\n",
       "      <td>254</td>\n",
       "      <td>1</td>\n",
       "      <td>0.393701</td>\n",
       "      <td>0.344556</td>\n",
       "      <td>2032</td>\n",
       "      <td>29</td>\n",
       "      <td>1.249016</td>\n",
       "    </tr>\n",
       "    <tr>\n",
       "      <td>8</td>\n",
       "      <td>0.9</td>\n",
       "      <td>254</td>\n",
       "      <td>0</td>\n",
       "      <td>0.000000</td>\n",
       "      <td>0.000000</td>\n",
       "      <td>2286</td>\n",
       "      <td>29</td>\n",
       "      <td>1.110236</td>\n",
       "    </tr>\n",
       "    <tr>\n",
       "      <td>9</td>\n",
       "      <td>1.0</td>\n",
       "      <td>254</td>\n",
       "      <td>0</td>\n",
       "      <td>0.000000</td>\n",
       "      <td>0.000000</td>\n",
       "      <td>2540</td>\n",
       "      <td>29</td>\n",
       "      <td>0.999213</td>\n",
       "    </tr>\n",
       "  </tbody>\n",
       "</table>\n",
       "</div>"
      ],
      "text/plain": [
       "   alpha  effectif  nb_positif  pc_positif  alpha_lift  cum_effectif  \\\n",
       "0    0.1       254          11    4.330709    3.790117           254   \n",
       "1    0.2       254           5    1.968504    1.722780           508   \n",
       "2    0.3       254           2    0.787402    0.689112           762   \n",
       "3    0.4       254           2    0.787402    0.689112          1016   \n",
       "4    0.5       254           4    1.574803    1.378224          1270   \n",
       "5    0.6       254           2    0.787402    0.689112          1524   \n",
       "6    0.7       254           2    0.787402    0.689112          1778   \n",
       "7    0.8       254           1    0.393701    0.344556          2032   \n",
       "8    0.9       254           0    0.000000    0.000000          2286   \n",
       "9    1.0       254           0    0.000000    0.000000          2540   \n",
       "\n",
       "   cum_positif  cum_alpha_lift  \n",
       "0           11        3.790117  \n",
       "1           16        2.756449  \n",
       "2           18        2.067336  \n",
       "3           20        1.722780  \n",
       "4           24        1.653869  \n",
       "5           26        1.493076  \n",
       "6           28        1.378224  \n",
       "7           29        1.249016  \n",
       "8           29        1.110236  \n",
       "9           29        0.999213  "
      ]
     },
     "execution_count": 160,
     "metadata": {},
     "output_type": "execute_result"
    }
   ],
   "source": [
    "table_lift = lift_table(lr_clf, X_sc_resampled, X_sc_test, y_resampled, y_test)\n",
    "table_lift"
   ]
  },
  {
   "cell_type": "markdown",
   "metadata": {},
   "source": [
    "# Etape 3 : Modèles ensemblistes : Boosting & Random Forest \n",
    "\n",
    "\n",
    "## Boosting \n",
    "\n",
    "Le boosting dans cet exemple donne de mauvais résultats. On ne s'attardera donc pas sur cet algorithme. "
   ]
  },
  {
   "cell_type": "code",
   "execution_count": 161,
   "metadata": {},
   "outputs": [
    {
     "data": {
      "text/html": [
       "<div>\n",
       "<style scoped>\n",
       "    .dataframe tbody tr th:only-of-type {\n",
       "        vertical-align: middle;\n",
       "    }\n",
       "\n",
       "    .dataframe tbody tr th {\n",
       "        vertical-align: top;\n",
       "    }\n",
       "\n",
       "    .dataframe thead th {\n",
       "        text-align: right;\n",
       "    }\n",
       "</style>\n",
       "<table border=\"1\" class=\"dataframe\">\n",
       "  <thead>\n",
       "    <tr style=\"text-align: right;\">\n",
       "      <th></th>\n",
       "      <th>alpha</th>\n",
       "      <th>effectif</th>\n",
       "      <th>nb_positif</th>\n",
       "      <th>pc_positif</th>\n",
       "      <th>alpha_lift</th>\n",
       "      <th>cum_effectif</th>\n",
       "      <th>cum_positif</th>\n",
       "      <th>cum_alpha_lift</th>\n",
       "    </tr>\n",
       "  </thead>\n",
       "  <tbody>\n",
       "    <tr>\n",
       "      <td>0</td>\n",
       "      <td>0.1</td>\n",
       "      <td>254</td>\n",
       "      <td>3</td>\n",
       "      <td>1.181102</td>\n",
       "      <td>1.033668</td>\n",
       "      <td>254</td>\n",
       "      <td>3</td>\n",
       "      <td>1.033668</td>\n",
       "    </tr>\n",
       "    <tr>\n",
       "      <td>1</td>\n",
       "      <td>0.2</td>\n",
       "      <td>254</td>\n",
       "      <td>7</td>\n",
       "      <td>2.755906</td>\n",
       "      <td>2.411892</td>\n",
       "      <td>508</td>\n",
       "      <td>10</td>\n",
       "      <td>1.722780</td>\n",
       "    </tr>\n",
       "    <tr>\n",
       "      <td>2</td>\n",
       "      <td>0.3</td>\n",
       "      <td>254</td>\n",
       "      <td>5</td>\n",
       "      <td>1.968504</td>\n",
       "      <td>1.722780</td>\n",
       "      <td>762</td>\n",
       "      <td>15</td>\n",
       "      <td>1.722780</td>\n",
       "    </tr>\n",
       "    <tr>\n",
       "      <td>3</td>\n",
       "      <td>0.4</td>\n",
       "      <td>254</td>\n",
       "      <td>2</td>\n",
       "      <td>0.787402</td>\n",
       "      <td>0.689112</td>\n",
       "      <td>1016</td>\n",
       "      <td>17</td>\n",
       "      <td>1.464363</td>\n",
       "    </tr>\n",
       "    <tr>\n",
       "      <td>4</td>\n",
       "      <td>0.5</td>\n",
       "      <td>254</td>\n",
       "      <td>4</td>\n",
       "      <td>1.574803</td>\n",
       "      <td>1.378224</td>\n",
       "      <td>1270</td>\n",
       "      <td>21</td>\n",
       "      <td>1.447135</td>\n",
       "    </tr>\n",
       "    <tr>\n",
       "      <td>5</td>\n",
       "      <td>0.6</td>\n",
       "      <td>254</td>\n",
       "      <td>2</td>\n",
       "      <td>0.787402</td>\n",
       "      <td>0.689112</td>\n",
       "      <td>1524</td>\n",
       "      <td>23</td>\n",
       "      <td>1.320798</td>\n",
       "    </tr>\n",
       "    <tr>\n",
       "      <td>6</td>\n",
       "      <td>0.7</td>\n",
       "      <td>254</td>\n",
       "      <td>0</td>\n",
       "      <td>0.000000</td>\n",
       "      <td>0.000000</td>\n",
       "      <td>1778</td>\n",
       "      <td>23</td>\n",
       "      <td>1.132113</td>\n",
       "    </tr>\n",
       "    <tr>\n",
       "      <td>7</td>\n",
       "      <td>0.8</td>\n",
       "      <td>254</td>\n",
       "      <td>4</td>\n",
       "      <td>1.574803</td>\n",
       "      <td>1.378224</td>\n",
       "      <td>2032</td>\n",
       "      <td>27</td>\n",
       "      <td>1.162877</td>\n",
       "    </tr>\n",
       "    <tr>\n",
       "      <td>8</td>\n",
       "      <td>0.9</td>\n",
       "      <td>254</td>\n",
       "      <td>1</td>\n",
       "      <td>0.393701</td>\n",
       "      <td>0.344556</td>\n",
       "      <td>2286</td>\n",
       "      <td>28</td>\n",
       "      <td>1.071952</td>\n",
       "    </tr>\n",
       "    <tr>\n",
       "      <td>9</td>\n",
       "      <td>1.0</td>\n",
       "      <td>254</td>\n",
       "      <td>1</td>\n",
       "      <td>0.393701</td>\n",
       "      <td>0.344556</td>\n",
       "      <td>2540</td>\n",
       "      <td>29</td>\n",
       "      <td>0.999213</td>\n",
       "    </tr>\n",
       "  </tbody>\n",
       "</table>\n",
       "</div>"
      ],
      "text/plain": [
       "   alpha  effectif  nb_positif  pc_positif  alpha_lift  cum_effectif  \\\n",
       "0    0.1       254           3    1.181102    1.033668           254   \n",
       "1    0.2       254           7    2.755906    2.411892           508   \n",
       "2    0.3       254           5    1.968504    1.722780           762   \n",
       "3    0.4       254           2    0.787402    0.689112          1016   \n",
       "4    0.5       254           4    1.574803    1.378224          1270   \n",
       "5    0.6       254           2    0.787402    0.689112          1524   \n",
       "6    0.7       254           0    0.000000    0.000000          1778   \n",
       "7    0.8       254           4    1.574803    1.378224          2032   \n",
       "8    0.9       254           1    0.393701    0.344556          2286   \n",
       "9    1.0       254           1    0.393701    0.344556          2540   \n",
       "\n",
       "   cum_positif  cum_alpha_lift  \n",
       "0            3        1.033668  \n",
       "1           10        1.722780  \n",
       "2           15        1.722780  \n",
       "3           17        1.464363  \n",
       "4           21        1.447135  \n",
       "5           23        1.320798  \n",
       "6           23        1.132113  \n",
       "7           27        1.162877  \n",
       "8           28        1.071952  \n",
       "9           29        0.999213  "
      ]
     },
     "execution_count": 161,
     "metadata": {},
     "output_type": "execute_result"
    }
   ],
   "source": [
    "gb_clf = GradientBoostingClassifier(learning_rate = 0.01, n_estimators= 1500, max_depth=4, min_samples_split=2, min_samples_leaf=1,\n",
    "                               subsample=1, max_features='sqrt')\n",
    "\n",
    "lift_table(gb_clf, X_sc_resampled, X_sc_test, y_resampled, y_test)"
   ]
  },
  {
   "cell_type": "code",
   "execution_count": 162,
   "metadata": {},
   "outputs": [
    {
     "data": {
      "image/png": "[encoded data removed]",
      "text/plain": [
       "<Figure size 432x288 with 1 Axes>"
      ]
     },
     "metadata": {
      "needs_background": "light"
     },
     "output_type": "display_data"
    }
   ],
   "source": [
    "feature_importance(gb_clf, X_sc_resampled, y_resampled)"
   ]
  },
  {
   "cell_type": "markdown",
   "metadata": {},
   "source": [
    "## Random Forest"
   ]
  },
  {
   "cell_type": "code",
   "execution_count": 163,
   "metadata": {},
   "outputs": [],
   "source": [
    "#GridSearch\n",
    "\n",
    "param_grid = { \n",
    "    #'bootstrap': [True, False],\n",
    "    'n_estimators': [200, 400, 600],\n",
    "    'max_features': ['auto','sqrt'],\n",
    "    'max_depth' : [2,3,4,5,6],\n",
    "    'criterion' :['gini', 'entropy']\n",
    "}\n",
    "\n",
    "rf_clf = GridSearchCV(estimator= RandomForestClassifier(random_state=1),\n",
    "                      param_grid=param_grid,\n",
    "                      cv= 5,\n",
    "                      verbose = 5,\n",
    "                      scoring = ('precision', 'recall', 'f1'),\n",
    "                      refit = 'f1',\n",
    "                      n_jobs = -1)\n",
    "\n",
    "##à dé-commenter si vous souhaitez lancer le gridsearch\n",
    "#rf_clf.fit(X_sc_resampled, y_resampled)\n",
    "#res = pd.DataFrame(rf_clf.cv_results_)\n",
    "#feats = ['param_criterion', 'param_max_depth', 'param_max_features','param_n_estimators',\\\n",
    "#         'mean_test_precision','mean_test_recall','mean_test_f1', 'rank_test_f1']\n",
    "#res[feats].sort_values('rank_test_f1').head(5)"
   ]
  },
  {
   "cell_type": "markdown",
   "metadata": {},
   "source": [
    "On obtient notre meilleur classifier pour le random Forest :"
   ]
  },
  {
   "cell_type": "code",
   "execution_count": 164,
   "metadata": {},
   "outputs": [],
   "source": [
    "rf_clf = RandomForestClassifier(n_estimators = 600,\n",
    "                            max_features = 'sqrt', \n",
    "                            max_depth = 2,\n",
    "                            criterion = 'gini', \n",
    "                            random_state = 1,\n",
    "                            verbose = 0)\n",
    "rf_clf.fit(X_sc_resampled, y_resampled)\n",
    "\n",
    "y_pred = rf_clf.predict(X_sc_test)"
   ]
  },
  {
   "cell_type": "code",
   "execution_count": 165,
   "metadata": {},
   "outputs": [
    {
     "data": {
      "image/png": "[encoded data removed]",
      "text/plain": [
       "<Figure size 432x288 with 2 Axes>"
      ]
     },
     "metadata": {
      "needs_background": "light"
     },
     "output_type": "display_data"
    }
   ],
   "source": [
    "plot_confusion_matrix(y_test, y_pred);"
   ]
  },
  {
   "cell_type": "code",
   "execution_count": 166,
   "metadata": {},
   "outputs": [
    {
     "data": {
      "image/png": "[encoded data removed]",
      "text/plain": [
       "<Figure size 432x288 with 1 Axes>"
      ]
     },
     "metadata": {
      "needs_background": "light"
     },
     "output_type": "display_data"
    }
   ],
   "source": [
    "feature_importance(rf_clf, X_sc_resampled, y_resampled)"
   ]
  },
  {
   "cell_type": "code",
   "execution_count": 167,
   "metadata": {},
   "outputs": [
    {
     "data": {
      "text/html": [
       "<div>\n",
       "<style scoped>\n",
       "    .dataframe tbody tr th:only-of-type {\n",
       "        vertical-align: middle;\n",
       "    }\n",
       "\n",
       "    .dataframe tbody tr th {\n",
       "        vertical-align: top;\n",
       "    }\n",
       "\n",
       "    .dataframe thead th {\n",
       "        text-align: right;\n",
       "    }\n",
       "</style>\n",
       "<table border=\"1\" class=\"dataframe\">\n",
       "  <thead>\n",
       "    <tr style=\"text-align: right;\">\n",
       "      <th></th>\n",
       "      <th>alpha</th>\n",
       "      <th>effectif</th>\n",
       "      <th>nb_positif</th>\n",
       "      <th>pc_positif</th>\n",
       "      <th>alpha_lift</th>\n",
       "      <th>cum_effectif</th>\n",
       "      <th>cum_positif</th>\n",
       "      <th>cum_alpha_lift</th>\n",
       "    </tr>\n",
       "  </thead>\n",
       "  <tbody>\n",
       "    <tr>\n",
       "      <td>0</td>\n",
       "      <td>0.1</td>\n",
       "      <td>254</td>\n",
       "      <td>10</td>\n",
       "      <td>3.937008</td>\n",
       "      <td>3.445561</td>\n",
       "      <td>254</td>\n",
       "      <td>10</td>\n",
       "      <td>3.445561</td>\n",
       "    </tr>\n",
       "    <tr>\n",
       "      <td>1</td>\n",
       "      <td>0.2</td>\n",
       "      <td>254</td>\n",
       "      <td>5</td>\n",
       "      <td>1.968504</td>\n",
       "      <td>1.722780</td>\n",
       "      <td>508</td>\n",
       "      <td>15</td>\n",
       "      <td>2.584171</td>\n",
       "    </tr>\n",
       "    <tr>\n",
       "      <td>2</td>\n",
       "      <td>0.3</td>\n",
       "      <td>254</td>\n",
       "      <td>6</td>\n",
       "      <td>2.362205</td>\n",
       "      <td>2.067336</td>\n",
       "      <td>762</td>\n",
       "      <td>21</td>\n",
       "      <td>2.411892</td>\n",
       "    </tr>\n",
       "    <tr>\n",
       "      <td>3</td>\n",
       "      <td>0.4</td>\n",
       "      <td>254</td>\n",
       "      <td>2</td>\n",
       "      <td>0.787402</td>\n",
       "      <td>0.689112</td>\n",
       "      <td>1016</td>\n",
       "      <td>23</td>\n",
       "      <td>1.981197</td>\n",
       "    </tr>\n",
       "    <tr>\n",
       "      <td>4</td>\n",
       "      <td>0.5</td>\n",
       "      <td>254</td>\n",
       "      <td>0</td>\n",
       "      <td>0.000000</td>\n",
       "      <td>0.000000</td>\n",
       "      <td>1270</td>\n",
       "      <td>23</td>\n",
       "      <td>1.584958</td>\n",
       "    </tr>\n",
       "    <tr>\n",
       "      <td>5</td>\n",
       "      <td>0.6</td>\n",
       "      <td>254</td>\n",
       "      <td>3</td>\n",
       "      <td>1.181102</td>\n",
       "      <td>1.033668</td>\n",
       "      <td>1524</td>\n",
       "      <td>26</td>\n",
       "      <td>1.493076</td>\n",
       "    </tr>\n",
       "    <tr>\n",
       "      <td>6</td>\n",
       "      <td>0.7</td>\n",
       "      <td>254</td>\n",
       "      <td>1</td>\n",
       "      <td>0.393701</td>\n",
       "      <td>0.344556</td>\n",
       "      <td>1778</td>\n",
       "      <td>27</td>\n",
       "      <td>1.329002</td>\n",
       "    </tr>\n",
       "    <tr>\n",
       "      <td>7</td>\n",
       "      <td>0.8</td>\n",
       "      <td>254</td>\n",
       "      <td>1</td>\n",
       "      <td>0.393701</td>\n",
       "      <td>0.344556</td>\n",
       "      <td>2032</td>\n",
       "      <td>28</td>\n",
       "      <td>1.205946</td>\n",
       "    </tr>\n",
       "    <tr>\n",
       "      <td>8</td>\n",
       "      <td>0.9</td>\n",
       "      <td>254</td>\n",
       "      <td>0</td>\n",
       "      <td>0.000000</td>\n",
       "      <td>0.000000</td>\n",
       "      <td>2286</td>\n",
       "      <td>28</td>\n",
       "      <td>1.071952</td>\n",
       "    </tr>\n",
       "    <tr>\n",
       "      <td>9</td>\n",
       "      <td>1.0</td>\n",
       "      <td>254</td>\n",
       "      <td>1</td>\n",
       "      <td>0.393701</td>\n",
       "      <td>0.344556</td>\n",
       "      <td>2540</td>\n",
       "      <td>29</td>\n",
       "      <td>0.999213</td>\n",
       "    </tr>\n",
       "  </tbody>\n",
       "</table>\n",
       "</div>"
      ],
      "text/plain": [
       "   alpha  effectif  nb_positif  pc_positif  alpha_lift  cum_effectif  \\\n",
       "0    0.1       254          10    3.937008    3.445561           254   \n",
       "1    0.2       254           5    1.968504    1.722780           508   \n",
       "2    0.3       254           6    2.362205    2.067336           762   \n",
       "3    0.4       254           2    0.787402    0.689112          1016   \n",
       "4    0.5       254           0    0.000000    0.000000          1270   \n",
       "5    0.6       254           3    1.181102    1.033668          1524   \n",
       "6    0.7       254           1    0.393701    0.344556          1778   \n",
       "7    0.8       254           1    0.393701    0.344556          2032   \n",
       "8    0.9       254           0    0.000000    0.000000          2286   \n",
       "9    1.0       254           1    0.393701    0.344556          2540   \n",
       "\n",
       "   cum_positif  cum_alpha_lift  \n",
       "0           10        3.445561  \n",
       "1           15        2.584171  \n",
       "2           21        2.411892  \n",
       "3           23        1.981197  \n",
       "4           23        1.584958  \n",
       "5           26        1.493076  \n",
       "6           27        1.329002  \n",
       "7           28        1.205946  \n",
       "8           28        1.071952  \n",
       "9           29        0.999213  "
      ]
     },
     "execution_count": 167,
     "metadata": {},
     "output_type": "execute_result"
    }
   ],
   "source": [
    "table_lift = lift_table(rf_clf, X_sc_resampled, X_sc_test, y_resampled, y_test)\n",
    "table_lift"
   ]
  },
  {
   "cell_type": "markdown",
   "metadata": {},
   "source": [
    "## Meilleur modèle et performances finales"
   ]
  },
  {
   "cell_type": "markdown",
   "metadata": {},
   "source": [
    "### Courbes Lifts :"
   ]
  },
  {
   "cell_type": "code",
   "execution_count": 168,
   "metadata": {},
   "outputs": [
    {
     "data": {
      "image/png": "[encoded data removed]",
      "text/plain": [
       "<Figure size 432x288 with 1 Axes>"
      ]
     },
     "metadata": {
      "needs_background": "light"
     },
     "output_type": "display_data"
    }
   ],
   "source": [
    "arg_models = [\n",
    "    #Meilleur GB\n",
    "    GradientBoostingClassifier(learning_rate = 0.05, n_estimators= 250, max_depth=4, min_samples_split=2, min_samples_leaf=1,\n",
    "                               subsample=1, max_features='sqrt'), \n",
    "    #Meilleur LR\n",
    "    LogisticRegression(penalty='l1', solver='liblinear', C=10),\n",
    "    #Meilleur RF\n",
    "    RandomForestClassifier(n_estimators= 600, \n",
    "                           max_features='sqrt', \n",
    "                           max_depth=2, \n",
    "                           criterion='gini', \n",
    "                           random_state=1)\n",
    "]\n",
    "    \n",
    "plot_lifts(arg_models,([], \\\n",
    "[], []), X_sc_resampled, X_sc_test, y_resampled, y_test)"
   ]
  },
  {
   "cell_type": "markdown",
   "metadata": {},
   "source": [
    "### Courbes ROCs et AUC :"
   ]
  },
  {
   "cell_type": "code",
   "execution_count": 169,
   "metadata": {},
   "outputs": [
    {
     "data": {
      "image/png": "[encoded data removed]",
      "text/plain": [
       "<Figure size 432x288 with 1 Axes>"
      ]
     },
     "metadata": {
      "needs_background": "light"
     },
     "output_type": "display_data"
    },
    {
     "data": {
      "text/plain": [
       "<Figure size 432x288 with 0 Axes>"
      ]
     },
     "metadata": {},
     "output_type": "display_data"
    }
   ],
   "source": [
    "plot_ROCs(arg_models, X_sc_resampled, X_sc_test, y_resampled, y_test)"
   ]
  }
 ],
 "metadata": {
  "kernelspec": {
   "display_name": "Python 3",
   "language": "python",
   "name": "python3"
  },
  "language_info": {
   "codemirror_mode": {
    "name": "ipython",
    "version": 3
   },
   "file_extension": ".py",
   "mimetype": "text/x-python",
   "name": "python",
   "nbconvert_exporter": "python",
   "pygments_lexer": "ipython3",
   "version": "3.7.4"
  }
 },
 "nbformat": 4,
 "nbformat_minor": 2
}
