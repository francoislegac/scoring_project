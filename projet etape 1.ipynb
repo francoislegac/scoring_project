{
 "cells": [
  {
   "cell_type": "markdown",
   "metadata": {},
   "source": [
    "# Projet DS \n",
    "\n",
    "[ETAPE 1](#etap1)\n",
    "1. [Description du jeu de données](#part1)\n",
    "    - [Description des variables](#part1sec1)\n",
    "    - [Description de la cible](#part1sec2)\n",
    "    - [Valeurs manquantes](#part1sec3)\n",
    "1. [Tableaux profils colonnes](#part2)\n",
    "1. [Analyses variables qualitatives](#part3)\n",
    "1. [Feature engineering](#part4)\n",
    "1. [Bilan audit et création dummies](#part5)\n",
    "\n",
    "[ETAPE 2](#etap2)"
   ]
  },
  {
   "cell_type": "markdown",
   "metadata": {},
   "source": [
    "# ETAPE 1"
   ]
  },
  {
   "cell_type": "code",
   "execution_count": 1,
   "metadata": {},
   "outputs": [],
   "source": [
    "import numpy as np\n",
    "import pandas as pd\n",
    "import matplotlib.pyplot as plt\n",
    "import seaborn as sns\n",
    "from sklearn import preprocessing\n",
    "from sklearn.linear_model import LinearRegression\n",
    "from sklearn.feature_selection import VarianceThreshold\n",
    "from scipy import stats\n",
    "%matplotlib inline\n",
    "from sklearn.utils import resample\n",
    "from sklearn.linear_model import LogisticRegression, LogisticRegressionCV\n",
    "from sklearn.model_selection import train_test_split\n",
    "from imblearn.over_sampling import SMOTE, ADASYN\n",
    "from sklearn.ensemble import RandomForestClassifier\n",
    "from sklearn.metrics import accuracy_score, f1_score, recall_score, precision_score\n",
    "from sklearn.model_selection import GridSearchCV\n",
    "from sklearn.metrics import confusion_matrix, precision_recall_curve, auc, roc_auc_score, roc_curve, recall_score, classification_report\n",
    "from scikitplot.metrics import plot_cumulative_gain, plot_confusion_matrix, plot_roc"
   ]
  },
  {
   "cell_type": "code",
   "execution_count": 2,
   "metadata": {},
   "outputs": [
    {
     "data": {
      "text/html": [
       "<div>\n",
       "<style scoped>\n",
       "    .dataframe tbody tr th:only-of-type {\n",
       "        vertical-align: middle;\n",
       "    }\n",
       "\n",
       "    .dataframe tbody tr th {\n",
       "        vertical-align: top;\n",
       "    }\n",
       "\n",
       "    .dataframe thead th {\n",
       "        text-align: right;\n",
       "    }\n",
       "</style>\n",
       "<table border=\"1\" class=\"dataframe\">\n",
       "  <thead>\n",
       "    <tr style=\"text-align: right;\">\n",
       "      <th></th>\n",
       "      <th>ANC_EMPLOI</th>\n",
       "      <th>STITUATION_FAM</th>\n",
       "      <th>MODE_LOGT</th>\n",
       "      <th>AGE_VEH</th>\n",
       "      <th>VN_VO</th>\n",
       "      <th>MARQUE</th>\n",
       "      <th>PRIX_VEH</th>\n",
       "      <th>MT_APPORT</th>\n",
       "      <th>MT_FINANCE</th>\n",
       "      <th>MT_MENS</th>\n",
       "      <th>VR_BALLON</th>\n",
       "      <th>DUREE_CONTRAT</th>\n",
       "      <th>MT_PREST</th>\n",
       "      <th>MT_ASSUR</th>\n",
       "      <th>mois_gestion</th>\n",
       "      <th>age_cli</th>\n",
       "      <th>anciennete_rci</th>\n",
       "      <th>pc_appo</th>\n",
       "      <th>def12_31</th>\n",
       "    </tr>\n",
       "  </thead>\n",
       "  <tbody>\n",
       "    <tr>\n",
       "      <th>0</th>\n",
       "      <td>65</td>\n",
       "      <td>2</td>\n",
       "      <td>1</td>\n",
       "      <td>NaN</td>\n",
       "      <td>VN</td>\n",
       "      <td>REN</td>\n",
       "      <td>19584.65</td>\n",
       "      <td>0.0</td>\n",
       "      <td>19584.65</td>\n",
       "      <td>95.01</td>\n",
       "      <td>19584.63</td>\n",
       "      <td>6</td>\n",
       "      <td>NaN</td>\n",
       "      <td>NaN</td>\n",
       "      <td>2015-01-03</td>\n",
       "      <td>28</td>\n",
       "      <td>1</td>\n",
       "      <td>0</td>\n",
       "      <td>0</td>\n",
       "    </tr>\n",
       "    <tr>\n",
       "      <th>1</th>\n",
       "      <td>563</td>\n",
       "      <td>11</td>\n",
       "      <td>2</td>\n",
       "      <td>28.0</td>\n",
       "      <td>VO</td>\n",
       "      <td>REN</td>\n",
       "      <td>16995.00</td>\n",
       "      <td>2123.0</td>\n",
       "      <td>14872.00</td>\n",
       "      <td>312.34</td>\n",
       "      <td>NaN</td>\n",
       "      <td>60</td>\n",
       "      <td>150.0</td>\n",
       "      <td>NaN</td>\n",
       "      <td>2014-01-06</td>\n",
       "      <td>64</td>\n",
       "      <td>3</td>\n",
       "      <td>12</td>\n",
       "      <td>0</td>\n",
       "    </tr>\n",
       "    <tr>\n",
       "      <th>2</th>\n",
       "      <td>107</td>\n",
       "      <td>2</td>\n",
       "      <td>2</td>\n",
       "      <td>16.0</td>\n",
       "      <td>VO</td>\n",
       "      <td>REN</td>\n",
       "      <td>19950.00</td>\n",
       "      <td>3869.0</td>\n",
       "      <td>16081.00</td>\n",
       "      <td>329.93</td>\n",
       "      <td>NaN</td>\n",
       "      <td>60</td>\n",
       "      <td>150.0</td>\n",
       "      <td>NaN</td>\n",
       "      <td>2015-01-08</td>\n",
       "      <td>51</td>\n",
       "      <td>3</td>\n",
       "      <td>19</td>\n",
       "      <td>0</td>\n",
       "    </tr>\n",
       "    <tr>\n",
       "      <th>3</th>\n",
       "      <td>143</td>\n",
       "      <td>2</td>\n",
       "      <td>2</td>\n",
       "      <td>10.0</td>\n",
       "      <td>VO</td>\n",
       "      <td>REN</td>\n",
       "      <td>17500.00</td>\n",
       "      <td>7143.5</td>\n",
       "      <td>10356.50</td>\n",
       "      <td>217.51</td>\n",
       "      <td>NaN</td>\n",
       "      <td>60</td>\n",
       "      <td>150.0</td>\n",
       "      <td>NaN</td>\n",
       "      <td>2015-01-04</td>\n",
       "      <td>42</td>\n",
       "      <td>4</td>\n",
       "      <td>41</td>\n",
       "      <td>0</td>\n",
       "    </tr>\n",
       "    <tr>\n",
       "      <th>4</th>\n",
       "      <td>110</td>\n",
       "      <td>2</td>\n",
       "      <td>NaN</td>\n",
       "      <td>7.0</td>\n",
       "      <td>VO</td>\n",
       "      <td>REN</td>\n",
       "      <td>19740.00</td>\n",
       "      <td>3789.4</td>\n",
       "      <td>15950.60</td>\n",
       "      <td>310.33</td>\n",
       "      <td>7523.04</td>\n",
       "      <td>36</td>\n",
       "      <td>150.0</td>\n",
       "      <td>395.0</td>\n",
       "      <td>2015-01-02</td>\n",
       "      <td>34</td>\n",
       "      <td>4</td>\n",
       "      <td>19</td>\n",
       "      <td>0</td>\n",
       "    </tr>\n",
       "  </tbody>\n",
       "</table>\n",
       "</div>"
      ],
      "text/plain": [
       "   ANC_EMPLOI STITUATION_FAM MODE_LOGT  AGE_VEH VN_VO MARQUE  PRIX_VEH  \\\n",
       "0          65              2         1      NaN    VN    REN  19584.65   \n",
       "1         563             11         2     28.0    VO    REN  16995.00   \n",
       "2         107              2         2     16.0    VO    REN  19950.00   \n",
       "3         143              2         2     10.0    VO    REN  17500.00   \n",
       "4         110              2       NaN      7.0    VO    REN  19740.00   \n",
       "\n",
       "   MT_APPORT  MT_FINANCE  MT_MENS  VR_BALLON  DUREE_CONTRAT  MT_PREST  \\\n",
       "0        0.0    19584.65    95.01   19584.63              6       NaN   \n",
       "1     2123.0    14872.00   312.34        NaN             60     150.0   \n",
       "2     3869.0    16081.00   329.93        NaN             60     150.0   \n",
       "3     7143.5    10356.50   217.51        NaN             60     150.0   \n",
       "4     3789.4    15950.60   310.33    7523.04             36     150.0   \n",
       "\n",
       "   MT_ASSUR mois_gestion  age_cli anciennete_rci  pc_appo def12_31  \n",
       "0       NaN   2015-01-03       28              1        0        0  \n",
       "1       NaN   2014-01-06       64              3       12        0  \n",
       "2       NaN   2015-01-08       51              3       19        0  \n",
       "3       NaN   2015-01-04       42              4       41        0  \n",
       "4     395.0   2015-01-02       34              4       19        0  "
      ]
     },
     "execution_count": 2,
     "metadata": {},
     "output_type": "execute_result"
    }
   ],
   "source": [
    "raw_data = pd.read_csv('octroi_RCI.csv', sep = ';', decimal= ',', header=0, parse_dates=['mois_gestion'], dtype = {'STITUATION_FAM':'category', 'MODE_LOGT':'category', 'VN_VO':'category', 'MARQUE':'category', 'anciennete_rci':'category', 'def12_31': 'category'})\n",
    "df = raw_data.copy()\n",
    "df = df.drop('mois_gestion', axis=1)\n",
    "raw_data.head() #(8457, 19)"
   ]
  },
  {
   "cell_type": "code",
   "execution_count": 3,
   "metadata": {},
   "outputs": [
    {
     "name": "stdout",
     "output_type": "stream",
     "text": [
      "<class 'pandas.core.frame.DataFrame'>\n",
      "RangeIndex: 8457 entries, 0 to 8456\n",
      "Data columns (total 19 columns):\n",
      "ANC_EMPLOI        8457 non-null int64\n",
      "STITUATION_FAM    8457 non-null category\n",
      "MODE_LOGT         8349 non-null category\n",
      "AGE_VEH           2454 non-null float64\n",
      "VN_VO             8457 non-null category\n",
      "MARQUE            8457 non-null category\n",
      "PRIX_VEH          8457 non-null float64\n",
      "MT_APPORT         8457 non-null float64\n",
      "MT_FINANCE        8457 non-null float64\n",
      "MT_MENS           8457 non-null float64\n",
      "VR_BALLON         3219 non-null float64\n",
      "DUREE_CONTRAT     8457 non-null int64\n",
      "MT_PREST          7177 non-null float64\n",
      "MT_ASSUR          1702 non-null float64\n",
      "mois_gestion      8457 non-null datetime64[ns]\n",
      "age_cli           8457 non-null int64\n",
      "anciennete_rci    1186 non-null category\n",
      "pc_appo           8457 non-null int64\n",
      "def12_31          8457 non-null category\n",
      "dtypes: category(6), datetime64[ns](1), float64(8), int64(4)\n",
      "memory usage: 910.7 KB\n"
     ]
    }
   ],
   "source": [
    "raw_data.info()"
   ]
  },
  {
   "cell_type": "markdown",
   "metadata": {},
   "source": [
    "## Description du jeu de données <a id=\"part1\"></a>\n",
    "\n",
    "### Description des variables <a id=\"part1sec1\"></a>\n",
    "\n",
    "On dispose de 19 variables :\n",
    "VARIABLE / SEGMENT / TYPE / EXPECTATION\n",
    "\n",
    "**VARIABLE CIBLE**\n",
    "- **def12_31**: indique si la personne a fait défaut 1=Oui / 0=Non. var. quali. 2mod\n",
    "\n",
    "**FEATURES**\n",
    "\n",
    "Client\n",
    "- **age_cli**: Age du client. N\n",
    "- **ANC_EMPLOI** : Ancienneté à l'emploi. N\n",
    "- **STITUATION_FAM** : Situation familiale. C (6 mods) (1=Marié, 2=Célib, 3=Divorcé, 4=Veuf, 5=Séparé, 11=Colloc)\n",
    "- **MODE_LOGT** : Mode de logement C (4 mods) (1=locataire, 2=proprio, 3=autre, 4=chez les parents)\n",
    "- **anciennete_rci**: Ancienneté relation rci. C (4 mods)\n",
    "- **mois_gestion**: Mois d'entrée en gestion. C\n",
    "\n",
    "Contrat\n",
    "- **pc_appo**: Pourcentage d'apport. N\n",
    "- **MT_APPORT** : Montant de l'apport. N\n",
    "- **MT_FINANCE** : Montant financé. N\n",
    "- **MT_MENS**: Montant de la mensualité. N\n",
    "- **VR_BALLON**: Montant ballon. N\n",
    "- **DUREE_CONTRAT**: Durée du contrat. N\n",
    "- **MT_PREST**:\tMontant des prestations. N\n",
    "- **MT_ASSUR**:\tMontant des assurances. N\n",
    "\n",
    "Véhicule\n",
    "- **PRIX_VEH** : Prix du véhicule. N\n",
    "- **AGE_VEH** : Age du véhicule. N\n",
    "- **MARQUE** : Marque. C\n",
    "- **VN_VO** : Type de véhicule. C (2 mods : VN=véhicule neuf /VO= véhicule occasion)\n",
    "\n",
    "On s'attend à ce que les variables age du client, ancienneté à l'emploi, pourcentage d'apport / montant apport, durée du contrat et prix du véhicule soient les vars. les plus importantes."
   ]
  },
  {
   "cell_type": "markdown",
   "metadata": {},
   "source": [
    "### Etude de la cible <a id=\"part1sec2\"></a>\n",
    "\n",
    "\n"
   ]
  },
  {
   "cell_type": "code",
   "execution_count": 4,
   "metadata": {
    "scrolled": true
   },
   "outputs": [
    {
     "data": {
      "text/html": [
       "<div>\n",
       "<style scoped>\n",
       "    .dataframe tbody tr th:only-of-type {\n",
       "        vertical-align: middle;\n",
       "    }\n",
       "\n",
       "    .dataframe tbody tr th {\n",
       "        vertical-align: top;\n",
       "    }\n",
       "\n",
       "    .dataframe thead tr th {\n",
       "        text-align: left;\n",
       "    }\n",
       "\n",
       "    .dataframe thead tr:last-of-type th {\n",
       "        text-align: right;\n",
       "    }\n",
       "</style>\n",
       "<table border=\"1\" class=\"dataframe\">\n",
       "  <thead>\n",
       "    <tr>\n",
       "      <th></th>\n",
       "      <th>Effectif</th>\n",
       "      <th>Pourcentage</th>\n",
       "    </tr>\n",
       "    <tr>\n",
       "      <th>col_0</th>\n",
       "      <th>count</th>\n",
       "      <th>count</th>\n",
       "    </tr>\n",
       "    <tr>\n",
       "      <th>def12_31</th>\n",
       "      <th></th>\n",
       "      <th></th>\n",
       "    </tr>\n",
       "  </thead>\n",
       "  <tbody>\n",
       "    <tr>\n",
       "      <th>0</th>\n",
       "      <td>8359</td>\n",
       "      <td>99.0</td>\n",
       "    </tr>\n",
       "    <tr>\n",
       "      <th>1</th>\n",
       "      <td>98</td>\n",
       "      <td>1.0</td>\n",
       "    </tr>\n",
       "  </tbody>\n",
       "</table>\n",
       "</div>"
      ],
      "text/plain": [
       "         Effectif Pourcentage\n",
       "col_0       count       count\n",
       "def12_31                     \n",
       "0            8359        99.0\n",
       "1              98         1.0"
      ]
     },
     "execution_count": 4,
     "metadata": {},
     "output_type": "execute_result"
    }
   ],
   "source": [
    "tab_tmp = pd.crosstab(index = raw_data['def12_31'], columns ='count')\n",
    "round(tab_tmp/tab_tmp.sum(),3)\n",
    "pd.concat([tab_tmp,round(tab_tmp/tab_tmp.sum()*100,0)], axis =1, keys= ['Effectif', 'Pourcentage'])"
   ]
  },
  {
   "cell_type": "markdown",
   "metadata": {},
   "source": [
    "On observe que notre jeu de données est particulièrement déséquilibré. Environ 1% de gens ayant fait défaut."
   ]
  },
  {
   "cell_type": "markdown",
   "metadata": {},
   "source": [
    "### Valeurs manquantes <a id=\"part1sec3\"></a>\n",
    "\n",
    "A quel point les valeurs sont manquantes ? \n",
    "Est-ce dû au hasard ou est-ce qu'il y a un pattern ? \n"
   ]
  },
  {
   "cell_type": "code",
   "execution_count": 5,
   "metadata": {},
   "outputs": [
    {
     "data": {
      "text/html": [
       "<div>\n",
       "<style scoped>\n",
       "    .dataframe tbody tr th:only-of-type {\n",
       "        vertical-align: middle;\n",
       "    }\n",
       "\n",
       "    .dataframe tbody tr th {\n",
       "        vertical-align: top;\n",
       "    }\n",
       "\n",
       "    .dataframe thead th {\n",
       "        text-align: right;\n",
       "    }\n",
       "</style>\n",
       "<table border=\"1\" class=\"dataframe\">\n",
       "  <thead>\n",
       "    <tr style=\"text-align: right;\">\n",
       "      <th></th>\n",
       "      <th>Total</th>\n",
       "      <th>Percent</th>\n",
       "    </tr>\n",
       "  </thead>\n",
       "  <tbody>\n",
       "    <tr>\n",
       "      <th>anciennete_rci</th>\n",
       "      <td>7271</td>\n",
       "      <td>86.0</td>\n",
       "    </tr>\n",
       "    <tr>\n",
       "      <th>MT_ASSUR</th>\n",
       "      <td>6755</td>\n",
       "      <td>79.9</td>\n",
       "    </tr>\n",
       "    <tr>\n",
       "      <th>AGE_VEH</th>\n",
       "      <td>6003</td>\n",
       "      <td>71.0</td>\n",
       "    </tr>\n",
       "    <tr>\n",
       "      <th>VR_BALLON</th>\n",
       "      <td>5238</td>\n",
       "      <td>61.9</td>\n",
       "    </tr>\n",
       "    <tr>\n",
       "      <th>MT_PREST</th>\n",
       "      <td>1280</td>\n",
       "      <td>15.1</td>\n",
       "    </tr>\n",
       "    <tr>\n",
       "      <th>MODE_LOGT</th>\n",
       "      <td>108</td>\n",
       "      <td>1.3</td>\n",
       "    </tr>\n",
       "  </tbody>\n",
       "</table>\n",
       "</div>"
      ],
      "text/plain": [
       "                Total  Percent\n",
       "anciennete_rci   7271     86.0\n",
       "MT_ASSUR         6755     79.9\n",
       "AGE_VEH          6003     71.0\n",
       "VR_BALLON        5238     61.9\n",
       "MT_PREST         1280     15.1\n",
       "MODE_LOGT         108      1.3"
      ]
     },
     "execution_count": 5,
     "metadata": {},
     "output_type": "execute_result"
    }
   ],
   "source": [
    "total = raw_data.isnull().sum().sort_values(ascending=False)\n",
    "percentage = (round(raw_data.isnull().sum()/raw_data.isnull().count(), 3)*100).sort_values(ascending = False)\n",
    "df_tmp = pd.concat([total, percentage], axis=1, keys=['Total', 'Percent'])\n",
    "df_tmp[df_tmp['Percent'] >0]"
   ]
  },
  {
   "cell_type": "markdown",
   "metadata": {},
   "source": [
    "**QUESTIONS PROF**\n",
    "\n",
    "anciennete_rci : prof = à quoi ça correspond, on s'en débarrasse\n",
    "\n",
    "MT_ASSUR : NA par 0 (vérifier qu'on peut ne pas prendre d'ass.)\n",
    "\n",
    "AGE_VEH : remplacer les NA par 0 (car correspondance neuf)\n",
    "\n",
    "VR_BALLON : remplacer les NA par 0\n",
    "\n",
    "MT_PREST : valider que c'est bien des options (auquel cas on remplace NA par 0)\n",
    "\n",
    "\n",
    "**ANCIENNETE_RCI**"
   ]
  },
  {
   "cell_type": "code",
   "execution_count": 6,
   "metadata": {},
   "outputs": [
    {
     "data": {
      "image/png": "[encoded data removed]",
      "text/plain": [
       "<Figure size 432x288 with 1 Axes>"
      ]
     },
     "metadata": {
      "needs_background": "light"
     },
     "output_type": "display_data"
    }
   ],
   "source": [
    "sns.countplot(x='anciennete_rci', data= raw_data);"
   ]
  },
  {
   "cell_type": "markdown",
   "metadata": {},
   "source": [
    "**MT_ASSUR**"
   ]
  },
  {
   "cell_type": "code",
   "execution_count": 7,
   "metadata": {},
   "outputs": [],
   "source": [
    "df.loc[df['MT_ASSUR'] ==0] #on ne dispose d'aucune ligne dont le montant d'assurance est nul\n",
    "df = df.fillna(value={'MT_ASSUR':0})    #on peut imaginer remplacer les NaN par des zéros"
   ]
  },
  {
   "cell_type": "markdown",
   "metadata": {},
   "source": [
    "**AGE_VEH**\n",
    "\n",
    "On s'aperçoit que les valeurs manquantes correspondent aux véhicules neufs."
   ]
  },
  {
   "cell_type": "code",
   "execution_count": 8,
   "metadata": {},
   "outputs": [
    {
     "data": {
      "text/html": [
       "<div>\n",
       "<style scoped>\n",
       "    .dataframe tbody tr th:only-of-type {\n",
       "        vertical-align: middle;\n",
       "    }\n",
       "\n",
       "    .dataframe tbody tr th {\n",
       "        vertical-align: top;\n",
       "    }\n",
       "\n",
       "    .dataframe thead th {\n",
       "        text-align: right;\n",
       "    }\n",
       "</style>\n",
       "<table border=\"1\" class=\"dataframe\">\n",
       "  <thead>\n",
       "    <tr style=\"text-align: right;\">\n",
       "      <th></th>\n",
       "      <th>AGE_VEH</th>\n",
       "      <th>VN_VO</th>\n",
       "    </tr>\n",
       "  </thead>\n",
       "  <tbody>\n",
       "    <tr>\n",
       "      <th>0</th>\n",
       "      <td>NaN</td>\n",
       "      <td>VN</td>\n",
       "    </tr>\n",
       "    <tr>\n",
       "      <th>1</th>\n",
       "      <td>28.0</td>\n",
       "      <td>VO</td>\n",
       "    </tr>\n",
       "    <tr>\n",
       "      <th>2</th>\n",
       "      <td>16.0</td>\n",
       "      <td>VO</td>\n",
       "    </tr>\n",
       "    <tr>\n",
       "      <th>3</th>\n",
       "      <td>10.0</td>\n",
       "      <td>VO</td>\n",
       "    </tr>\n",
       "    <tr>\n",
       "      <th>4</th>\n",
       "      <td>7.0</td>\n",
       "      <td>VO</td>\n",
       "    </tr>\n",
       "    <tr>\n",
       "      <th>5</th>\n",
       "      <td>NaN</td>\n",
       "      <td>VN</td>\n",
       "    </tr>\n",
       "    <tr>\n",
       "      <th>6</th>\n",
       "      <td>NaN</td>\n",
       "      <td>VN</td>\n",
       "    </tr>\n",
       "    <tr>\n",
       "      <th>7</th>\n",
       "      <td>NaN</td>\n",
       "      <td>VN</td>\n",
       "    </tr>\n",
       "    <tr>\n",
       "      <th>8</th>\n",
       "      <td>3.0</td>\n",
       "      <td>VO</td>\n",
       "    </tr>\n",
       "    <tr>\n",
       "      <th>9</th>\n",
       "      <td>71.0</td>\n",
       "      <td>VO</td>\n",
       "    </tr>\n",
       "    <tr>\n",
       "      <th>10</th>\n",
       "      <td>NaN</td>\n",
       "      <td>VN</td>\n",
       "    </tr>\n",
       "    <tr>\n",
       "      <th>11</th>\n",
       "      <td>NaN</td>\n",
       "      <td>VN</td>\n",
       "    </tr>\n",
       "    <tr>\n",
       "      <th>12</th>\n",
       "      <td>47.0</td>\n",
       "      <td>VO</td>\n",
       "    </tr>\n",
       "    <tr>\n",
       "      <th>13</th>\n",
       "      <td>NaN</td>\n",
       "      <td>VN</td>\n",
       "    </tr>\n",
       "    <tr>\n",
       "      <th>14</th>\n",
       "      <td>NaN</td>\n",
       "      <td>VN</td>\n",
       "    </tr>\n",
       "    <tr>\n",
       "      <th>15</th>\n",
       "      <td>NaN</td>\n",
       "      <td>VN</td>\n",
       "    </tr>\n",
       "    <tr>\n",
       "      <th>16</th>\n",
       "      <td>NaN</td>\n",
       "      <td>VN</td>\n",
       "    </tr>\n",
       "    <tr>\n",
       "      <th>17</th>\n",
       "      <td>NaN</td>\n",
       "      <td>VN</td>\n",
       "    </tr>\n",
       "    <tr>\n",
       "      <th>18</th>\n",
       "      <td>32.0</td>\n",
       "      <td>VO</td>\n",
       "    </tr>\n",
       "    <tr>\n",
       "      <th>19</th>\n",
       "      <td>NaN</td>\n",
       "      <td>VN</td>\n",
       "    </tr>\n",
       "    <tr>\n",
       "      <th>20</th>\n",
       "      <td>NaN</td>\n",
       "      <td>VN</td>\n",
       "    </tr>\n",
       "    <tr>\n",
       "      <th>21</th>\n",
       "      <td>NaN</td>\n",
       "      <td>VN</td>\n",
       "    </tr>\n",
       "    <tr>\n",
       "      <th>22</th>\n",
       "      <td>NaN</td>\n",
       "      <td>VN</td>\n",
       "    </tr>\n",
       "    <tr>\n",
       "      <th>23</th>\n",
       "      <td>33.0</td>\n",
       "      <td>VO</td>\n",
       "    </tr>\n",
       "    <tr>\n",
       "      <th>24</th>\n",
       "      <td>40.0</td>\n",
       "      <td>VO</td>\n",
       "    </tr>\n",
       "    <tr>\n",
       "      <th>25</th>\n",
       "      <td>NaN</td>\n",
       "      <td>VN</td>\n",
       "    </tr>\n",
       "    <tr>\n",
       "      <th>26</th>\n",
       "      <td>NaN</td>\n",
       "      <td>VN</td>\n",
       "    </tr>\n",
       "    <tr>\n",
       "      <th>27</th>\n",
       "      <td>NaN</td>\n",
       "      <td>VN</td>\n",
       "    </tr>\n",
       "    <tr>\n",
       "      <th>28</th>\n",
       "      <td>18.0</td>\n",
       "      <td>VO</td>\n",
       "    </tr>\n",
       "    <tr>\n",
       "      <th>29</th>\n",
       "      <td>NaN</td>\n",
       "      <td>VN</td>\n",
       "    </tr>\n",
       "    <tr>\n",
       "      <th>...</th>\n",
       "      <td>...</td>\n",
       "      <td>...</td>\n",
       "    </tr>\n",
       "    <tr>\n",
       "      <th>8427</th>\n",
       "      <td>NaN</td>\n",
       "      <td>VN</td>\n",
       "    </tr>\n",
       "    <tr>\n",
       "      <th>8428</th>\n",
       "      <td>NaN</td>\n",
       "      <td>VN</td>\n",
       "    </tr>\n",
       "    <tr>\n",
       "      <th>8429</th>\n",
       "      <td>1.0</td>\n",
       "      <td>VO</td>\n",
       "    </tr>\n",
       "    <tr>\n",
       "      <th>8430</th>\n",
       "      <td>NaN</td>\n",
       "      <td>VN</td>\n",
       "    </tr>\n",
       "    <tr>\n",
       "      <th>8431</th>\n",
       "      <td>NaN</td>\n",
       "      <td>VN</td>\n",
       "    </tr>\n",
       "    <tr>\n",
       "      <th>8432</th>\n",
       "      <td>NaN</td>\n",
       "      <td>VN</td>\n",
       "    </tr>\n",
       "    <tr>\n",
       "      <th>8433</th>\n",
       "      <td>19.0</td>\n",
       "      <td>VO</td>\n",
       "    </tr>\n",
       "    <tr>\n",
       "      <th>8434</th>\n",
       "      <td>32.0</td>\n",
       "      <td>VO</td>\n",
       "    </tr>\n",
       "    <tr>\n",
       "      <th>8435</th>\n",
       "      <td>20.0</td>\n",
       "      <td>VO</td>\n",
       "    </tr>\n",
       "    <tr>\n",
       "      <th>8436</th>\n",
       "      <td>55.0</td>\n",
       "      <td>VO</td>\n",
       "    </tr>\n",
       "    <tr>\n",
       "      <th>8437</th>\n",
       "      <td>2.0</td>\n",
       "      <td>VO</td>\n",
       "    </tr>\n",
       "    <tr>\n",
       "      <th>8438</th>\n",
       "      <td>32.0</td>\n",
       "      <td>VO</td>\n",
       "    </tr>\n",
       "    <tr>\n",
       "      <th>8439</th>\n",
       "      <td>NaN</td>\n",
       "      <td>VN</td>\n",
       "    </tr>\n",
       "    <tr>\n",
       "      <th>8440</th>\n",
       "      <td>35.0</td>\n",
       "      <td>VO</td>\n",
       "    </tr>\n",
       "    <tr>\n",
       "      <th>8441</th>\n",
       "      <td>9.0</td>\n",
       "      <td>VO</td>\n",
       "    </tr>\n",
       "    <tr>\n",
       "      <th>8442</th>\n",
       "      <td>24.0</td>\n",
       "      <td>VO</td>\n",
       "    </tr>\n",
       "    <tr>\n",
       "      <th>8443</th>\n",
       "      <td>NaN</td>\n",
       "      <td>VN</td>\n",
       "    </tr>\n",
       "    <tr>\n",
       "      <th>8444</th>\n",
       "      <td>13.0</td>\n",
       "      <td>VO</td>\n",
       "    </tr>\n",
       "    <tr>\n",
       "      <th>8445</th>\n",
       "      <td>31.0</td>\n",
       "      <td>VO</td>\n",
       "    </tr>\n",
       "    <tr>\n",
       "      <th>8446</th>\n",
       "      <td>15.0</td>\n",
       "      <td>VO</td>\n",
       "    </tr>\n",
       "    <tr>\n",
       "      <th>8447</th>\n",
       "      <td>NaN</td>\n",
       "      <td>VN</td>\n",
       "    </tr>\n",
       "    <tr>\n",
       "      <th>8448</th>\n",
       "      <td>33.0</td>\n",
       "      <td>VO</td>\n",
       "    </tr>\n",
       "    <tr>\n",
       "      <th>8449</th>\n",
       "      <td>27.0</td>\n",
       "      <td>VO</td>\n",
       "    </tr>\n",
       "    <tr>\n",
       "      <th>8450</th>\n",
       "      <td>3.0</td>\n",
       "      <td>VO</td>\n",
       "    </tr>\n",
       "    <tr>\n",
       "      <th>8451</th>\n",
       "      <td>4.0</td>\n",
       "      <td>VO</td>\n",
       "    </tr>\n",
       "    <tr>\n",
       "      <th>8452</th>\n",
       "      <td>NaN</td>\n",
       "      <td>VN</td>\n",
       "    </tr>\n",
       "    <tr>\n",
       "      <th>8453</th>\n",
       "      <td>NaN</td>\n",
       "      <td>VN</td>\n",
       "    </tr>\n",
       "    <tr>\n",
       "      <th>8454</th>\n",
       "      <td>NaN</td>\n",
       "      <td>VN</td>\n",
       "    </tr>\n",
       "    <tr>\n",
       "      <th>8455</th>\n",
       "      <td>NaN</td>\n",
       "      <td>VN</td>\n",
       "    </tr>\n",
       "    <tr>\n",
       "      <th>8456</th>\n",
       "      <td>NaN</td>\n",
       "      <td>VN</td>\n",
       "    </tr>\n",
       "  </tbody>\n",
       "</table>\n",
       "<p>8457 rows × 2 columns</p>\n",
       "</div>"
      ],
      "text/plain": [
       "      AGE_VEH VN_VO\n",
       "0         NaN    VN\n",
       "1        28.0    VO\n",
       "2        16.0    VO\n",
       "3        10.0    VO\n",
       "4         7.0    VO\n",
       "5         NaN    VN\n",
       "6         NaN    VN\n",
       "7         NaN    VN\n",
       "8         3.0    VO\n",
       "9        71.0    VO\n",
       "10        NaN    VN\n",
       "11        NaN    VN\n",
       "12       47.0    VO\n",
       "13        NaN    VN\n",
       "14        NaN    VN\n",
       "15        NaN    VN\n",
       "16        NaN    VN\n",
       "17        NaN    VN\n",
       "18       32.0    VO\n",
       "19        NaN    VN\n",
       "20        NaN    VN\n",
       "21        NaN    VN\n",
       "22        NaN    VN\n",
       "23       33.0    VO\n",
       "24       40.0    VO\n",
       "25        NaN    VN\n",
       "26        NaN    VN\n",
       "27        NaN    VN\n",
       "28       18.0    VO\n",
       "29        NaN    VN\n",
       "...       ...   ...\n",
       "8427      NaN    VN\n",
       "8428      NaN    VN\n",
       "8429      1.0    VO\n",
       "8430      NaN    VN\n",
       "8431      NaN    VN\n",
       "8432      NaN    VN\n",
       "8433     19.0    VO\n",
       "8434     32.0    VO\n",
       "8435     20.0    VO\n",
       "8436     55.0    VO\n",
       "8437      2.0    VO\n",
       "8438     32.0    VO\n",
       "8439      NaN    VN\n",
       "8440     35.0    VO\n",
       "8441      9.0    VO\n",
       "8442     24.0    VO\n",
       "8443      NaN    VN\n",
       "8444     13.0    VO\n",
       "8445     31.0    VO\n",
       "8446     15.0    VO\n",
       "8447      NaN    VN\n",
       "8448     33.0    VO\n",
       "8449     27.0    VO\n",
       "8450      3.0    VO\n",
       "8451      4.0    VO\n",
       "8452      NaN    VN\n",
       "8453      NaN    VN\n",
       "8454      NaN    VN\n",
       "8455      NaN    VN\n",
       "8456      NaN    VN\n",
       "\n",
       "[8457 rows x 2 columns]"
      ]
     },
     "execution_count": 8,
     "metadata": {},
     "output_type": "execute_result"
    }
   ],
   "source": [
    "df[['AGE_VEH', 'VN_VO']]"
   ]
  },
  {
   "cell_type": "code",
   "execution_count": 9,
   "metadata": {},
   "outputs": [],
   "source": [
    "df = df.fillna(value={'AGE_VEH':0})"
   ]
  },
  {
   "cell_type": "markdown",
   "metadata": {},
   "source": [
    "**VR_BALLON**"
   ]
  },
  {
   "cell_type": "code",
   "execution_count": 10,
   "metadata": {},
   "outputs": [],
   "source": [
    "df = df.fillna(value={'VR_BALLON':0})"
   ]
  },
  {
   "cell_type": "markdown",
   "metadata": {},
   "source": [
    "**MT_PREST**"
   ]
  },
  {
   "cell_type": "code",
   "execution_count": 11,
   "metadata": {},
   "outputs": [
    {
     "data": {
      "image/png": "[encoded data removed]",
      "text/plain": [
       "<Figure size 432x288 with 1 Axes>"
      ]
     },
     "metadata": {
      "needs_background": "light"
     },
     "output_type": "display_data"
    }
   ],
   "source": [
    "sns.countplot(x='MT_PREST', data= raw_data);"
   ]
  },
  {
   "cell_type": "code",
   "execution_count": 12,
   "metadata": {},
   "outputs": [
    {
     "data": {
      "text/html": [
       "<div>\n",
       "<style scoped>\n",
       "    .dataframe tbody tr th:only-of-type {\n",
       "        vertical-align: middle;\n",
       "    }\n",
       "\n",
       "    .dataframe tbody tr th {\n",
       "        vertical-align: top;\n",
       "    }\n",
       "\n",
       "    .dataframe thead th {\n",
       "        text-align: right;\n",
       "    }\n",
       "</style>\n",
       "<table border=\"1\" class=\"dataframe\">\n",
       "  <thead>\n",
       "    <tr style=\"text-align: right;\">\n",
       "      <th></th>\n",
       "      <th>Total</th>\n",
       "      <th>Percent</th>\n",
       "    </tr>\n",
       "    <tr>\n",
       "      <th>MT_PREST</th>\n",
       "      <th></th>\n",
       "      <th></th>\n",
       "    </tr>\n",
       "  </thead>\n",
       "  <tbody>\n",
       "    <tr>\n",
       "      <th>75.00</th>\n",
       "      <td>166</td>\n",
       "      <td>0.02</td>\n",
       "    </tr>\n",
       "    <tr>\n",
       "      <th>150.00</th>\n",
       "      <td>6691</td>\n",
       "      <td>0.79</td>\n",
       "    </tr>\n",
       "    <tr>\n",
       "      <th>359.00</th>\n",
       "      <td>39</td>\n",
       "      <td>0.00</td>\n",
       "    </tr>\n",
       "    <tr>\n",
       "      <th>509.00</th>\n",
       "      <td>268</td>\n",
       "      <td>0.03</td>\n",
       "    </tr>\n",
       "    <tr>\n",
       "      <th>529.00</th>\n",
       "      <td>2</td>\n",
       "      <td>0.00</td>\n",
       "    </tr>\n",
       "    <tr>\n",
       "      <th>549.00</th>\n",
       "      <td>3</td>\n",
       "      <td>0.00</td>\n",
       "    </tr>\n",
       "    <tr>\n",
       "      <th>908.00</th>\n",
       "      <td>2</td>\n",
       "      <td>0.00</td>\n",
       "    </tr>\n",
       "    <tr>\n",
       "      <th>948.98</th>\n",
       "      <td>1</td>\n",
       "      <td>0.00</td>\n",
       "    </tr>\n",
       "    <tr>\n",
       "      <th>949.00</th>\n",
       "      <td>1</td>\n",
       "      <td>0.00</td>\n",
       "    </tr>\n",
       "    <tr>\n",
       "      <th>999.00</th>\n",
       "      <td>4</td>\n",
       "      <td>0.00</td>\n",
       "    </tr>\n",
       "  </tbody>\n",
       "</table>\n",
       "</div>"
      ],
      "text/plain": [
       "          Total  Percent\n",
       "MT_PREST                \n",
       "75.00       166     0.02\n",
       "150.00     6691     0.79\n",
       "359.00       39     0.00\n",
       "509.00      268     0.03\n",
       "529.00        2     0.00\n",
       "549.00        3     0.00\n",
       "908.00        2     0.00\n",
       "948.98        1     0.00\n",
       "949.00        1     0.00\n",
       "999.00        4     0.00"
      ]
     },
     "execution_count": 12,
     "metadata": {},
     "output_type": "execute_result"
    }
   ],
   "source": [
    "total = raw_data.groupby('MT_PREST').size()\n",
    "percent = round(raw_data.groupby('MT_PREST').size()/len(raw_data),2) \n",
    "pd.concat([total, percent], axis=1, keys= ['Total', 'Percent'])"
   ]
  },
  {
   "cell_type": "code",
   "execution_count": 13,
   "metadata": {},
   "outputs": [],
   "source": [
    "df = df.fillna(value={'MT_PREST':0})    "
   ]
  },
  {
   "cell_type": "markdown",
   "metadata": {},
   "source": [
    "**MODE_LOGT**"
   ]
  },
  {
   "cell_type": "code",
   "execution_count": 14,
   "metadata": {},
   "outputs": [
    {
     "data": {
      "text/plain": [
       "STITUATION_FAM\n",
       "1     61\n",
       "11     6\n",
       "2     36\n",
       "3      0\n",
       "4      1\n",
       "5      4\n",
       "dtype: int64"
      ]
     },
     "execution_count": 14,
     "metadata": {},
     "output_type": "execute_result"
    }
   ],
   "source": [
    "#rappel : situation_fam  (1=Marié, 2=Célib, 3=Divorcé, 4=Veuf, 5=Séparé, 11=Colloc)\n",
    "#MODE_LOGT Mode de logement C (4 mods) (1=locataire, 2=proprio, 3=autre, 4=chez les parents)\n",
    "df_tmp = df.loc[df['MODE_LOGT'].isna()]\n",
    "#sns.countplot(x='STITUATION_FAM', data=df_tmp);\n",
    "df_tmp.groupby('STITUATION_FAM').size()"
   ]
  },
  {
   "cell_type": "markdown",
   "metadata": {},
   "source": [
    "61 Mariés, \n",
    "36 Célibs"
   ]
  },
  {
   "cell_type": "code",
   "execution_count": 15,
   "metadata": {},
   "outputs": [
    {
     "name": "stdout",
     "output_type": "stream",
     "text": [
      "Stat = 0.363, p = 1.000, donc on rejette pas l hyp d indépendance \n"
     ]
    }
   ],
   "source": [
    "ct = pd.crosstab(df['MODE_LOGT'], df['STITUATION_FAM'], normalize=True)\n",
    "stat, p, dof, exp = stats.chi2_contingency(ct)\n",
    "print('Stat = {0:.3f}, p = {1:.3f}, donc on rejette pas l hyp d indépendance '.format(stat, p))"
   ]
  },
  {
   "cell_type": "markdown",
   "metadata": {},
   "source": [
    "Catégories fortements rpz:\n",
    "63% des inds sont mariés et proprios. Vient ensuite les célib/proprios, les célib/chez les parents, les mariés locataires. \n",
    "\n",
    "vs\n",
    "Catégories très peu représentés :\n",
    "Autre, \n",
    "\n",
    "=> 75% de chance d'être proprio.\n",
    "Intéressant de regarder les profils colonnes"
   ]
  },
  {
   "cell_type": "code",
   "execution_count": 16,
   "metadata": {},
   "outputs": [
    {
     "name": "stdout",
     "output_type": "stream",
     "text": [
      "TABLEAU PROFILS COLONNES\n"
     ]
    },
    {
     "data": {
      "text/html": [
       "<div>\n",
       "<style scoped>\n",
       "    .dataframe tbody tr th:only-of-type {\n",
       "        vertical-align: middle;\n",
       "    }\n",
       "\n",
       "    .dataframe tbody tr th {\n",
       "        vertical-align: top;\n",
       "    }\n",
       "\n",
       "    .dataframe thead th {\n",
       "        text-align: right;\n",
       "    }\n",
       "</style>\n",
       "<table border=\"1\" class=\"dataframe\">\n",
       "  <thead>\n",
       "    <tr style=\"text-align: right;\">\n",
       "      <th>STITUATION_FAM</th>\n",
       "      <th>1</th>\n",
       "      <th>11</th>\n",
       "      <th>2</th>\n",
       "      <th>3</th>\n",
       "      <th>4</th>\n",
       "      <th>5</th>\n",
       "      <th>All</th>\n",
       "    </tr>\n",
       "    <tr>\n",
       "      <th>MODE_LOGT</th>\n",
       "      <th></th>\n",
       "      <th></th>\n",
       "      <th></th>\n",
       "      <th></th>\n",
       "      <th></th>\n",
       "      <th></th>\n",
       "      <th></th>\n",
       "    </tr>\n",
       "  </thead>\n",
       "  <tbody>\n",
       "    <tr>\n",
       "      <th>1</th>\n",
       "      <td>0.102</td>\n",
       "      <td>0.353</td>\n",
       "      <td>0.212</td>\n",
       "      <td>0.223</td>\n",
       "      <td>0.026</td>\n",
       "      <td>0.305</td>\n",
       "      <td>0.137</td>\n",
       "    </tr>\n",
       "    <tr>\n",
       "      <th>2</th>\n",
       "      <td>0.883</td>\n",
       "      <td>0.538</td>\n",
       "      <td>0.379</td>\n",
       "      <td>0.702</td>\n",
       "      <td>0.967</td>\n",
       "      <td>0.627</td>\n",
       "      <td>0.764</td>\n",
       "    </tr>\n",
       "    <tr>\n",
       "      <th>3</th>\n",
       "      <td>0.004</td>\n",
       "      <td>0.058</td>\n",
       "      <td>0.013</td>\n",
       "      <td>0.008</td>\n",
       "      <td>0.000</td>\n",
       "      <td>0.017</td>\n",
       "      <td>0.008</td>\n",
       "    </tr>\n",
       "    <tr>\n",
       "      <th>4</th>\n",
       "      <td>0.011</td>\n",
       "      <td>0.052</td>\n",
       "      <td>0.397</td>\n",
       "      <td>0.066</td>\n",
       "      <td>0.007</td>\n",
       "      <td>0.051</td>\n",
       "      <td>0.091</td>\n",
       "    </tr>\n",
       "  </tbody>\n",
       "</table>\n",
       "</div>"
      ],
      "text/plain": [
       "STITUATION_FAM      1     11      2      3      4      5    All\n",
       "MODE_LOGT                                                      \n",
       "1               0.102  0.353  0.212  0.223  0.026  0.305  0.137\n",
       "2               0.883  0.538  0.379  0.702  0.967  0.627  0.764\n",
       "3               0.004  0.058  0.013  0.008  0.000  0.017  0.008\n",
       "4               0.011  0.052  0.397  0.066  0.007  0.051  0.091"
      ]
     },
     "execution_count": 16,
     "metadata": {},
     "output_type": "execute_result"
    }
   ],
   "source": [
    "#round(ct.apply(lambda col : col / sum(col), axis=0),3)\n",
    "#même chose qu'en dessous !\n",
    "print('TABLEAU PROFILS COLONNES')\n",
    "round(pd.crosstab(df['MODE_LOGT'], df['STITUATION_FAM'], normalize = 'columns', margins=True, dropna=True),3)"
   ]
  },
  {
   "cell_type": "markdown",
   "metadata": {},
   "source": [
    "#rappel : situation_fam  (1=Marié, 2=Célib, 3=Divorcé, 4=Veuf, 5=Séparé, 11=Colloc)\n",
    "#MODE_LOGT Mode de logement C (4 mods) (1=locataire, 2=proprio, 3=autre, 4=chez les parents)\n",
    "\n",
    "1 (61) : Parmi les gens mariés, 88% sont proprios\n",
    "2 (36) : Parmi les gens célibataires, c'est plus compliqué.. 1,2 ou 4..\n",
    "4 (1) : Parmi les veufs, 96% sont proprios \n",
    "5 (4) : Parmi les séparés, env 60% proprios, 30% loc\n",
    "11 (6) : Parmi les colocs, env 55% sont proprios et 35% sont locataires\n",
    "\n",
    "Il y 80% d'être proprio quand on est marié. On décide de remplacer les NA Mode Logt des mariés par proprio et on se débarrasse des autres lignes. "
   ]
  },
  {
   "cell_type": "code",
   "execution_count": 17,
   "metadata": {},
   "outputs": [
    {
     "data": {
      "text/plain": [
       "10"
      ]
     },
     "execution_count": 17,
     "metadata": {},
     "output_type": "execute_result"
    }
   ],
   "source": [
    "len(df.loc[(df['MODE_LOGT'].isna()) & (df['def12_31']=='1'),])"
   ]
  },
  {
   "cell_type": "code",
   "execution_count": 18,
   "metadata": {},
   "outputs": [],
   "source": [
    "df.loc[(df['MODE_LOGT'].isna()) & (df['STITUATION_FAM']=='1'),['MODE_LOGT']] = '2'"
   ]
  },
  {
   "cell_type": "code",
   "execution_count": 19,
   "metadata": {},
   "outputs": [],
   "source": [
    "df.loc[(df['MODE_LOGT'].isna()) & (df['STITUATION_FAM']=='11'),['MODE_LOGT']] = '2'"
   ]
  },
  {
   "cell_type": "code",
   "execution_count": 20,
   "metadata": {},
   "outputs": [],
   "source": [
    "df.loc[(df['MODE_LOGT'].isna()) & (df['STITUATION_FAM']=='4'),['MODE_LOGT']] = '2'"
   ]
  },
  {
   "cell_type": "code",
   "execution_count": 21,
   "metadata": {},
   "outputs": [],
   "source": [
    "df.loc[(df['MODE_LOGT'].isna()) & (df['STITUATION_FAM']=='5'),['MODE_LOGT']] = '2'"
   ]
  },
  {
   "cell_type": "markdown",
   "metadata": {},
   "source": [
    " **VERIFICATION NA**"
   ]
  },
  {
   "cell_type": "code",
   "execution_count": 22,
   "metadata": {},
   "outputs": [
    {
     "data": {
      "text/plain": [
       "(8457, 18)"
      ]
     },
     "execution_count": 22,
     "metadata": {},
     "output_type": "execute_result"
    }
   ],
   "source": [
    "df.shape #vs (8457, 19), on a bien supprimé 36 obs"
   ]
  },
  {
   "cell_type": "code",
   "execution_count": 23,
   "metadata": {},
   "outputs": [
    {
     "data": {
      "text/plain": [
       "anciennete_rci    7271\n",
       "MODE_LOGT           36\n",
       "def12_31             0\n",
       "MT_APPORT            0\n",
       "STITUATION_FAM       0\n",
       "AGE_VEH              0\n",
       "VN_VO                0\n",
       "MARQUE               0\n",
       "PRIX_VEH             0\n",
       "MT_FINANCE           0\n",
       "pc_appo              0\n",
       "MT_MENS              0\n",
       "VR_BALLON            0\n",
       "DUREE_CONTRAT        0\n",
       "MT_PREST             0\n",
       "MT_ASSUR             0\n",
       "age_cli              0\n",
       "ANC_EMPLOI           0\n",
       "dtype: int64"
      ]
     },
     "execution_count": 23,
     "metadata": {},
     "output_type": "execute_result"
    }
   ],
   "source": [
    "df.isnull().sum().sort_values(ascending=False)"
   ]
  },
  {
   "cell_type": "markdown",
   "metadata": {},
   "source": [
    "### Analyse des variables quantitatives \n",
    "\n",
    "On s'attend à rajouter à notre df 12 nouvelles variables (les vars quanti) (19 + 12 = 31)"
   ]
  },
  {
   "cell_type": "code",
   "execution_count": 24,
   "metadata": {},
   "outputs": [
    {
     "data": {
      "text/plain": [
       "['ANC_EMPLOI',\n",
       " 'AGE_VEH',\n",
       " 'PRIX_VEH',\n",
       " 'MT_APPORT',\n",
       " 'MT_FINANCE',\n",
       " 'MT_MENS',\n",
       " 'VR_BALLON',\n",
       " 'DUREE_CONTRAT',\n",
       " 'MT_PREST',\n",
       " 'MT_ASSUR',\n",
       " 'age_cli',\n",
       " 'pc_appo']"
      ]
     },
     "execution_count": 24,
     "metadata": {},
     "output_type": "execute_result"
    }
   ],
   "source": [
    "num_feats = df.dtypes[(df.dtypes != 'category')].index\n",
    "list(num_feats) #1"
   ]
  },
  {
   "cell_type": "markdown",
   "metadata": {},
   "source": [
    "## Tableaux Profils Colonne <a id=\"part2\"></a>"
   ]
  },
  {
   "cell_type": "markdown",
   "metadata": {},
   "source": [
    "On dispose désormais de **17** variables qualitatives à étudier"
   ]
  },
  {
   "cell_type": "code",
   "execution_count": 25,
   "metadata": {},
   "outputs": [
    {
     "data": {
      "text/plain": [
       "['STITUATION_FAM', 'MODE_LOGT', 'VN_VO', 'MARQUE', 'anciennete_rci']"
      ]
     },
     "execution_count": 25,
     "metadata": {},
     "output_type": "execute_result"
    }
   ],
   "source": [
    "#num_feats = df.dtypes[df.dtypes != 'category'].index\n",
    "cat_feats = df.dtypes[df.dtypes == 'category'].index\n",
    "cat_feats = cat_feats.drop('def12_31')\n",
    "list(cat_feats)"
   ]
  },
  {
   "cell_type": "markdown",
   "metadata": {},
   "source": [
    "On créer 2 fonctions pour nous permettre d'afficher les deux tableaux profils / colonne"
   ]
  },
  {
   "cell_type": "code",
   "execution_count": 26,
   "metadata": {},
   "outputs": [],
   "source": [
    "#Pour afficher deux tableaux en même temps\n",
    "from IPython.display import display_html\n",
    "def display_side_by_side(*args):\n",
    "    html_str=''\n",
    "    for df in args:\n",
    "        html_str+=df.to_html()\n",
    "    display_html(html_str.replace('table','table style=\"display:inline\"'),raw=True)"
   ]
  },
  {
   "cell_type": "code",
   "execution_count": 27,
   "metadata": {},
   "outputs": [],
   "source": [
    "def comparer_cible(name):\n",
    "    d1 = pd.crosstab(df.loc[df['def12_31']=='0', name], df.loc[df['def12_31']=='0','def12_31'])\n",
    "    d2 = round(pd.crosstab(df.loc[df['def12_31']=='0', name], df.loc[df['def12_31']=='0','def12_31'], normalize='columns'),2)*100\n",
    "\n",
    "    d3 = pd.crosstab(df.loc[df['def12_31']=='1', name], df.loc[df['def12_31']=='1','def12_31'])\n",
    "    d4 = round(pd.crosstab(df.loc[df['def12_31']=='1', name], df.loc[df['def12_31']=='1','def12_31'], normalize='columns'),2)*100\n",
    "    \n",
    "    df_tmp1 = pd.concat([d1,d2], axis=1, keys=['Effectif', 'Pourcentage'])\n",
    "    df_tmp2 = pd.concat([d3,d4], axis=1, keys=['Effectif', 'Pourcentage'])\n",
    "    \n",
    "    display_side_by_side(df_tmp1, df_tmp2)\n",
    "\n",
    "def afficher_chi2(name, df):\n",
    "    df_tmp = pd.crosstab(df[name], df['def12_31'])\n",
    "    stat, p, df , exp = stats.chi2_contingency(df_tmp)\n",
    "    #print('Test {0}, stat= {1:.0f}, p = {2}'.format(name, stat, p))\n",
    "    return [stat, p]"
   ]
  },
  {
   "cell_type": "code",
   "execution_count": 28,
   "metadata": {},
   "outputs": [],
   "source": [
    "def comparer_2dist(name_var,df,x=0):\n",
    "    df0 = df.loc[df['def12_31']=='0', ]\n",
    "    df1 = df.loc[df['def12_31']=='1', ]\n",
    "\n",
    "    fig, ax = plt.subplots()\n",
    "    sns.distplot(df0[name_var], hist=False, rug=True, color='b')\n",
    "    sns.distplot(df1[name_var], hist=False,rug=True, color='r')\n",
    "    ax.legend(('0', '1'), loc='upper right')\n",
    "    ax.set_xlabel(name_var)\n",
    "    ax.axvline(x);"
   ]
  },
  {
   "cell_type": "code",
   "execution_count": 29,
   "metadata": {},
   "outputs": [
    {
     "name": "stdout",
     "output_type": "stream",
     "text": [
      "Test STITUATION_FAM, stat= 115, p = 5.840388837515374e-12\n",
      "Test MODE_LOGT, stat= 39, p = 3.327401288141921e-10\n",
      "Test VN_VO, stat= 38, p = 3.528658695163948e-07\n",
      "Test MARQUE, stat= 37, p = 4.530425322578564e-08\n",
      "Test anciennete_rci, stat= 5, p = 0.322447710599715\n"
     ]
    }
   ],
   "source": [
    "l = []\n",
    "for col in cat_feats:\n",
    "    l.append(afficher_chi2(col, df))\n",
    "df_tmp = pd.DataFrame(l, columns=['stat', 'p']).sort_values('stat', ascending=False)\n",
    "for name, stat, p in zip(cat_feats, df_tmp['stat'], df_tmp['p']):\n",
    "    print('Test {0}, stat= {1:.0f}, p = {2}'.format(name, stat, p))"
   ]
  },
  {
   "cell_type": "markdown",
   "metadata": {},
   "source": [
    "**ANC_EMPLOI_CAT**"
   ]
  },
  {
   "cell_type": "code",
   "execution_count": 30,
   "metadata": {},
   "outputs": [],
   "source": [
    "df['ANC_EMPLOI'] = df['ANC_EMPLOI']/12"
   ]
  },
  {
   "cell_type": "code",
   "execution_count": 31,
   "metadata": {},
   "outputs": [],
   "source": [
    "df['ANC_EMPLOI_CAT'] = 0\n",
    "df.loc[(df['ANC_EMPLOI']<=5), ['ANC_EMPLOI_CAT']] = '(0, 5]'\n",
    "df.loc[(df['ANC_EMPLOI']>5) & (df['ANC_EMPLOI']<=10), ['ANC_EMPLOI_CAT']] = '(5, 10]'\n",
    "df.loc[(df['ANC_EMPLOI']>10) & (df['ANC_EMPLOI']<=20), ['ANC_EMPLOI_CAT']] = '(10, 20]'\n",
    "df.loc[(df['ANC_EMPLOI']>20), ['ANC_EMPLOI_CAT']] = '(20, .]'"
   ]
  },
  {
   "cell_type": "code",
   "execution_count": 32,
   "metadata": {},
   "outputs": [
    {
     "data": {
      "text/html": [
       "<table style=\"display:inline\" border=\"1\" class=\"dataframe\">\n",
       "  <thead>\n",
       "    <tr>\n",
       "      <th></th>\n",
       "      <th>Effectif</th>\n",
       "      <th>Pourcentage</th>\n",
       "    </tr>\n",
       "    <tr>\n",
       "      <th>def12_31</th>\n",
       "      <th>0</th>\n",
       "      <th>0</th>\n",
       "    </tr>\n",
       "    <tr>\n",
       "      <th>ANC_EMPLOI_CAT</th>\n",
       "      <th></th>\n",
       "      <th></th>\n",
       "    </tr>\n",
       "  </thead>\n",
       "  <tbody>\n",
       "    <tr>\n",
       "      <th>(0, 5]</th>\n",
       "      <td>1424</td>\n",
       "      <td>17.0</td>\n",
       "    </tr>\n",
       "    <tr>\n",
       "      <th>(10, 20]</th>\n",
       "      <td>2920</td>\n",
       "      <td>35.0</td>\n",
       "    </tr>\n",
       "    <tr>\n",
       "      <th>(20, .]</th>\n",
       "      <td>2051</td>\n",
       "      <td>25.0</td>\n",
       "    </tr>\n",
       "    <tr>\n",
       "      <th>(5, 10]</th>\n",
       "      <td>1964</td>\n",
       "      <td>23.0</td>\n",
       "    </tr>\n",
       "  </tbody>\n",
       "</table style=\"display:inline\"><table style=\"display:inline\" border=\"1\" class=\"dataframe\">\n",
       "  <thead>\n",
       "    <tr>\n",
       "      <th></th>\n",
       "      <th>Effectif</th>\n",
       "      <th>Pourcentage</th>\n",
       "    </tr>\n",
       "    <tr>\n",
       "      <th>def12_31</th>\n",
       "      <th>1</th>\n",
       "      <th>1</th>\n",
       "    </tr>\n",
       "    <tr>\n",
       "      <th>ANC_EMPLOI_CAT</th>\n",
       "      <th></th>\n",
       "      <th></th>\n",
       "    </tr>\n",
       "  </thead>\n",
       "  <tbody>\n",
       "    <tr>\n",
       "      <th>(0, 5]</th>\n",
       "      <td>29</td>\n",
       "      <td>30.0</td>\n",
       "    </tr>\n",
       "    <tr>\n",
       "      <th>(10, 20]</th>\n",
       "      <td>32</td>\n",
       "      <td>33.0</td>\n",
       "    </tr>\n",
       "    <tr>\n",
       "      <th>(20, .]</th>\n",
       "      <td>8</td>\n",
       "      <td>8.0</td>\n",
       "    </tr>\n",
       "    <tr>\n",
       "      <th>(5, 10]</th>\n",
       "      <td>29</td>\n",
       "      <td>30.0</td>\n",
       "    </tr>\n",
       "  </tbody>\n",
       "</table style=\"display:inline\">"
      ]
     },
     "metadata": {},
     "output_type": "display_data"
    }
   ],
   "source": [
    "comparer_cible('ANC_EMPLOI_CAT')"
   ]
  },
  {
   "cell_type": "markdown",
   "metadata": {},
   "source": [
    "La nouvelle répartition est bien plus intéressante. Le pourcentage de très jeunes employés est quasiment le double chez les personnes qui ont fait défaut. \n",
    "On observe une autre grosse différence sur l'intervalle des plus de 20 ans d'ancienneté (3x supérieur chez les non-défaut)\n",
    "\n",
    "\n",
    "**AGE_VEH_CAT**"
   ]
  },
  {
   "cell_type": "markdown",
   "metadata": {},
   "source": [
    "On a plusieurs classes qui sont très peu représentée dont il va falloir se débarrasser. "
   ]
  },
  {
   "cell_type": "code",
   "execution_count": 33,
   "metadata": {},
   "outputs": [
    {
     "data": {
      "text/plain": [
       "count    8457.000000\n",
       "mean        9.236963\n",
       "std        18.138080\n",
       "min         0.000000\n",
       "25%         0.000000\n",
       "50%         0.000000\n",
       "75%         8.000000\n",
       "max       101.000000\n",
       "Name: AGE_VEH, dtype: float64"
      ]
     },
     "execution_count": 33,
     "metadata": {},
     "output_type": "execute_result"
    },
    {
     "data": {
      "image/png": "[encoded data removed]",
      "text/plain": [
       "<Figure size 432x288 with 1 Axes>"
      ]
     },
     "metadata": {
      "needs_background": "light"
     },
     "output_type": "display_data"
    }
   ],
   "source": [
    "sns.distplot(df['AGE_VEH']);\n",
    "df['AGE_VEH'].describe()"
   ]
  },
  {
   "cell_type": "code",
   "execution_count": 34,
   "metadata": {},
   "outputs": [],
   "source": [
    "df['AGE_VEH_CAT'] = 0\n",
    "df.loc[(df['AGE_VEH']==0), ['AGE_VEH_CAT']] = '0'\n",
    "df.loc[(df['AGE_VEH']>0) & (df['AGE_VEH']<=40), ['AGE_VEH_CAT']] = '(0,40]'\n",
    "df.loc[(df['AGE_VEH']>40), ['AGE_VEH_CAT']] = '(40,.]'"
   ]
  },
  {
   "cell_type": "code",
   "execution_count": 35,
   "metadata": {},
   "outputs": [
    {
     "data": {
      "text/html": [
       "<table style=\"display:inline\" border=\"1\" class=\"dataframe\">\n",
       "  <thead>\n",
       "    <tr>\n",
       "      <th></th>\n",
       "      <th>Effectif</th>\n",
       "      <th>Pourcentage</th>\n",
       "    </tr>\n",
       "    <tr>\n",
       "      <th>def12_31</th>\n",
       "      <th>0</th>\n",
       "      <th>0</th>\n",
       "    </tr>\n",
       "    <tr>\n",
       "      <th>AGE_VEH_CAT</th>\n",
       "      <th></th>\n",
       "      <th></th>\n",
       "    </tr>\n",
       "  </thead>\n",
       "  <tbody>\n",
       "    <tr>\n",
       "      <th>(0,40]</th>\n",
       "      <td>1610</td>\n",
       "      <td>19.0</td>\n",
       "    </tr>\n",
       "    <tr>\n",
       "      <th>(40,.]</th>\n",
       "      <td>787</td>\n",
       "      <td>9.0</td>\n",
       "    </tr>\n",
       "    <tr>\n",
       "      <th>0</th>\n",
       "      <td>5962</td>\n",
       "      <td>71.0</td>\n",
       "    </tr>\n",
       "  </tbody>\n",
       "</table style=\"display:inline\"><table style=\"display:inline\" border=\"1\" class=\"dataframe\">\n",
       "  <thead>\n",
       "    <tr>\n",
       "      <th></th>\n",
       "      <th>Effectif</th>\n",
       "      <th>Pourcentage</th>\n",
       "    </tr>\n",
       "    <tr>\n",
       "      <th>def12_31</th>\n",
       "      <th>1</th>\n",
       "      <th>1</th>\n",
       "    </tr>\n",
       "    <tr>\n",
       "      <th>AGE_VEH_CAT</th>\n",
       "      <th></th>\n",
       "      <th></th>\n",
       "    </tr>\n",
       "  </thead>\n",
       "  <tbody>\n",
       "    <tr>\n",
       "      <th>(0,40]</th>\n",
       "      <td>28</td>\n",
       "      <td>29.0</td>\n",
       "    </tr>\n",
       "    <tr>\n",
       "      <th>(40,.]</th>\n",
       "      <td>29</td>\n",
       "      <td>30.0</td>\n",
       "    </tr>\n",
       "    <tr>\n",
       "      <th>0</th>\n",
       "      <td>41</td>\n",
       "      <td>42.0</td>\n",
       "    </tr>\n",
       "  </tbody>\n",
       "</table style=\"display:inline\">"
      ]
     },
     "metadata": {},
     "output_type": "display_data"
    }
   ],
   "source": [
    "comparer_cible('AGE_VEH_CAT')"
   ]
  },
  {
   "cell_type": "markdown",
   "metadata": {},
   "source": [
    "Ce découpage de la variable AGE_VEH_CAT2 est plus intéressant. On a bien 3 classes bien représentées"
   ]
  },
  {
   "cell_type": "markdown",
   "metadata": {},
   "source": [
    "**PRIX_VEH_CAT**"
   ]
  },
  {
   "cell_type": "code",
   "execution_count": 36,
   "metadata": {},
   "outputs": [
    {
     "data": {
      "image/png": "[encoded data removed]",
      "text/plain": [
       "<Figure size 432x288 with 1 Axes>"
      ]
     },
     "metadata": {
      "needs_background": "light"
     },
     "output_type": "display_data"
    }
   ],
   "source": [
    "comparer_2dist('PRIX_VEH', df, 13000)"
   ]
  },
  {
   "cell_type": "code",
   "execution_count": 37,
   "metadata": {},
   "outputs": [],
   "source": [
    "df['PRIX_VEH_CAT'] = 0\n",
    "df.loc[(df['PRIX_VEH']<=13000), ['PRIX_VEH_CAT']] = '(0,13000]'\n",
    "df.loc[(df['PRIX_VEH']>13000), ['PRIX_VEH_CAT']] = '(13000,.]'"
   ]
  },
  {
   "cell_type": "code",
   "execution_count": 38,
   "metadata": {},
   "outputs": [
    {
     "data": {
      "text/html": [
       "<table style=\"display:inline\" border=\"1\" class=\"dataframe\">\n",
       "  <thead>\n",
       "    <tr>\n",
       "      <th></th>\n",
       "      <th>Effectif</th>\n",
       "      <th>Pourcentage</th>\n",
       "    </tr>\n",
       "    <tr>\n",
       "      <th>def12_31</th>\n",
       "      <th>0</th>\n",
       "      <th>0</th>\n",
       "    </tr>\n",
       "    <tr>\n",
       "      <th>PRIX_VEH_CAT</th>\n",
       "      <th></th>\n",
       "      <th></th>\n",
       "    </tr>\n",
       "  </thead>\n",
       "  <tbody>\n",
       "    <tr>\n",
       "      <th>(0,13000]</th>\n",
       "      <td>1006</td>\n",
       "      <td>12.0</td>\n",
       "    </tr>\n",
       "    <tr>\n",
       "      <th>(13000,.]</th>\n",
       "      <td>7353</td>\n",
       "      <td>88.0</td>\n",
       "    </tr>\n",
       "  </tbody>\n",
       "</table style=\"display:inline\"><table style=\"display:inline\" border=\"1\" class=\"dataframe\">\n",
       "  <thead>\n",
       "    <tr>\n",
       "      <th></th>\n",
       "      <th>Effectif</th>\n",
       "      <th>Pourcentage</th>\n",
       "    </tr>\n",
       "    <tr>\n",
       "      <th>def12_31</th>\n",
       "      <th>1</th>\n",
       "      <th>1</th>\n",
       "    </tr>\n",
       "    <tr>\n",
       "      <th>PRIX_VEH_CAT</th>\n",
       "      <th></th>\n",
       "      <th></th>\n",
       "    </tr>\n",
       "  </thead>\n",
       "  <tbody>\n",
       "    <tr>\n",
       "      <th>(0,13000]</th>\n",
       "      <td>34</td>\n",
       "      <td>35.0</td>\n",
       "    </tr>\n",
       "    <tr>\n",
       "      <th>(13000,.]</th>\n",
       "      <td>64</td>\n",
       "      <td>65.0</td>\n",
       "    </tr>\n",
       "  </tbody>\n",
       "</table style=\"display:inline\">"
      ]
     },
     "metadata": {},
     "output_type": "display_data"
    }
   ],
   "source": [
    "comparer_cible('PRIX_VEH_CAT')"
   ]
  },
  {
   "cell_type": "markdown",
   "metadata": {},
   "source": [
    "**MT_APPORT_CAT**"
   ]
  },
  {
   "cell_type": "code",
   "execution_count": 39,
   "metadata": {},
   "outputs": [
    {
     "data": {
      "image/png": "[encoded data removed]",
      "text/plain": [
       "<Figure size 432x288 with 1 Axes>"
      ]
     },
     "metadata": {
      "needs_background": "light"
     },
     "output_type": "display_data"
    }
   ],
   "source": [
    "comparer_2dist('MT_APPORT', df, 3000)"
   ]
  },
  {
   "cell_type": "code",
   "execution_count": 40,
   "metadata": {},
   "outputs": [],
   "source": [
    "df['MT_APPORT_CAT'] = 0\n",
    "df.loc[(df['MT_APPORT']<=3000), ['MT_APPORT_CAT']] = '(0,3000]'\n",
    "df.loc[(df['MT_APPORT']>3000), ['MT_APPORT_CAT']] = '(3000,.]'"
   ]
  },
  {
   "cell_type": "code",
   "execution_count": 41,
   "metadata": {},
   "outputs": [
    {
     "data": {
      "text/html": [
       "<table style=\"display:inline\" border=\"1\" class=\"dataframe\">\n",
       "  <thead>\n",
       "    <tr>\n",
       "      <th></th>\n",
       "      <th>Effectif</th>\n",
       "      <th>Pourcentage</th>\n",
       "    </tr>\n",
       "    <tr>\n",
       "      <th>def12_31</th>\n",
       "      <th>0</th>\n",
       "      <th>0</th>\n",
       "    </tr>\n",
       "    <tr>\n",
       "      <th>MT_APPORT_CAT</th>\n",
       "      <th></th>\n",
       "      <th></th>\n",
       "    </tr>\n",
       "  </thead>\n",
       "  <tbody>\n",
       "    <tr>\n",
       "      <th>(0,3000]</th>\n",
       "      <td>3278</td>\n",
       "      <td>39.0</td>\n",
       "    </tr>\n",
       "    <tr>\n",
       "      <th>(3000,.]</th>\n",
       "      <td>5081</td>\n",
       "      <td>61.0</td>\n",
       "    </tr>\n",
       "  </tbody>\n",
       "</table style=\"display:inline\"><table style=\"display:inline\" border=\"1\" class=\"dataframe\">\n",
       "  <thead>\n",
       "    <tr>\n",
       "      <th></th>\n",
       "      <th>Effectif</th>\n",
       "      <th>Pourcentage</th>\n",
       "    </tr>\n",
       "    <tr>\n",
       "      <th>def12_31</th>\n",
       "      <th>1</th>\n",
       "      <th>1</th>\n",
       "    </tr>\n",
       "    <tr>\n",
       "      <th>MT_APPORT_CAT</th>\n",
       "      <th></th>\n",
       "      <th></th>\n",
       "    </tr>\n",
       "  </thead>\n",
       "  <tbody>\n",
       "    <tr>\n",
       "      <th>(0,3000]</th>\n",
       "      <td>66</td>\n",
       "      <td>67.0</td>\n",
       "    </tr>\n",
       "    <tr>\n",
       "      <th>(3000,.]</th>\n",
       "      <td>32</td>\n",
       "      <td>33.0</td>\n",
       "    </tr>\n",
       "  </tbody>\n",
       "</table style=\"display:inline\">"
      ]
     },
     "metadata": {},
     "output_type": "display_data"
    }
   ],
   "source": [
    "comparer_cible('MT_APPORT_CAT')"
   ]
  },
  {
   "cell_type": "markdown",
   "metadata": {},
   "source": [
    "**pc_apport_CAT**"
   ]
  },
  {
   "cell_type": "code",
   "execution_count": 42,
   "metadata": {},
   "outputs": [
    {
     "data": {
      "image/png": "[encoded data removed]",
      "text/plain": [
       "<Figure size 432x288 with 1 Axes>"
      ]
     },
     "metadata": {
      "needs_background": "light"
     },
     "output_type": "display_data"
    }
   ],
   "source": [
    "comparer_2dist('pc_appo', df, 22)"
   ]
  },
  {
   "cell_type": "code",
   "execution_count": 43,
   "metadata": {},
   "outputs": [],
   "source": [
    "df['pc_appo_CAT'] = 0\n",
    "df.loc[df['pc_appo']<=22, ['pc_appo_CAT']] = '(0, 22]'\n",
    "df.loc[(df['pc_appo']>22), ['pc_appo_CAT']] = '(22, .]'"
   ]
  },
  {
   "cell_type": "code",
   "execution_count": 44,
   "metadata": {},
   "outputs": [
    {
     "data": {
      "text/html": [
       "<table style=\"display:inline\" border=\"1\" class=\"dataframe\">\n",
       "  <thead>\n",
       "    <tr>\n",
       "      <th></th>\n",
       "      <th>Effectif</th>\n",
       "      <th>Pourcentage</th>\n",
       "    </tr>\n",
       "    <tr>\n",
       "      <th>def12_31</th>\n",
       "      <th>0</th>\n",
       "      <th>0</th>\n",
       "    </tr>\n",
       "    <tr>\n",
       "      <th>pc_appo_CAT</th>\n",
       "      <th></th>\n",
       "      <th></th>\n",
       "    </tr>\n",
       "  </thead>\n",
       "  <tbody>\n",
       "    <tr>\n",
       "      <th>(0, 22]</th>\n",
       "      <td>4059</td>\n",
       "      <td>49.0</td>\n",
       "    </tr>\n",
       "    <tr>\n",
       "      <th>(22, .]</th>\n",
       "      <td>4300</td>\n",
       "      <td>51.0</td>\n",
       "    </tr>\n",
       "  </tbody>\n",
       "</table style=\"display:inline\"><table style=\"display:inline\" border=\"1\" class=\"dataframe\">\n",
       "  <thead>\n",
       "    <tr>\n",
       "      <th></th>\n",
       "      <th>Effectif</th>\n",
       "      <th>Pourcentage</th>\n",
       "    </tr>\n",
       "    <tr>\n",
       "      <th>def12_31</th>\n",
       "      <th>1</th>\n",
       "      <th>1</th>\n",
       "    </tr>\n",
       "    <tr>\n",
       "      <th>pc_appo_CAT</th>\n",
       "      <th></th>\n",
       "      <th></th>\n",
       "    </tr>\n",
       "  </thead>\n",
       "  <tbody>\n",
       "    <tr>\n",
       "      <th>(0, 22]</th>\n",
       "      <td>73</td>\n",
       "      <td>74.0</td>\n",
       "    </tr>\n",
       "    <tr>\n",
       "      <th>(22, .]</th>\n",
       "      <td>25</td>\n",
       "      <td>26.0</td>\n",
       "    </tr>\n",
       "  </tbody>\n",
       "</table style=\"display:inline\">"
      ]
     },
     "metadata": {},
     "output_type": "display_data"
    }
   ],
   "source": [
    "comparer_cible('pc_appo_CAT')"
   ]
  },
  {
   "cell_type": "markdown",
   "metadata": {},
   "source": [
    "**MT_FINANCE_CAT**"
   ]
  },
  {
   "cell_type": "code",
   "execution_count": 113,
   "metadata": {},
   "outputs": [
    {
     "data": {
      "image/png": "[encoded data removed]",
      "text/plain": [
       "<Figure size 432x288 with 1 Axes>"
      ]
     },
     "metadata": {
      "needs_background": "light"
     },
     "output_type": "display_data"
    }
   ],
   "source": [
    "comparer_2dist('MT_FINANCE', df, 12000); #9000 & "
   ]
  },
  {
   "cell_type": "code",
   "execution_count": 46,
   "metadata": {},
   "outputs": [],
   "source": [
    "df['MT_FINANCE_CAT']=0\n",
    "df.loc[(df['MT_FINANCE']<=9000), ['MT_FINANCE_CAT']] = '(0,9000]'\n",
    "df.loc[(df['MT_FINANCE']>9000) & (df['MT_FINANCE']<=12000), ['MT_FINANCE_CAT']] = '(9000,12000]'\n",
    "df.loc[(df['MT_FINANCE']>12000), ['MT_FINANCE_CAT']] = '(12000,.]'"
   ]
  },
  {
   "cell_type": "code",
   "execution_count": 47,
   "metadata": {},
   "outputs": [
    {
     "data": {
      "text/html": [
       "<table style=\"display:inline\" border=\"1\" class=\"dataframe\">\n",
       "  <thead>\n",
       "    <tr>\n",
       "      <th></th>\n",
       "      <th>Effectif</th>\n",
       "      <th>Pourcentage</th>\n",
       "    </tr>\n",
       "    <tr>\n",
       "      <th>def12_31</th>\n",
       "      <th>0</th>\n",
       "      <th>0</th>\n",
       "    </tr>\n",
       "    <tr>\n",
       "      <th>MT_FINANCE_CAT</th>\n",
       "      <th></th>\n",
       "      <th></th>\n",
       "    </tr>\n",
       "  </thead>\n",
       "  <tbody>\n",
       "    <tr>\n",
       "      <th>(0,9000]</th>\n",
       "      <td>1422</td>\n",
       "      <td>17.0</td>\n",
       "    </tr>\n",
       "    <tr>\n",
       "      <th>(12000,.]</th>\n",
       "      <td>4734</td>\n",
       "      <td>57.0</td>\n",
       "    </tr>\n",
       "    <tr>\n",
       "      <th>(9000,12000]</th>\n",
       "      <td>2203</td>\n",
       "      <td>26.0</td>\n",
       "    </tr>\n",
       "  </tbody>\n",
       "</table style=\"display:inline\"><table style=\"display:inline\" border=\"1\" class=\"dataframe\">\n",
       "  <thead>\n",
       "    <tr>\n",
       "      <th></th>\n",
       "      <th>Effectif</th>\n",
       "      <th>Pourcentage</th>\n",
       "    </tr>\n",
       "    <tr>\n",
       "      <th>def12_31</th>\n",
       "      <th>1</th>\n",
       "      <th>1</th>\n",
       "    </tr>\n",
       "    <tr>\n",
       "      <th>MT_FINANCE_CAT</th>\n",
       "      <th></th>\n",
       "      <th></th>\n",
       "    </tr>\n",
       "  </thead>\n",
       "  <tbody>\n",
       "    <tr>\n",
       "      <th>(0,9000]</th>\n",
       "      <td>23</td>\n",
       "      <td>23.0</td>\n",
       "    </tr>\n",
       "    <tr>\n",
       "      <th>(12000,.]</th>\n",
       "      <td>52</td>\n",
       "      <td>53.0</td>\n",
       "    </tr>\n",
       "    <tr>\n",
       "      <th>(9000,12000]</th>\n",
       "      <td>23</td>\n",
       "      <td>23.0</td>\n",
       "    </tr>\n",
       "  </tbody>\n",
       "</table style=\"display:inline\">"
      ]
     },
     "metadata": {},
     "output_type": "display_data"
    }
   ],
   "source": [
    "comparer_cible('MT_FINANCE_CAT')"
   ]
  },
  {
   "cell_type": "markdown",
   "metadata": {},
   "source": [
    "On remarque qu'en dépit de notre manière de découper la variable les deux distributions sont très peu séparable ! Cela concorde avec le test du Chi2 d'indépendance. "
   ]
  },
  {
   "cell_type": "markdown",
   "metadata": {},
   "source": [
    "**VR_BALLON_CAT**"
   ]
  },
  {
   "cell_type": "code",
   "execution_count": 108,
   "metadata": {},
   "outputs": [
    {
     "data": {
      "image/png": "[encoded data removed]",
      "text/plain": [
       "<Figure size 432x288 with 1 Axes>"
      ]
     },
     "metadata": {
      "needs_background": "light"
     },
     "output_type": "display_data"
    }
   ],
   "source": [
    "comparer_2dist('VR_BALLON', df)"
   ]
  },
  {
   "cell_type": "code",
   "execution_count": 49,
   "metadata": {},
   "outputs": [],
   "source": [
    "df['VR_BALLON_CAT'] = 0\n",
    "df.loc[(df['VR_BALLON']==0), ['VR_BALLON_CAT']] = '0'\n",
    "df.loc[(df['VR_BALLON']>0), ['VR_BALLON_CAT']] = '>0'"
   ]
  },
  {
   "cell_type": "code",
   "execution_count": 50,
   "metadata": {},
   "outputs": [
    {
     "data": {
      "text/html": [
       "<table style=\"display:inline\" border=\"1\" class=\"dataframe\">\n",
       "  <thead>\n",
       "    <tr>\n",
       "      <th></th>\n",
       "      <th>Effectif</th>\n",
       "      <th>Pourcentage</th>\n",
       "    </tr>\n",
       "    <tr>\n",
       "      <th>def12_31</th>\n",
       "      <th>0</th>\n",
       "      <th>0</th>\n",
       "    </tr>\n",
       "    <tr>\n",
       "      <th>VR_BALLON_CAT</th>\n",
       "      <th></th>\n",
       "      <th></th>\n",
       "    </tr>\n",
       "  </thead>\n",
       "  <tbody>\n",
       "    <tr>\n",
       "      <th>0</th>\n",
       "      <td>5163</td>\n",
       "      <td>62.0</td>\n",
       "    </tr>\n",
       "    <tr>\n",
       "      <th>&gt;0</th>\n",
       "      <td>3196</td>\n",
       "      <td>38.0</td>\n",
       "    </tr>\n",
       "  </tbody>\n",
       "</table style=\"display:inline\"><table style=\"display:inline\" border=\"1\" class=\"dataframe\">\n",
       "  <thead>\n",
       "    <tr>\n",
       "      <th></th>\n",
       "      <th>Effectif</th>\n",
       "      <th>Pourcentage</th>\n",
       "    </tr>\n",
       "    <tr>\n",
       "      <th>def12_31</th>\n",
       "      <th>1</th>\n",
       "      <th>1</th>\n",
       "    </tr>\n",
       "    <tr>\n",
       "      <th>VR_BALLON_CAT</th>\n",
       "      <th></th>\n",
       "      <th></th>\n",
       "    </tr>\n",
       "  </thead>\n",
       "  <tbody>\n",
       "    <tr>\n",
       "      <th>0</th>\n",
       "      <td>75</td>\n",
       "      <td>77.0</td>\n",
       "    </tr>\n",
       "    <tr>\n",
       "      <th>&gt;0</th>\n",
       "      <td>23</td>\n",
       "      <td>23.0</td>\n",
       "    </tr>\n",
       "  </tbody>\n",
       "</table style=\"display:inline\">"
      ]
     },
     "metadata": {},
     "output_type": "display_data"
    }
   ],
   "source": [
    "comparer_cible('VR_BALLON_CAT')"
   ]
  },
  {
   "cell_type": "markdown",
   "metadata": {},
   "source": [
    "**DUREE_CONTRAT_CAT**"
   ]
  },
  {
   "cell_type": "code",
   "execution_count": 51,
   "metadata": {},
   "outputs": [
    {
     "data": {
      "text/plain": [
       "DUREE_CONTRAT\n",
       "5       10\n",
       "6      417\n",
       "12      28\n",
       "18       6\n",
       "24     218\n",
       "27       3\n",
       "30      25\n",
       "34       2\n",
       "36    4430\n",
       "39       1\n",
       "42      17\n",
       "48     725\n",
       "54      17\n",
       "60    2558\n",
       "dtype: int64"
      ]
     },
     "execution_count": 51,
     "metadata": {},
     "output_type": "execute_result"
    }
   ],
   "source": [
    "#sns.distplot(df['DUREE_CONTRAT']);\n",
    "df.groupby('DUREE_CONTRAT').size()"
   ]
  },
  {
   "cell_type": "code",
   "execution_count": 52,
   "metadata": {
    "scrolled": true
   },
   "outputs": [
    {
     "data": {
      "image/png": "[encoded data removed]",
      "text/plain": [
       "<Figure size 432x288 with 1 Axes>"
      ]
     },
     "metadata": {
      "needs_background": "light"
     },
     "output_type": "display_data"
    }
   ],
   "source": [
    "sns.countplot(df['DUREE_CONTRAT']);"
   ]
  },
  {
   "cell_type": "code",
   "execution_count": 53,
   "metadata": {},
   "outputs": [
    {
     "data": {
      "image/png": "[encoded data removed]",
      "text/plain": [
       "<Figure size 432x288 with 1 Axes>"
      ]
     },
     "metadata": {
      "needs_background": "light"
     },
     "output_type": "display_data"
    }
   ],
   "source": [
    "comparer_2dist('DUREE_CONTRAT', df, 41)"
   ]
  },
  {
   "cell_type": "code",
   "execution_count": 54,
   "metadata": {},
   "outputs": [],
   "source": [
    "df['DUREE_CONTRAT_CAT'] = 0\n",
    "df.loc[(df['DUREE_CONTRAT']<=30), ['DUREE_CONTRAT_CAT']] = '(0,30]'\n",
    "df.loc[(df['DUREE_CONTRAT']>30) & (df['DUREE_CONTRAT']<=40), ['DUREE_CONTRAT_CAT']] = '(30, 40]'\n",
    "df.loc[(df['DUREE_CONTRAT']>40), ['DUREE_CONTRAT_CAT']] = '(40,.]'"
   ]
  },
  {
   "cell_type": "code",
   "execution_count": 55,
   "metadata": {},
   "outputs": [
    {
     "data": {
      "text/html": [
       "<table style=\"display:inline\" border=\"1\" class=\"dataframe\">\n",
       "  <thead>\n",
       "    <tr>\n",
       "      <th></th>\n",
       "      <th>Effectif</th>\n",
       "      <th>Pourcentage</th>\n",
       "    </tr>\n",
       "    <tr>\n",
       "      <th>def12_31</th>\n",
       "      <th>0</th>\n",
       "      <th>0</th>\n",
       "    </tr>\n",
       "    <tr>\n",
       "      <th>DUREE_CONTRAT_CAT</th>\n",
       "      <th></th>\n",
       "      <th></th>\n",
       "    </tr>\n",
       "  </thead>\n",
       "  <tbody>\n",
       "    <tr>\n",
       "      <th>(0,30]</th>\n",
       "      <td>704</td>\n",
       "      <td>8.0</td>\n",
       "    </tr>\n",
       "    <tr>\n",
       "      <th>(30, 40]</th>\n",
       "      <td>4401</td>\n",
       "      <td>53.0</td>\n",
       "    </tr>\n",
       "    <tr>\n",
       "      <th>(40,.]</th>\n",
       "      <td>3254</td>\n",
       "      <td>39.0</td>\n",
       "    </tr>\n",
       "  </tbody>\n",
       "</table style=\"display:inline\"><table style=\"display:inline\" border=\"1\" class=\"dataframe\">\n",
       "  <thead>\n",
       "    <tr>\n",
       "      <th></th>\n",
       "      <th>Effectif</th>\n",
       "      <th>Pourcentage</th>\n",
       "    </tr>\n",
       "    <tr>\n",
       "      <th>def12_31</th>\n",
       "      <th>1</th>\n",
       "      <th>1</th>\n",
       "    </tr>\n",
       "    <tr>\n",
       "      <th>DUREE_CONTRAT_CAT</th>\n",
       "      <th></th>\n",
       "      <th></th>\n",
       "    </tr>\n",
       "  </thead>\n",
       "  <tbody>\n",
       "    <tr>\n",
       "      <th>(0,30]</th>\n",
       "      <td>3</td>\n",
       "      <td>3.0</td>\n",
       "    </tr>\n",
       "    <tr>\n",
       "      <th>(30, 40]</th>\n",
       "      <td>32</td>\n",
       "      <td>33.0</td>\n",
       "    </tr>\n",
       "    <tr>\n",
       "      <th>(40,.]</th>\n",
       "      <td>63</td>\n",
       "      <td>64.0</td>\n",
       "    </tr>\n",
       "  </tbody>\n",
       "</table style=\"display:inline\">"
      ]
     },
     "metadata": {},
     "output_type": "display_data"
    }
   ],
   "source": [
    "comparer_cible('DUREE_CONTRAT_CAT')"
   ]
  },
  {
   "cell_type": "markdown",
   "metadata": {},
   "source": [
    "**MT_PREST_CAT**"
   ]
  },
  {
   "cell_type": "code",
   "execution_count": 56,
   "metadata": {},
   "outputs": [
    {
     "data": {
      "image/png": "[encoded data removed]",
      "text/plain": [
       "<Figure size 432x288 with 1 Axes>"
      ]
     },
     "metadata": {
      "needs_background": "light"
     },
     "output_type": "display_data"
    }
   ],
   "source": [
    "sns.countplot(df['MT_PREST']);"
   ]
  },
  {
   "cell_type": "code",
   "execution_count": 57,
   "metadata": {},
   "outputs": [
    {
     "data": {
      "text/plain": [
       "MT_PREST\n",
       "0.0       2\n",
       "75.0      1\n",
       "150.0    92\n",
       "509.0     3\n",
       "dtype: int64"
      ]
     },
     "execution_count": 57,
     "metadata": {},
     "output_type": "execute_result"
    }
   ],
   "source": [
    "df.loc[df['def12_31']=='1',].groupby('MT_PREST').size()"
   ]
  },
  {
   "cell_type": "code",
   "execution_count": 58,
   "metadata": {},
   "outputs": [
    {
     "data": {
      "text/plain": [
       "MT_PREST\n",
       "0.00      1278\n",
       "75.00      165\n",
       "150.00    6599\n",
       "359.00      39\n",
       "509.00     265\n",
       "529.00       2\n",
       "549.00       3\n",
       "908.00       2\n",
       "948.98       1\n",
       "949.00       1\n",
       "999.00       4\n",
       "dtype: int64"
      ]
     },
     "execution_count": 58,
     "metadata": {},
     "output_type": "execute_result"
    }
   ],
   "source": [
    "df.loc[df['def12_31']=='0',].groupby('MT_PREST').size()"
   ]
  },
  {
   "cell_type": "code",
   "execution_count": 59,
   "metadata": {},
   "outputs": [],
   "source": [
    "df['MT_PREST_CAT'] = 0\n",
    "df.loc[(df['MT_PREST']==150), ['MT_PREST_CAT']] = '150'\n",
    "df.loc[(df['MT_PREST']!=150), ['MT_PREST_CAT']] = 'autre'"
   ]
  },
  {
   "cell_type": "code",
   "execution_count": 60,
   "metadata": {},
   "outputs": [
    {
     "data": {
      "text/html": [
       "<table style=\"display:inline\" border=\"1\" class=\"dataframe\">\n",
       "  <thead>\n",
       "    <tr>\n",
       "      <th></th>\n",
       "      <th>Effectif</th>\n",
       "      <th>Pourcentage</th>\n",
       "    </tr>\n",
       "    <tr>\n",
       "      <th>def12_31</th>\n",
       "      <th>0</th>\n",
       "      <th>0</th>\n",
       "    </tr>\n",
       "    <tr>\n",
       "      <th>MT_PREST_CAT</th>\n",
       "      <th></th>\n",
       "      <th></th>\n",
       "    </tr>\n",
       "  </thead>\n",
       "  <tbody>\n",
       "    <tr>\n",
       "      <th>150</th>\n",
       "      <td>6599</td>\n",
       "      <td>79.0</td>\n",
       "    </tr>\n",
       "    <tr>\n",
       "      <th>autre</th>\n",
       "      <td>1760</td>\n",
       "      <td>21.0</td>\n",
       "    </tr>\n",
       "  </tbody>\n",
       "</table style=\"display:inline\"><table style=\"display:inline\" border=\"1\" class=\"dataframe\">\n",
       "  <thead>\n",
       "    <tr>\n",
       "      <th></th>\n",
       "      <th>Effectif</th>\n",
       "      <th>Pourcentage</th>\n",
       "    </tr>\n",
       "    <tr>\n",
       "      <th>def12_31</th>\n",
       "      <th>1</th>\n",
       "      <th>1</th>\n",
       "    </tr>\n",
       "    <tr>\n",
       "      <th>MT_PREST_CAT</th>\n",
       "      <th></th>\n",
       "      <th></th>\n",
       "    </tr>\n",
       "  </thead>\n",
       "  <tbody>\n",
       "    <tr>\n",
       "      <th>150</th>\n",
       "      <td>92</td>\n",
       "      <td>94.0</td>\n",
       "    </tr>\n",
       "    <tr>\n",
       "      <th>autre</th>\n",
       "      <td>6</td>\n",
       "      <td>6.0</td>\n",
       "    </tr>\n",
       "  </tbody>\n",
       "</table style=\"display:inline\">"
      ]
     },
     "metadata": {},
     "output_type": "display_data"
    }
   ],
   "source": [
    "comparer_cible('MT_PREST_CAT')"
   ]
  },
  {
   "cell_type": "markdown",
   "metadata": {},
   "source": [
    "**MT_ASSUR**"
   ]
  },
  {
   "cell_type": "code",
   "execution_count": 61,
   "metadata": {},
   "outputs": [],
   "source": [
    "df['MT_ASSUR_CAT'] = 0\n",
    "df.loc[(df['MT_ASSUR']==0), ['MT_ASSUR_CAT']] = '0'\n",
    "df.loc[(df['MT_ASSUR']>0), ['MT_ASSUR_CAT']] = '>0'"
   ]
  },
  {
   "cell_type": "code",
   "execution_count": 62,
   "metadata": {},
   "outputs": [
    {
     "data": {
      "text/html": [
       "<table style=\"display:inline\" border=\"1\" class=\"dataframe\">\n",
       "  <thead>\n",
       "    <tr>\n",
       "      <th></th>\n",
       "      <th>Effectif</th>\n",
       "      <th>Pourcentage</th>\n",
       "    </tr>\n",
       "    <tr>\n",
       "      <th>def12_31</th>\n",
       "      <th>0</th>\n",
       "      <th>0</th>\n",
       "    </tr>\n",
       "    <tr>\n",
       "      <th>MT_ASSUR_CAT</th>\n",
       "      <th></th>\n",
       "      <th></th>\n",
       "    </tr>\n",
       "  </thead>\n",
       "  <tbody>\n",
       "    <tr>\n",
       "      <th>0</th>\n",
       "      <td>6680</td>\n",
       "      <td>80.0</td>\n",
       "    </tr>\n",
       "    <tr>\n",
       "      <th>&gt;0</th>\n",
       "      <td>1679</td>\n",
       "      <td>20.0</td>\n",
       "    </tr>\n",
       "  </tbody>\n",
       "</table style=\"display:inline\"><table style=\"display:inline\" border=\"1\" class=\"dataframe\">\n",
       "  <thead>\n",
       "    <tr>\n",
       "      <th></th>\n",
       "      <th>Effectif</th>\n",
       "      <th>Pourcentage</th>\n",
       "    </tr>\n",
       "    <tr>\n",
       "      <th>def12_31</th>\n",
       "      <th>1</th>\n",
       "      <th>1</th>\n",
       "    </tr>\n",
       "    <tr>\n",
       "      <th>MT_ASSUR_CAT</th>\n",
       "      <th></th>\n",
       "      <th></th>\n",
       "    </tr>\n",
       "  </thead>\n",
       "  <tbody>\n",
       "    <tr>\n",
       "      <th>0</th>\n",
       "      <td>75</td>\n",
       "      <td>77.0</td>\n",
       "    </tr>\n",
       "    <tr>\n",
       "      <th>&gt;0</th>\n",
       "      <td>23</td>\n",
       "      <td>23.0</td>\n",
       "    </tr>\n",
       "  </tbody>\n",
       "</table style=\"display:inline\">"
      ]
     },
     "metadata": {},
     "output_type": "display_data"
    }
   ],
   "source": [
    "comparer_cible('MT_ASSUR_CAT')"
   ]
  },
  {
   "cell_type": "markdown",
   "metadata": {},
   "source": [
    "Vraiment pas terrible cette variable pour discriminer les 2 types."
   ]
  },
  {
   "cell_type": "markdown",
   "metadata": {},
   "source": [
    "**age_cli_cat**"
   ]
  },
  {
   "cell_type": "code",
   "execution_count": 63,
   "metadata": {},
   "outputs": [
    {
     "data": {
      "image/png": "[encoded data removed]",
      "text/plain": [
       "<Figure size 432x288 with 1 Axes>"
      ]
     },
     "metadata": {
      "needs_background": "light"
     },
     "output_type": "display_data"
    }
   ],
   "source": [
    "comparer_2dist('age_cli',df,35)"
   ]
  },
  {
   "cell_type": "code",
   "execution_count": 64,
   "metadata": {},
   "outputs": [],
   "source": [
    "df['age_cli_CAT'] = pd.cut(df['age_cli'], precision=0, bins= 3)"
   ]
  },
  {
   "cell_type": "code",
   "execution_count": 65,
   "metadata": {},
   "outputs": [
    {
     "data": {
      "text/html": [
       "<table style=\"display:inline\" border=\"1\" class=\"dataframe\">\n",
       "  <thead>\n",
       "    <tr>\n",
       "      <th></th>\n",
       "      <th>Effectif</th>\n",
       "      <th>Pourcentage</th>\n",
       "    </tr>\n",
       "    <tr>\n",
       "      <th>def12_31</th>\n",
       "      <th>0</th>\n",
       "      <th>0</th>\n",
       "    </tr>\n",
       "    <tr>\n",
       "      <th>age_cli_CAT</th>\n",
       "      <th></th>\n",
       "      <th></th>\n",
       "    </tr>\n",
       "  </thead>\n",
       "  <tbody>\n",
       "    <tr>\n",
       "      <th>(19.0, 41.0]</th>\n",
       "      <td>3301</td>\n",
       "      <td>39.0</td>\n",
       "    </tr>\n",
       "    <tr>\n",
       "      <th>(41.0, 63.0]</th>\n",
       "      <td>4268</td>\n",
       "      <td>51.0</td>\n",
       "    </tr>\n",
       "    <tr>\n",
       "      <th>(63.0, 85.0]</th>\n",
       "      <td>790</td>\n",
       "      <td>9.0</td>\n",
       "    </tr>\n",
       "  </tbody>\n",
       "</table style=\"display:inline\"><table style=\"display:inline\" border=\"1\" class=\"dataframe\">\n",
       "  <thead>\n",
       "    <tr>\n",
       "      <th></th>\n",
       "      <th>Effectif</th>\n",
       "      <th>Pourcentage</th>\n",
       "    </tr>\n",
       "    <tr>\n",
       "      <th>def12_31</th>\n",
       "      <th>1</th>\n",
       "      <th>1</th>\n",
       "    </tr>\n",
       "    <tr>\n",
       "      <th>age_cli_CAT</th>\n",
       "      <th></th>\n",
       "      <th></th>\n",
       "    </tr>\n",
       "  </thead>\n",
       "  <tbody>\n",
       "    <tr>\n",
       "      <th>(19.0, 41.0]</th>\n",
       "      <td>61</td>\n",
       "      <td>62.0</td>\n",
       "    </tr>\n",
       "    <tr>\n",
       "      <th>(41.0, 63.0]</th>\n",
       "      <td>32</td>\n",
       "      <td>33.0</td>\n",
       "    </tr>\n",
       "    <tr>\n",
       "      <th>(63.0, 85.0]</th>\n",
       "      <td>5</td>\n",
       "      <td>5.0</td>\n",
       "    </tr>\n",
       "  </tbody>\n",
       "</table style=\"display:inline\">"
      ]
     },
     "metadata": {},
     "output_type": "display_data"
    }
   ],
   "source": [
    "comparer_cible('age_cli_CAT')"
   ]
  },
  {
   "cell_type": "markdown",
   "metadata": {},
   "source": [
    "**MT_MENS**"
   ]
  },
  {
   "cell_type": "code",
   "execution_count": 66,
   "metadata": {},
   "outputs": [
    {
     "data": {
      "image/png": "[encoded data removed]",
      "text/plain": [
       "<Figure size 432x288 with 1 Axes>"
      ]
     },
     "metadata": {
      "needs_background": "light"
     },
     "output_type": "display_data"
    }
   ],
   "source": [
    "comparer_2dist('MT_MENS',df,0)"
   ]
  },
  {
   "cell_type": "code",
   "execution_count": 67,
   "metadata": {},
   "outputs": [],
   "source": [
    "df['MT_MENS_CAT'] = 250\n",
    "df.loc[(df['MT_MENS']<250), ['MT_MENS_CAT']] = '(0,250]'\n",
    "df.loc[(df['MT_MENS']>=250), ['MT_MENS_CAT']] = '(250,.]'"
   ]
  },
  {
   "cell_type": "code",
   "execution_count": 68,
   "metadata": {},
   "outputs": [
    {
     "data": {
      "text/html": [
       "<table style=\"display:inline\" border=\"1\" class=\"dataframe\">\n",
       "  <thead>\n",
       "    <tr>\n",
       "      <th></th>\n",
       "      <th>Effectif</th>\n",
       "      <th>Pourcentage</th>\n",
       "    </tr>\n",
       "    <tr>\n",
       "      <th>def12_31</th>\n",
       "      <th>0</th>\n",
       "      <th>0</th>\n",
       "    </tr>\n",
       "    <tr>\n",
       "      <th>MT_MENS_CAT</th>\n",
       "      <th></th>\n",
       "      <th></th>\n",
       "    </tr>\n",
       "  </thead>\n",
       "  <tbody>\n",
       "    <tr>\n",
       "      <th>(0,250]</th>\n",
       "      <td>3246</td>\n",
       "      <td>39.0</td>\n",
       "    </tr>\n",
       "    <tr>\n",
       "      <th>(250,.]</th>\n",
       "      <td>5113</td>\n",
       "      <td>61.0</td>\n",
       "    </tr>\n",
       "  </tbody>\n",
       "</table style=\"display:inline\"><table style=\"display:inline\" border=\"1\" class=\"dataframe\">\n",
       "  <thead>\n",
       "    <tr>\n",
       "      <th></th>\n",
       "      <th>Effectif</th>\n",
       "      <th>Pourcentage</th>\n",
       "    </tr>\n",
       "    <tr>\n",
       "      <th>def12_31</th>\n",
       "      <th>1</th>\n",
       "      <th>1</th>\n",
       "    </tr>\n",
       "    <tr>\n",
       "      <th>MT_MENS_CAT</th>\n",
       "      <th></th>\n",
       "      <th></th>\n",
       "    </tr>\n",
       "  </thead>\n",
       "  <tbody>\n",
       "    <tr>\n",
       "      <th>(0,250]</th>\n",
       "      <td>46</td>\n",
       "      <td>47.0</td>\n",
       "    </tr>\n",
       "    <tr>\n",
       "      <th>(250,.]</th>\n",
       "      <td>52</td>\n",
       "      <td>53.0</td>\n",
       "    </tr>\n",
       "  </tbody>\n",
       "</table style=\"display:inline\">"
      ]
     },
     "metadata": {},
     "output_type": "display_data"
    }
   ],
   "source": [
    "comparer_cible('MT_MENS_CAT')"
   ]
  },
  {
   "cell_type": "markdown",
   "metadata": {},
   "source": [
    "## Etude variables qualitatives <a id=\"part3\"></a>"
   ]
  },
  {
   "cell_type": "markdown",
   "metadata": {},
   "source": [
    "**STITUATION_FAM**"
   ]
  },
  {
   "cell_type": "code",
   "execution_count": 69,
   "metadata": {
    "scrolled": true
   },
   "outputs": [
    {
     "data": {
      "text/html": [
       "<table style=\"display:inline\" border=\"1\" class=\"dataframe\">\n",
       "  <thead>\n",
       "    <tr>\n",
       "      <th></th>\n",
       "      <th>Effectif</th>\n",
       "      <th>Pourcentage</th>\n",
       "    </tr>\n",
       "    <tr>\n",
       "      <th>def12_31</th>\n",
       "      <th>0</th>\n",
       "      <th>0</th>\n",
       "    </tr>\n",
       "    <tr>\n",
       "      <th>STITUATION_FAM</th>\n",
       "      <th></th>\n",
       "      <th></th>\n",
       "    </tr>\n",
       "  </thead>\n",
       "  <tbody>\n",
       "    <tr>\n",
       "      <th>1</th>\n",
       "      <td>5966</td>\n",
       "      <td>71.0</td>\n",
       "    </tr>\n",
       "    <tr>\n",
       "      <th>11</th>\n",
       "      <td>329</td>\n",
       "      <td>4.0</td>\n",
       "    </tr>\n",
       "    <tr>\n",
       "      <th>2</th>\n",
       "      <td>1671</td>\n",
       "      <td>20.0</td>\n",
       "    </tr>\n",
       "    <tr>\n",
       "      <th>3</th>\n",
       "      <td>121</td>\n",
       "      <td>1.0</td>\n",
       "    </tr>\n",
       "    <tr>\n",
       "      <th>4</th>\n",
       "      <td>151</td>\n",
       "      <td>2.0</td>\n",
       "    </tr>\n",
       "    <tr>\n",
       "      <th>5</th>\n",
       "      <td>121</td>\n",
       "      <td>1.0</td>\n",
       "    </tr>\n",
       "  </tbody>\n",
       "</table style=\"display:inline\"><table style=\"display:inline\" border=\"1\" class=\"dataframe\">\n",
       "  <thead>\n",
       "    <tr>\n",
       "      <th></th>\n",
       "      <th>Effectif</th>\n",
       "      <th>Pourcentage</th>\n",
       "    </tr>\n",
       "    <tr>\n",
       "      <th>def12_31</th>\n",
       "      <th>1</th>\n",
       "      <th>1</th>\n",
       "    </tr>\n",
       "    <tr>\n",
       "      <th>STITUATION_FAM</th>\n",
       "      <th></th>\n",
       "      <th></th>\n",
       "    </tr>\n",
       "  </thead>\n",
       "  <tbody>\n",
       "    <tr>\n",
       "      <th>1</th>\n",
       "      <td>46</td>\n",
       "      <td>47.0</td>\n",
       "    </tr>\n",
       "    <tr>\n",
       "      <th>11</th>\n",
       "      <td>6</td>\n",
       "      <td>6.0</td>\n",
       "    </tr>\n",
       "    <tr>\n",
       "      <th>2</th>\n",
       "      <td>43</td>\n",
       "      <td>44.0</td>\n",
       "    </tr>\n",
       "    <tr>\n",
       "      <th>4</th>\n",
       "      <td>2</td>\n",
       "      <td>2.0</td>\n",
       "    </tr>\n",
       "    <tr>\n",
       "      <th>5</th>\n",
       "      <td>1</td>\n",
       "      <td>1.0</td>\n",
       "    </tr>\n",
       "  </tbody>\n",
       "</table style=\"display:inline\">"
      ]
     },
     "metadata": {},
     "output_type": "display_data"
    }
   ],
   "source": [
    "comparer_cible('STITUATION_FAM')"
   ]
  },
  {
   "cell_type": "markdown",
   "metadata": {},
   "source": [
    "On en déduit que les mariées ne font pas défaut en générale d'apres ce tableau, car on a observé que une grosse proportions de 71% chez les mariées pour les gens qui ne font pas de défaut, ce qui est bcp superieur que 47% de gens qui ont fait défaut qui sont des mariées.\n",
    "\n",
    "Par contre c'est le cas contraire chez les célibataires, 44% des gens qui ont fait défaut sont des célibataire, c'est plus la double des gens qui ne font pas défaut chez les célibataires. Donc on conclut que des célibataires ont une grosse chance de faire défaut. \n",
    "\n",
    "***Il existe toutefois des classes qui ont moins de 5 obs. qu'il va falloir merger..***"
   ]
  },
  {
   "cell_type": "code",
   "execution_count": 70,
   "metadata": {},
   "outputs": [],
   "source": [
    "df['STITUATION_FAM_CAT'] = 0\n",
    "df.loc[df['STITUATION_FAM'].isin(['11', '4','5']), ['STITUATION_FAM_CAT']] = 'autre'\n",
    "df.loc[df['STITUATION_FAM'] == '1', ['STITUATION_FAM_CAT']] = 'marie'\n",
    "df.loc[df['STITUATION_FAM'] == '2', ['STITUATION_FAM_CAT']] = 'celibataire'"
   ]
  },
  {
   "cell_type": "code",
   "execution_count": 71,
   "metadata": {},
   "outputs": [
    {
     "data": {
      "text/html": [
       "<table style=\"display:inline\" border=\"1\" class=\"dataframe\">\n",
       "  <thead>\n",
       "    <tr>\n",
       "      <th></th>\n",
       "      <th>Effectif</th>\n",
       "      <th>Pourcentage</th>\n",
       "    </tr>\n",
       "    <tr>\n",
       "      <th>def12_31</th>\n",
       "      <th>0</th>\n",
       "      <th>0</th>\n",
       "    </tr>\n",
       "    <tr>\n",
       "      <th>STITUATION_FAM</th>\n",
       "      <th></th>\n",
       "      <th></th>\n",
       "    </tr>\n",
       "  </thead>\n",
       "  <tbody>\n",
       "    <tr>\n",
       "      <th>0</th>\n",
       "      <td>121</td>\n",
       "      <td>1.0</td>\n",
       "    </tr>\n",
       "    <tr>\n",
       "      <th>autre</th>\n",
       "      <td>601</td>\n",
       "      <td>7.0</td>\n",
       "    </tr>\n",
       "    <tr>\n",
       "      <th>celibataire</th>\n",
       "      <td>1671</td>\n",
       "      <td>20.0</td>\n",
       "    </tr>\n",
       "    <tr>\n",
       "      <th>marie</th>\n",
       "      <td>5966</td>\n",
       "      <td>71.0</td>\n",
       "    </tr>\n",
       "  </tbody>\n",
       "</table style=\"display:inline\"><table style=\"display:inline\" border=\"1\" class=\"dataframe\">\n",
       "  <thead>\n",
       "    <tr>\n",
       "      <th></th>\n",
       "      <th>Effectif</th>\n",
       "      <th>Pourcentage</th>\n",
       "    </tr>\n",
       "    <tr>\n",
       "      <th>def12_31</th>\n",
       "      <th>1</th>\n",
       "      <th>1</th>\n",
       "    </tr>\n",
       "    <tr>\n",
       "      <th>STITUATION_FAM</th>\n",
       "      <th></th>\n",
       "      <th></th>\n",
       "    </tr>\n",
       "  </thead>\n",
       "  <tbody>\n",
       "    <tr>\n",
       "      <th>autre</th>\n",
       "      <td>9</td>\n",
       "      <td>9.0</td>\n",
       "    </tr>\n",
       "    <tr>\n",
       "      <th>celibataire</th>\n",
       "      <td>43</td>\n",
       "      <td>44.0</td>\n",
       "    </tr>\n",
       "    <tr>\n",
       "      <th>marie</th>\n",
       "      <td>46</td>\n",
       "      <td>47.0</td>\n",
       "    </tr>\n",
       "  </tbody>\n",
       "</table style=\"display:inline\">"
      ]
     },
     "metadata": {},
     "output_type": "display_data"
    }
   ],
   "source": [
    "df['STITUATION_FAM'] = df['STITUATION_FAM_CAT']\n",
    "df = df.drop(['STITUATION_FAM_CAT'], axis=1)\n",
    "comparer_cible('STITUATION_FAM')"
   ]
  },
  {
   "cell_type": "markdown",
   "metadata": {},
   "source": [
    "**MODE_LOGT**"
   ]
  },
  {
   "cell_type": "code",
   "execution_count": 72,
   "metadata": {},
   "outputs": [
    {
     "data": {
      "text/html": [
       "<table style=\"display:inline\" border=\"1\" class=\"dataframe\">\n",
       "  <thead>\n",
       "    <tr>\n",
       "      <th></th>\n",
       "      <th>Effectif</th>\n",
       "      <th>Pourcentage</th>\n",
       "    </tr>\n",
       "    <tr>\n",
       "      <th>def12_31</th>\n",
       "      <th>0</th>\n",
       "      <th>0</th>\n",
       "    </tr>\n",
       "    <tr>\n",
       "      <th>MODE_LOGT</th>\n",
       "      <th></th>\n",
       "      <th></th>\n",
       "    </tr>\n",
       "  </thead>\n",
       "  <tbody>\n",
       "    <tr>\n",
       "      <th>1</th>\n",
       "      <td>1124</td>\n",
       "      <td>13.0</td>\n",
       "    </tr>\n",
       "    <tr>\n",
       "      <th>2</th>\n",
       "      <td>6398</td>\n",
       "      <td>77.0</td>\n",
       "    </tr>\n",
       "    <tr>\n",
       "      <th>3</th>\n",
       "      <td>65</td>\n",
       "      <td>1.0</td>\n",
       "    </tr>\n",
       "    <tr>\n",
       "      <th>4</th>\n",
       "      <td>739</td>\n",
       "      <td>9.0</td>\n",
       "    </tr>\n",
       "  </tbody>\n",
       "</table style=\"display:inline\"><table style=\"display:inline\" border=\"1\" class=\"dataframe\">\n",
       "  <thead>\n",
       "    <tr>\n",
       "      <th></th>\n",
       "      <th>Effectif</th>\n",
       "      <th>Pourcentage</th>\n",
       "    </tr>\n",
       "    <tr>\n",
       "      <th>def12_31</th>\n",
       "      <th>1</th>\n",
       "      <th>1</th>\n",
       "    </tr>\n",
       "    <tr>\n",
       "      <th>MODE_LOGT</th>\n",
       "      <th></th>\n",
       "      <th></th>\n",
       "    </tr>\n",
       "  </thead>\n",
       "  <tbody>\n",
       "    <tr>\n",
       "      <th>1</th>\n",
       "      <td>23</td>\n",
       "      <td>24.0</td>\n",
       "    </tr>\n",
       "    <tr>\n",
       "      <th>2</th>\n",
       "      <td>49</td>\n",
       "      <td>52.0</td>\n",
       "    </tr>\n",
       "    <tr>\n",
       "      <th>3</th>\n",
       "      <td>1</td>\n",
       "      <td>1.0</td>\n",
       "    </tr>\n",
       "    <tr>\n",
       "      <th>4</th>\n",
       "      <td>22</td>\n",
       "      <td>23.0</td>\n",
       "    </tr>\n",
       "  </tbody>\n",
       "</table style=\"display:inline\">"
      ]
     },
     "metadata": {},
     "output_type": "display_data"
    }
   ],
   "source": [
    "comparer_cible('MODE_LOGT')"
   ]
  },
  {
   "cell_type": "markdown",
   "metadata": {},
   "source": [
    "On remarque que 77% de gens qui n'ont pas fait défaut sont des proprios, ceux qui sont bcp plus que des proprios qui ont fait défaut (52% parmi des gens qui ont fait défaut), donc on en déduit que des proprios ne font pas défaut en générale.\n",
    "\n",
    "C'est le cas contraire pour les gens qui sont habitent chez les parents, 23% de gens qui font fait défaut sont ces gens la, c'est bcp plus que des \"chez les parents\" qui n'ont pas fait défaut (9% parmi des gens qui n'ont pas fait défaut) en proportion. Donc on en déduit que des \"chez les parents\" ont une forte de chance de faire défaut."
   ]
  },
  {
   "cell_type": "markdown",
   "metadata": {},
   "source": [
    "**VN_VO**"
   ]
  },
  {
   "cell_type": "code",
   "execution_count": 73,
   "metadata": {},
   "outputs": [
    {
     "data": {
      "text/html": [
       "<table style=\"display:inline\" border=\"1\" class=\"dataframe\">\n",
       "  <thead>\n",
       "    <tr>\n",
       "      <th></th>\n",
       "      <th>Effectif</th>\n",
       "      <th>Pourcentage</th>\n",
       "    </tr>\n",
       "    <tr>\n",
       "      <th>def12_31</th>\n",
       "      <th>0</th>\n",
       "      <th>0</th>\n",
       "    </tr>\n",
       "    <tr>\n",
       "      <th>VN_VO</th>\n",
       "      <th></th>\n",
       "      <th></th>\n",
       "    </tr>\n",
       "  </thead>\n",
       "  <tbody>\n",
       "    <tr>\n",
       "      <th>VN</th>\n",
       "      <td>5962</td>\n",
       "      <td>71.0</td>\n",
       "    </tr>\n",
       "    <tr>\n",
       "      <th>VO</th>\n",
       "      <td>2397</td>\n",
       "      <td>29.0</td>\n",
       "    </tr>\n",
       "  </tbody>\n",
       "</table style=\"display:inline\"><table style=\"display:inline\" border=\"1\" class=\"dataframe\">\n",
       "  <thead>\n",
       "    <tr>\n",
       "      <th></th>\n",
       "      <th>Effectif</th>\n",
       "      <th>Pourcentage</th>\n",
       "    </tr>\n",
       "    <tr>\n",
       "      <th>def12_31</th>\n",
       "      <th>1</th>\n",
       "      <th>1</th>\n",
       "    </tr>\n",
       "    <tr>\n",
       "      <th>VN_VO</th>\n",
       "      <th></th>\n",
       "      <th></th>\n",
       "    </tr>\n",
       "  </thead>\n",
       "  <tbody>\n",
       "    <tr>\n",
       "      <th>VN</th>\n",
       "      <td>41</td>\n",
       "      <td>42.0</td>\n",
       "    </tr>\n",
       "    <tr>\n",
       "      <th>VO</th>\n",
       "      <td>57</td>\n",
       "      <td>58.0</td>\n",
       "    </tr>\n",
       "  </tbody>\n",
       "</table style=\"display:inline\">"
      ]
     },
     "metadata": {},
     "output_type": "display_data"
    }
   ],
   "source": [
    "comparer_cible('VN_VO')"
   ]
  },
  {
   "cell_type": "markdown",
   "metadata": {},
   "source": [
    "On remarque que 71% de gens qui n'ont pas fait défaut sont des gens qui ont une véhicule neuf, qui est supérieure que 43% des gens qui ont fait défaut alors qu'ils ont une véhicule neuf. Et on remarque aussi que 57% des gens qui ont faut défaut sont des gens qui ont une véhicule occasion, qui est preque la double des gens qui ont une véhicules neuf et n'ont pas fait défaut en proportion.\n",
    "\n",
    "On conclut alors que des gens avec une véhicule neuf ne font pas défaut en générale, par contre les gens avec une voiture occasion ont une propa plus fort de faire défaut que ne pas faire défaut."
   ]
  },
  {
   "cell_type": "markdown",
   "metadata": {},
   "source": [
    "**MARQUE**"
   ]
  },
  {
   "cell_type": "code",
   "execution_count": 74,
   "metadata": {
    "scrolled": true
   },
   "outputs": [
    {
     "data": {
      "image/png": "[encoded data removed]",
      "text/plain": [
       "<Figure size 1152x216 with 1 Axes>"
      ]
     },
     "metadata": {
      "needs_background": "light"
     },
     "output_type": "display_data"
    }
   ],
   "source": [
    "plt.figure(figsize=(16,3))\n",
    "sns.countplot(df['MARQUE']);"
   ]
  },
  {
   "cell_type": "code",
   "execution_count": 75,
   "metadata": {},
   "outputs": [],
   "source": [
    "df['MARQUE_CAT'] =0\n",
    "df.loc[df['MARQUE'].isin(['REN', 'NIS', 'DAC']),['MARQUE_CAT']] = 'groupe_renault'\n",
    "df.loc[-df['MARQUE'].isin(['REN', 'NIS', 'DAC']),['MARQUE_CAT']] = 'autre'\n",
    "df['MARQUE'] = df['MARQUE_CAT']\n",
    "df = df.drop(['MARQUE_CAT'], axis=1)"
   ]
  },
  {
   "cell_type": "code",
   "execution_count": 76,
   "metadata": {},
   "outputs": [
    {
     "data": {
      "text/html": [
       "<table style=\"display:inline\" border=\"1\" class=\"dataframe\">\n",
       "  <thead>\n",
       "    <tr>\n",
       "      <th></th>\n",
       "      <th>Effectif</th>\n",
       "      <th>Pourcentage</th>\n",
       "    </tr>\n",
       "    <tr>\n",
       "      <th>def12_31</th>\n",
       "      <th>0</th>\n",
       "      <th>0</th>\n",
       "    </tr>\n",
       "    <tr>\n",
       "      <th>MARQUE</th>\n",
       "      <th></th>\n",
       "      <th></th>\n",
       "    </tr>\n",
       "  </thead>\n",
       "  <tbody>\n",
       "    <tr>\n",
       "      <th>autre</th>\n",
       "      <td>641</td>\n",
       "      <td>8.0</td>\n",
       "    </tr>\n",
       "    <tr>\n",
       "      <th>groupe_renault</th>\n",
       "      <td>7718</td>\n",
       "      <td>92.0</td>\n",
       "    </tr>\n",
       "  </tbody>\n",
       "</table style=\"display:inline\"><table style=\"display:inline\" border=\"1\" class=\"dataframe\">\n",
       "  <thead>\n",
       "    <tr>\n",
       "      <th></th>\n",
       "      <th>Effectif</th>\n",
       "      <th>Pourcentage</th>\n",
       "    </tr>\n",
       "    <tr>\n",
       "      <th>def12_31</th>\n",
       "      <th>1</th>\n",
       "      <th>1</th>\n",
       "    </tr>\n",
       "    <tr>\n",
       "      <th>MARQUE</th>\n",
       "      <th></th>\n",
       "      <th></th>\n",
       "    </tr>\n",
       "  </thead>\n",
       "  <tbody>\n",
       "    <tr>\n",
       "      <th>autre</th>\n",
       "      <td>19</td>\n",
       "      <td>19.0</td>\n",
       "    </tr>\n",
       "    <tr>\n",
       "      <th>groupe_renault</th>\n",
       "      <td>79</td>\n",
       "      <td>81.0</td>\n",
       "    </tr>\n",
       "  </tbody>\n",
       "</table style=\"display:inline\">"
      ]
     },
     "metadata": {},
     "output_type": "display_data"
    }
   ],
   "source": [
    "comparer_cible('MARQUE')"
   ]
  },
  {
   "cell_type": "markdown",
   "metadata": {},
   "source": [
    "## Feature Engineering <a id=\"part4\"></a>\n",
    "\n",
    "\n",
    "On créer 6 nouvelles features ! "
   ]
  },
  {
   "cell_type": "code",
   "execution_count": 77,
   "metadata": {},
   "outputs": [
    {
     "data": {
      "text/html": [
       "<div>\n",
       "<style scoped>\n",
       "    .dataframe tbody tr th:only-of-type {\n",
       "        vertical-align: middle;\n",
       "    }\n",
       "\n",
       "    .dataframe tbody tr th {\n",
       "        vertical-align: top;\n",
       "    }\n",
       "\n",
       "    .dataframe thead th {\n",
       "        text-align: right;\n",
       "    }\n",
       "</style>\n",
       "<table border=\"1\" class=\"dataframe\">\n",
       "  <thead>\n",
       "    <tr style=\"text-align: right;\">\n",
       "      <th></th>\n",
       "      <th>ANC_EMPLOI</th>\n",
       "      <th>STITUATION_FAM</th>\n",
       "      <th>MODE_LOGT</th>\n",
       "      <th>AGE_VEH</th>\n",
       "      <th>VN_VO</th>\n",
       "      <th>MARQUE</th>\n",
       "      <th>PRIX_VEH</th>\n",
       "      <th>MT_APPORT</th>\n",
       "      <th>MT_FINANCE</th>\n",
       "      <th>MT_MENS</th>\n",
       "      <th>VR_BALLON</th>\n",
       "      <th>DUREE_CONTRAT</th>\n",
       "      <th>MT_PREST</th>\n",
       "      <th>MT_ASSUR</th>\n",
       "      <th>mois_gestion</th>\n",
       "      <th>age_cli</th>\n",
       "      <th>anciennete_rci</th>\n",
       "      <th>pc_appo</th>\n",
       "      <th>def12_31</th>\n",
       "    </tr>\n",
       "  </thead>\n",
       "  <tbody>\n",
       "    <tr>\n",
       "      <th>0</th>\n",
       "      <td>65</td>\n",
       "      <td>2</td>\n",
       "      <td>1</td>\n",
       "      <td>NaN</td>\n",
       "      <td>VN</td>\n",
       "      <td>REN</td>\n",
       "      <td>19584.65</td>\n",
       "      <td>0.0</td>\n",
       "      <td>19584.65</td>\n",
       "      <td>95.01</td>\n",
       "      <td>19584.63</td>\n",
       "      <td>6</td>\n",
       "      <td>NaN</td>\n",
       "      <td>NaN</td>\n",
       "      <td>2015-01-03</td>\n",
       "      <td>28</td>\n",
       "      <td>1</td>\n",
       "      <td>0</td>\n",
       "      <td>0</td>\n",
       "    </tr>\n",
       "    <tr>\n",
       "      <th>1</th>\n",
       "      <td>563</td>\n",
       "      <td>11</td>\n",
       "      <td>2</td>\n",
       "      <td>28.0</td>\n",
       "      <td>VO</td>\n",
       "      <td>REN</td>\n",
       "      <td>16995.00</td>\n",
       "      <td>2123.0</td>\n",
       "      <td>14872.00</td>\n",
       "      <td>312.34</td>\n",
       "      <td>NaN</td>\n",
       "      <td>60</td>\n",
       "      <td>150.0</td>\n",
       "      <td>NaN</td>\n",
       "      <td>2014-01-06</td>\n",
       "      <td>64</td>\n",
       "      <td>3</td>\n",
       "      <td>12</td>\n",
       "      <td>0</td>\n",
       "    </tr>\n",
       "    <tr>\n",
       "      <th>2</th>\n",
       "      <td>107</td>\n",
       "      <td>2</td>\n",
       "      <td>2</td>\n",
       "      <td>16.0</td>\n",
       "      <td>VO</td>\n",
       "      <td>REN</td>\n",
       "      <td>19950.00</td>\n",
       "      <td>3869.0</td>\n",
       "      <td>16081.00</td>\n",
       "      <td>329.93</td>\n",
       "      <td>NaN</td>\n",
       "      <td>60</td>\n",
       "      <td>150.0</td>\n",
       "      <td>NaN</td>\n",
       "      <td>2015-01-08</td>\n",
       "      <td>51</td>\n",
       "      <td>3</td>\n",
       "      <td>19</td>\n",
       "      <td>0</td>\n",
       "    </tr>\n",
       "    <tr>\n",
       "      <th>3</th>\n",
       "      <td>143</td>\n",
       "      <td>2</td>\n",
       "      <td>2</td>\n",
       "      <td>10.0</td>\n",
       "      <td>VO</td>\n",
       "      <td>REN</td>\n",
       "      <td>17500.00</td>\n",
       "      <td>7143.5</td>\n",
       "      <td>10356.50</td>\n",
       "      <td>217.51</td>\n",
       "      <td>NaN</td>\n",
       "      <td>60</td>\n",
       "      <td>150.0</td>\n",
       "      <td>NaN</td>\n",
       "      <td>2015-01-04</td>\n",
       "      <td>42</td>\n",
       "      <td>4</td>\n",
       "      <td>41</td>\n",
       "      <td>0</td>\n",
       "    </tr>\n",
       "    <tr>\n",
       "      <th>4</th>\n",
       "      <td>110</td>\n",
       "      <td>2</td>\n",
       "      <td>NaN</td>\n",
       "      <td>7.0</td>\n",
       "      <td>VO</td>\n",
       "      <td>REN</td>\n",
       "      <td>19740.00</td>\n",
       "      <td>3789.4</td>\n",
       "      <td>15950.60</td>\n",
       "      <td>310.33</td>\n",
       "      <td>7523.04</td>\n",
       "      <td>36</td>\n",
       "      <td>150.0</td>\n",
       "      <td>395.0</td>\n",
       "      <td>2015-01-02</td>\n",
       "      <td>34</td>\n",
       "      <td>4</td>\n",
       "      <td>19</td>\n",
       "      <td>0</td>\n",
       "    </tr>\n",
       "  </tbody>\n",
       "</table>\n",
       "</div>"
      ],
      "text/plain": [
       "   ANC_EMPLOI STITUATION_FAM MODE_LOGT  AGE_VEH VN_VO MARQUE  PRIX_VEH  \\\n",
       "0          65              2         1      NaN    VN    REN  19584.65   \n",
       "1         563             11         2     28.0    VO    REN  16995.00   \n",
       "2         107              2         2     16.0    VO    REN  19950.00   \n",
       "3         143              2         2     10.0    VO    REN  17500.00   \n",
       "4         110              2       NaN      7.0    VO    REN  19740.00   \n",
       "\n",
       "   MT_APPORT  MT_FINANCE  MT_MENS  VR_BALLON  DUREE_CONTRAT  MT_PREST  \\\n",
       "0        0.0    19584.65    95.01   19584.63              6       NaN   \n",
       "1     2123.0    14872.00   312.34        NaN             60     150.0   \n",
       "2     3869.0    16081.00   329.93        NaN             60     150.0   \n",
       "3     7143.5    10356.50   217.51        NaN             60     150.0   \n",
       "4     3789.4    15950.60   310.33    7523.04             36     150.0   \n",
       "\n",
       "   MT_ASSUR mois_gestion  age_cli anciennete_rci  pc_appo def12_31  \n",
       "0       NaN   2015-01-03       28              1        0        0  \n",
       "1       NaN   2014-01-06       64              3       12        0  \n",
       "2       NaN   2015-01-08       51              3       19        0  \n",
       "3       NaN   2015-01-04       42              4       41        0  \n",
       "4     395.0   2015-01-02       34              4       19        0  "
      ]
     },
     "execution_count": 77,
     "metadata": {},
     "output_type": "execute_result"
    }
   ],
   "source": [
    "raw_data.head()"
   ]
  },
  {
   "cell_type": "code",
   "execution_count": 78,
   "metadata": {},
   "outputs": [],
   "source": [
    "#PRIX_TOTAL\n",
    "df = df.assign(PRIX_TOTAL = df['PRIX_VEH']+df['MT_APPORT']+df['MT_PREST'] + df['VR_BALLON']+df['MT_ASSUR'])"
   ]
  },
  {
   "cell_type": "code",
   "execution_count": 79,
   "metadata": {},
   "outputs": [],
   "source": [
    "#MENS_par_FINANCE\n",
    "df = df.assign(MENS_par_FINANCE= df['MT_MENS']/df['MT_FINANCE'])"
   ]
  },
  {
   "cell_type": "code",
   "execution_count": 80,
   "metadata": {},
   "outputs": [],
   "source": [
    "#PREST_par_FINANCE\n",
    "df = df.assign(PREST_par_FINANCE= df['MT_PREST']/df['MT_FINANCE'])"
   ]
  },
  {
   "cell_type": "code",
   "execution_count": 81,
   "metadata": {},
   "outputs": [],
   "source": [
    "#ASSUR_par_FINANCE\n",
    "df = df.assign(ASSUR_par_FINANCE= df['MT_ASSUR']/df['MT_FINANCE'])"
   ]
  },
  {
   "cell_type": "code",
   "execution_count": 82,
   "metadata": {},
   "outputs": [],
   "source": [
    "#age_cli_par_DUREE\n",
    "df = df.assign(age_cli_par_DUREE= df['age_cli']/df['DUREE_CONTRAT'])"
   ]
  },
  {
   "cell_type": "code",
   "execution_count": 83,
   "metadata": {},
   "outputs": [],
   "source": [
    "#DUREE_C_par_FINANCE\n",
    "df = df.assign(DUREE_C_par_FINANCE= df['DUREE_CONTRAT']/df['MT_FINANCE'])"
   ]
  },
  {
   "cell_type": "code",
   "execution_count": 84,
   "metadata": {},
   "outputs": [],
   "source": [
    "cols = ['PRIX_TOTAL', 'MENS_par_FINANCE', 'DUREE_C_par_FINANCE', \\\n",
    "'PREST_par_FINANCE', 'ASSUR_par_FINANCE', 'age_cli_par_DUREE']\n",
    "for col in cols:\n",
    "    df[col+'_CAT'] = pd.qcut(df[col], q= 2, precision=0, duplicates='drop')"
   ]
  },
  {
   "cell_type": "code",
   "execution_count": 85,
   "metadata": {},
   "outputs": [
    {
     "data": {
      "text/html": [
       "<table style=\"display:inline\" border=\"1\" class=\"dataframe\">\n",
       "  <thead>\n",
       "    <tr>\n",
       "      <th></th>\n",
       "      <th>Effectif</th>\n",
       "      <th>Pourcentage</th>\n",
       "    </tr>\n",
       "    <tr>\n",
       "      <th>def12_31</th>\n",
       "      <th>0</th>\n",
       "      <th>0</th>\n",
       "    </tr>\n",
       "    <tr>\n",
       "      <th>PRIX_TOTAL_CAT</th>\n",
       "      <th></th>\n",
       "      <th></th>\n",
       "    </tr>\n",
       "  </thead>\n",
       "  <tbody>\n",
       "    <tr>\n",
       "      <th>(5039.0, 26467.0]</th>\n",
       "      <td>4154</td>\n",
       "      <td>50.0</td>\n",
       "    </tr>\n",
       "    <tr>\n",
       "      <th>(26467.0, 99150.0]</th>\n",
       "      <td>4205</td>\n",
       "      <td>50.0</td>\n",
       "    </tr>\n",
       "  </tbody>\n",
       "</table style=\"display:inline\"><table style=\"display:inline\" border=\"1\" class=\"dataframe\">\n",
       "  <thead>\n",
       "    <tr>\n",
       "      <th></th>\n",
       "      <th>Effectif</th>\n",
       "      <th>Pourcentage</th>\n",
       "    </tr>\n",
       "    <tr>\n",
       "      <th>def12_31</th>\n",
       "      <th>1</th>\n",
       "      <th>1</th>\n",
       "    </tr>\n",
       "    <tr>\n",
       "      <th>PRIX_TOTAL_CAT</th>\n",
       "      <th></th>\n",
       "      <th></th>\n",
       "    </tr>\n",
       "  </thead>\n",
       "  <tbody>\n",
       "    <tr>\n",
       "      <th>(5039.0, 26467.0]</th>\n",
       "      <td>75</td>\n",
       "      <td>77.0</td>\n",
       "    </tr>\n",
       "    <tr>\n",
       "      <th>(26467.0, 99150.0]</th>\n",
       "      <td>23</td>\n",
       "      <td>23.0</td>\n",
       "    </tr>\n",
       "  </tbody>\n",
       "</table style=\"display:inline\">"
      ]
     },
     "metadata": {},
     "output_type": "display_data"
    },
    {
     "data": {
      "text/html": [
       "<table style=\"display:inline\" border=\"1\" class=\"dataframe\">\n",
       "  <thead>\n",
       "    <tr>\n",
       "      <th></th>\n",
       "      <th>Effectif</th>\n",
       "      <th>Pourcentage</th>\n",
       "    </tr>\n",
       "    <tr>\n",
       "      <th>def12_31</th>\n",
       "      <th>0</th>\n",
       "      <th>0</th>\n",
       "    </tr>\n",
       "    <tr>\n",
       "      <th>MENS_par_FINANCE_CAT</th>\n",
       "      <th></th>\n",
       "      <th></th>\n",
       "    </tr>\n",
       "  </thead>\n",
       "  <tbody>\n",
       "    <tr>\n",
       "      <th>(-0.095, 0.02]</th>\n",
       "      <td>4221</td>\n",
       "      <td>50.0</td>\n",
       "    </tr>\n",
       "    <tr>\n",
       "      <th>(0.02, 0.2]</th>\n",
       "      <td>4138</td>\n",
       "      <td>50.0</td>\n",
       "    </tr>\n",
       "  </tbody>\n",
       "</table style=\"display:inline\"><table style=\"display:inline\" border=\"1\" class=\"dataframe\">\n",
       "  <thead>\n",
       "    <tr>\n",
       "      <th></th>\n",
       "      <th>Effectif</th>\n",
       "      <th>Pourcentage</th>\n",
       "    </tr>\n",
       "    <tr>\n",
       "      <th>def12_31</th>\n",
       "      <th>1</th>\n",
       "      <th>1</th>\n",
       "    </tr>\n",
       "    <tr>\n",
       "      <th>MENS_par_FINANCE_CAT</th>\n",
       "      <th></th>\n",
       "      <th></th>\n",
       "    </tr>\n",
       "  </thead>\n",
       "  <tbody>\n",
       "    <tr>\n",
       "      <th>(-0.095, 0.02]</th>\n",
       "      <td>41</td>\n",
       "      <td>42.0</td>\n",
       "    </tr>\n",
       "    <tr>\n",
       "      <th>(0.02, 0.2]</th>\n",
       "      <td>57</td>\n",
       "      <td>58.0</td>\n",
       "    </tr>\n",
       "  </tbody>\n",
       "</table style=\"display:inline\">"
      ]
     },
     "metadata": {},
     "output_type": "display_data"
    },
    {
     "data": {
      "text/html": [
       "<table style=\"display:inline\" border=\"1\" class=\"dataframe\">\n",
       "  <thead>\n",
       "    <tr>\n",
       "      <th></th>\n",
       "      <th>Effectif</th>\n",
       "      <th>Pourcentage</th>\n",
       "    </tr>\n",
       "    <tr>\n",
       "      <th>def12_31</th>\n",
       "      <th>0</th>\n",
       "      <th>0</th>\n",
       "    </tr>\n",
       "    <tr>\n",
       "      <th>DUREE_C_par_FINANCE_CAT</th>\n",
       "      <th></th>\n",
       "      <th></th>\n",
       "    </tr>\n",
       "  </thead>\n",
       "  <tbody>\n",
       "    <tr>\n",
       "      <th>(-0.0998, 0.003]</th>\n",
       "      <td>4201</td>\n",
       "      <td>50.0</td>\n",
       "    </tr>\n",
       "    <tr>\n",
       "      <th>(0.003, 0.02]</th>\n",
       "      <td>4158</td>\n",
       "      <td>50.0</td>\n",
       "    </tr>\n",
       "  </tbody>\n",
       "</table style=\"display:inline\"><table style=\"display:inline\" border=\"1\" class=\"dataframe\">\n",
       "  <thead>\n",
       "    <tr>\n",
       "      <th></th>\n",
       "      <th>Effectif</th>\n",
       "      <th>Pourcentage</th>\n",
       "    </tr>\n",
       "    <tr>\n",
       "      <th>def12_31</th>\n",
       "      <th>1</th>\n",
       "      <th>1</th>\n",
       "    </tr>\n",
       "    <tr>\n",
       "      <th>DUREE_C_par_FINANCE_CAT</th>\n",
       "      <th></th>\n",
       "      <th></th>\n",
       "    </tr>\n",
       "  </thead>\n",
       "  <tbody>\n",
       "    <tr>\n",
       "      <th>(-0.0998, 0.003]</th>\n",
       "      <td>28</td>\n",
       "      <td>29.0</td>\n",
       "    </tr>\n",
       "    <tr>\n",
       "      <th>(0.003, 0.02]</th>\n",
       "      <td>70</td>\n",
       "      <td>71.0</td>\n",
       "    </tr>\n",
       "  </tbody>\n",
       "</table style=\"display:inline\">"
      ]
     },
     "metadata": {},
     "output_type": "display_data"
    },
    {
     "data": {
      "text/html": [
       "<table style=\"display:inline\" border=\"1\" class=\"dataframe\">\n",
       "  <thead>\n",
       "    <tr>\n",
       "      <th></th>\n",
       "      <th>Effectif</th>\n",
       "      <th>Pourcentage</th>\n",
       "    </tr>\n",
       "    <tr>\n",
       "      <th>def12_31</th>\n",
       "      <th>0</th>\n",
       "      <th>0</th>\n",
       "    </tr>\n",
       "    <tr>\n",
       "      <th>PREST_par_FINANCE_CAT</th>\n",
       "      <th></th>\n",
       "      <th></th>\n",
       "    </tr>\n",
       "  </thead>\n",
       "  <tbody>\n",
       "    <tr>\n",
       "      <th>(-0.1, 0.01]</th>\n",
       "      <td>4197</td>\n",
       "      <td>50.0</td>\n",
       "    </tr>\n",
       "    <tr>\n",
       "      <th>(0.01, 0.2]</th>\n",
       "      <td>4162</td>\n",
       "      <td>50.0</td>\n",
       "    </tr>\n",
       "  </tbody>\n",
       "</table style=\"display:inline\"><table style=\"display:inline\" border=\"1\" class=\"dataframe\">\n",
       "  <thead>\n",
       "    <tr>\n",
       "      <th></th>\n",
       "      <th>Effectif</th>\n",
       "      <th>Pourcentage</th>\n",
       "    </tr>\n",
       "    <tr>\n",
       "      <th>def12_31</th>\n",
       "      <th>1</th>\n",
       "      <th>1</th>\n",
       "    </tr>\n",
       "    <tr>\n",
       "      <th>PREST_par_FINANCE_CAT</th>\n",
       "      <th></th>\n",
       "      <th></th>\n",
       "    </tr>\n",
       "  </thead>\n",
       "  <tbody>\n",
       "    <tr>\n",
       "      <th>(-0.1, 0.01]</th>\n",
       "      <td>32</td>\n",
       "      <td>33.0</td>\n",
       "    </tr>\n",
       "    <tr>\n",
       "      <th>(0.01, 0.2]</th>\n",
       "      <td>66</td>\n",
       "      <td>67.0</td>\n",
       "    </tr>\n",
       "  </tbody>\n",
       "</table style=\"display:inline\">"
      ]
     },
     "metadata": {},
     "output_type": "display_data"
    },
    {
     "data": {
      "text/html": [
       "<table style=\"display:inline\" border=\"1\" class=\"dataframe\">\n",
       "  <thead>\n",
       "    <tr>\n",
       "      <th></th>\n",
       "      <th>Effectif</th>\n",
       "      <th>Pourcentage</th>\n",
       "    </tr>\n",
       "    <tr>\n",
       "      <th>def12_31</th>\n",
       "      <th>0</th>\n",
       "      <th>0</th>\n",
       "    </tr>\n",
       "    <tr>\n",
       "      <th>ASSUR_par_FINANCE_CAT</th>\n",
       "      <th></th>\n",
       "      <th></th>\n",
       "    </tr>\n",
       "  </thead>\n",
       "  <tbody>\n",
       "    <tr>\n",
       "      <th>(-0.1, 0.2]</th>\n",
       "      <td>8359</td>\n",
       "      <td>100.0</td>\n",
       "    </tr>\n",
       "  </tbody>\n",
       "</table style=\"display:inline\"><table style=\"display:inline\" border=\"1\" class=\"dataframe\">\n",
       "  <thead>\n",
       "    <tr>\n",
       "      <th></th>\n",
       "      <th>Effectif</th>\n",
       "      <th>Pourcentage</th>\n",
       "    </tr>\n",
       "    <tr>\n",
       "      <th>def12_31</th>\n",
       "      <th>1</th>\n",
       "      <th>1</th>\n",
       "    </tr>\n",
       "    <tr>\n",
       "      <th>ASSUR_par_FINANCE_CAT</th>\n",
       "      <th></th>\n",
       "      <th></th>\n",
       "    </tr>\n",
       "  </thead>\n",
       "  <tbody>\n",
       "    <tr>\n",
       "      <th>(-0.1, 0.2]</th>\n",
       "      <td>98</td>\n",
       "      <td>100.0</td>\n",
       "    </tr>\n",
       "  </tbody>\n",
       "</table style=\"display:inline\">"
      ]
     },
     "metadata": {},
     "output_type": "display_data"
    },
    {
     "data": {
      "text/html": [
       "<table style=\"display:inline\" border=\"1\" class=\"dataframe\">\n",
       "  <thead>\n",
       "    <tr>\n",
       "      <th></th>\n",
       "      <th>Effectif</th>\n",
       "      <th>Pourcentage</th>\n",
       "    </tr>\n",
       "    <tr>\n",
       "      <th>def12_31</th>\n",
       "      <th>0</th>\n",
       "      <th>0</th>\n",
       "    </tr>\n",
       "    <tr>\n",
       "      <th>age_cli_par_DUREE_CAT</th>\n",
       "      <th></th>\n",
       "      <th></th>\n",
       "    </tr>\n",
       "  </thead>\n",
       "  <tbody>\n",
       "    <tr>\n",
       "      <th>(-1.0, 1.0]</th>\n",
       "      <td>4173</td>\n",
       "      <td>50.0</td>\n",
       "    </tr>\n",
       "    <tr>\n",
       "      <th>(1.0, 14.0]</th>\n",
       "      <td>4186</td>\n",
       "      <td>50.0</td>\n",
       "    </tr>\n",
       "  </tbody>\n",
       "</table style=\"display:inline\"><table style=\"display:inline\" border=\"1\" class=\"dataframe\">\n",
       "  <thead>\n",
       "    <tr>\n",
       "      <th></th>\n",
       "      <th>Effectif</th>\n",
       "      <th>Pourcentage</th>\n",
       "    </tr>\n",
       "    <tr>\n",
       "      <th>def12_31</th>\n",
       "      <th>1</th>\n",
       "      <th>1</th>\n",
       "    </tr>\n",
       "    <tr>\n",
       "      <th>age_cli_par_DUREE_CAT</th>\n",
       "      <th></th>\n",
       "      <th></th>\n",
       "    </tr>\n",
       "  </thead>\n",
       "  <tbody>\n",
       "    <tr>\n",
       "      <th>(-1.0, 1.0]</th>\n",
       "      <td>74</td>\n",
       "      <td>76.0</td>\n",
       "    </tr>\n",
       "    <tr>\n",
       "      <th>(1.0, 14.0]</th>\n",
       "      <td>24</td>\n",
       "      <td>24.0</td>\n",
       "    </tr>\n",
       "  </tbody>\n",
       "</table style=\"display:inline\">"
      ]
     },
     "metadata": {},
     "output_type": "display_data"
    }
   ],
   "source": [
    "for col in cols:\n",
    "    col = col + '_CAT'\n",
    "    df[col] = df[col].astype('category',copy=False)\n",
    "    comparer_cible(col)"
   ]
  },
  {
   "cell_type": "code",
   "execution_count": 86,
   "metadata": {},
   "outputs": [
    {
     "data": {
      "image/png": "[encoded data removed]",
      "text/plain": [
       "<Figure size 432x288 with 1 Axes>"
      ]
     },
     "metadata": {
      "needs_background": "light"
     },
     "output_type": "display_data"
    }
   ],
   "source": [
    "comparer_2dist('PRIX_TOTAL',df,20000)"
   ]
  },
  {
   "cell_type": "code",
   "execution_count": 87,
   "metadata": {
    "scrolled": true
   },
   "outputs": [
    {
     "data": {
      "text/html": [
       "<table style=\"display:inline\" border=\"1\" class=\"dataframe\">\n",
       "  <thead>\n",
       "    <tr>\n",
       "      <th></th>\n",
       "      <th>Effectif</th>\n",
       "      <th>Pourcentage</th>\n",
       "    </tr>\n",
       "    <tr>\n",
       "      <th>def12_31</th>\n",
       "      <th>0</th>\n",
       "      <th>0</th>\n",
       "    </tr>\n",
       "    <tr>\n",
       "      <th>PRIX_TOTAL_CAT</th>\n",
       "      <th></th>\n",
       "      <th></th>\n",
       "    </tr>\n",
       "  </thead>\n",
       "  <tbody>\n",
       "    <tr>\n",
       "      <th>(0, 20000]</th>\n",
       "      <td>1914</td>\n",
       "      <td>23.0</td>\n",
       "    </tr>\n",
       "    <tr>\n",
       "      <th>(20000, .]</th>\n",
       "      <td>6445</td>\n",
       "      <td>77.0</td>\n",
       "    </tr>\n",
       "  </tbody>\n",
       "</table style=\"display:inline\"><table style=\"display:inline\" border=\"1\" class=\"dataframe\">\n",
       "  <thead>\n",
       "    <tr>\n",
       "      <th></th>\n",
       "      <th>Effectif</th>\n",
       "      <th>Pourcentage</th>\n",
       "    </tr>\n",
       "    <tr>\n",
       "      <th>def12_31</th>\n",
       "      <th>1</th>\n",
       "      <th>1</th>\n",
       "    </tr>\n",
       "    <tr>\n",
       "      <th>PRIX_TOTAL_CAT</th>\n",
       "      <th></th>\n",
       "      <th></th>\n",
       "    </tr>\n",
       "  </thead>\n",
       "  <tbody>\n",
       "    <tr>\n",
       "      <th>(0, 20000]</th>\n",
       "      <td>52</td>\n",
       "      <td>53.0</td>\n",
       "    </tr>\n",
       "    <tr>\n",
       "      <th>(20000, .]</th>\n",
       "      <td>46</td>\n",
       "      <td>47.0</td>\n",
       "    </tr>\n",
       "  </tbody>\n",
       "</table style=\"display:inline\">"
      ]
     },
     "metadata": {},
     "output_type": "display_data"
    }
   ],
   "source": [
    "df['PRIX_TOTAL_CAT'] = 0\n",
    "df.loc[df['PRIX_TOTAL']<=20000, ['PRIX_TOTAL_CAT']] = '(0, 20000]'\n",
    "df.loc[(df['PRIX_TOTAL']>20000), ['PRIX_TOTAL_CAT']] = '(20000, .]'\n",
    "\n",
    "comparer_cible('PRIX_TOTAL_CAT')"
   ]
  },
  {
   "cell_type": "code",
   "execution_count": 88,
   "metadata": {
    "scrolled": true
   },
   "outputs": [
    {
     "data": {
      "image/png": "[encoded data removed]",
      "text/plain": [
       "<Figure size 432x288 with 1 Axes>"
      ]
     },
     "metadata": {
      "needs_background": "light"
     },
     "output_type": "display_data"
    }
   ],
   "source": [
    "comparer_2dist('MENS_par_FINANCE',df,0)"
   ]
  },
  {
   "cell_type": "code",
   "execution_count": 89,
   "metadata": {
    "scrolled": true
   },
   "outputs": [
    {
     "data": {
      "image/png": "[encoded data removed]",
      "text/plain": [
       "<Figure size 432x288 with 1 Axes>"
      ]
     },
     "metadata": {
      "needs_background": "light"
     },
     "output_type": "display_data"
    }
   ],
   "source": [
    "comparer_2dist('DUREE_C_par_FINANCE', df, 0.004)"
   ]
  },
  {
   "cell_type": "code",
   "execution_count": 90,
   "metadata": {},
   "outputs": [
    {
     "data": {
      "image/png": "[encoded data removed]",
      "text/plain": [
       "<Figure size 432x288 with 1 Axes>"
      ]
     },
     "metadata": {
      "needs_background": "light"
     },
     "output_type": "display_data"
    }
   ],
   "source": [
    "comparer_2dist('PREST_par_FINANCE', df)"
   ]
  },
  {
   "cell_type": "code",
   "execution_count": 91,
   "metadata": {},
   "outputs": [
    {
     "data": {
      "image/png": "[encoded data removed]",
      "text/plain": [
       "<Figure size 432x288 with 1 Axes>"
      ]
     },
     "metadata": {
      "needs_background": "light"
     },
     "output_type": "display_data"
    }
   ],
   "source": [
    "comparer_2dist('ASSUR_par_FINANCE', df)"
   ]
  },
  {
   "cell_type": "code",
   "execution_count": 92,
   "metadata": {},
   "outputs": [
    {
     "data": {
      "image/png": "[encoded data removed]",
      "text/plain": [
       "<Figure size 432x288 with 1 Axes>"
      ]
     },
     "metadata": {
      "needs_background": "light"
     },
     "output_type": "display_data"
    }
   ],
   "source": [
    "comparer_2dist('age_cli_par_DUREE', df, 1)"
   ]
  },
  {
   "cell_type": "code",
   "execution_count": 93,
   "metadata": {},
   "outputs": [
    {
     "data": {
      "text/html": [
       "<table style=\"display:inline\" border=\"1\" class=\"dataframe\">\n",
       "  <thead>\n",
       "    <tr>\n",
       "      <th></th>\n",
       "      <th>Effectif</th>\n",
       "      <th>Pourcentage</th>\n",
       "    </tr>\n",
       "    <tr>\n",
       "      <th>def12_31</th>\n",
       "      <th>0</th>\n",
       "      <th>0</th>\n",
       "    </tr>\n",
       "    <tr>\n",
       "      <th>age_cli_par_DUREE_CAT</th>\n",
       "      <th></th>\n",
       "      <th></th>\n",
       "    </tr>\n",
       "  </thead>\n",
       "  <tbody>\n",
       "    <tr>\n",
       "      <th>(0, 1]</th>\n",
       "      <td>3658</td>\n",
       "      <td>44.0</td>\n",
       "    </tr>\n",
       "    <tr>\n",
       "      <th>(1, .]</th>\n",
       "      <td>4701</td>\n",
       "      <td>56.0</td>\n",
       "    </tr>\n",
       "  </tbody>\n",
       "</table style=\"display:inline\"><table style=\"display:inline\" border=\"1\" class=\"dataframe\">\n",
       "  <thead>\n",
       "    <tr>\n",
       "      <th></th>\n",
       "      <th>Effectif</th>\n",
       "      <th>Pourcentage</th>\n",
       "    </tr>\n",
       "    <tr>\n",
       "      <th>def12_31</th>\n",
       "      <th>1</th>\n",
       "      <th>1</th>\n",
       "    </tr>\n",
       "    <tr>\n",
       "      <th>age_cli_par_DUREE_CAT</th>\n",
       "      <th></th>\n",
       "      <th></th>\n",
       "    </tr>\n",
       "  </thead>\n",
       "  <tbody>\n",
       "    <tr>\n",
       "      <th>(0, 1]</th>\n",
       "      <td>72</td>\n",
       "      <td>73.0</td>\n",
       "    </tr>\n",
       "    <tr>\n",
       "      <th>(1, .]</th>\n",
       "      <td>26</td>\n",
       "      <td>27.0</td>\n",
       "    </tr>\n",
       "  </tbody>\n",
       "</table style=\"display:inline\">"
      ]
     },
     "metadata": {},
     "output_type": "display_data"
    }
   ],
   "source": [
    "df['age_cli_par_DUREE_CAT'] = 0\n",
    "df.loc[df['age_cli_par_DUREE']<=1, ['age_cli_par_DUREE_CAT']] = '(0, 1]'\n",
    "df.loc[(df['age_cli_par_DUREE']>1), ['age_cli_par_DUREE_CAT']] = '(1, .]'\n",
    "\n",
    "comparer_cible('age_cli_par_DUREE_CAT')"
   ]
  },
  {
   "cell_type": "code",
   "execution_count": 94,
   "metadata": {},
   "outputs": [
    {
     "data": {
      "text/plain": [
       "(8457, 42)"
      ]
     },
     "execution_count": 94,
     "metadata": {},
     "output_type": "execute_result"
    }
   ],
   "source": [
    "#df = df.drop(cols, axis=1)\n",
    "df.shape\n"
   ]
  },
  {
   "cell_type": "markdown",
   "metadata": {},
   "source": [
    "## Bilan audit et création dummies <a id=\"part5\"></a>\n",
    "\n",
    "On se débarrasse des variables suivantes : \n",
    "- anciennete_rci\n",
    "\n",
    "Pour les variables qualitatives, on a juste transformé Situation familiale"
   ]
  },
  {
   "cell_type": "code",
   "execution_count": 95,
   "metadata": {
    "scrolled": true
   },
   "outputs": [
    {
     "data": {
      "text/plain": [
       "(8457, 42)"
      ]
     },
     "execution_count": 95,
     "metadata": {},
     "output_type": "execute_result"
    }
   ],
   "source": [
    "df.shape #(8421, 42)"
   ]
  },
  {
   "cell_type": "code",
   "execution_count": 96,
   "metadata": {},
   "outputs": [],
   "source": [
    "df_tmp = df.loc[:,['ANC_EMPLOI', 'AGE_VEH', 'PRIX_VEH', 'MT_APPORT', 'MT_FINANCE','MT_MENS', \\\n",
    "'VR_BALLON', 'DUREE_CONTRAT', 'MT_PREST', 'MT_ASSUR', 'age_cli', 'pc_appo', 'PRIX_TOTAL', 'MENS_par_FINANCE',\\\n",
    "'DUREE_C_par_FINANCE', 'PREST_par_FINANCE', 'ASSUR_par_FINANCE', 'age_cli_par_DUREE']]\n",
    "df = df.drop(['ANC_EMPLOI', 'AGE_VEH', 'PRIX_VEH', 'MT_APPORT', 'MT_FINANCE','MT_MENS', \\\n",
    "'VR_BALLON', 'DUREE_CONTRAT', 'MT_PREST', 'MT_ASSUR', 'age_cli', 'pc_appo',  'PRIX_TOTAL', 'MENS_par_FINANCE',\\\n",
    "'DUREE_C_par_FINANCE', 'PREST_par_FINANCE', 'ASSUR_par_FINANCE', 'age_cli_par_DUREE'], axis=1)"
   ]
  },
  {
   "cell_type": "code",
   "execution_count": 97,
   "metadata": {},
   "outputs": [
    {
     "data": {
      "text/plain": [
       "(8457, 24)"
      ]
     },
     "execution_count": 97,
     "metadata": {},
     "output_type": "execute_result"
    }
   ],
   "source": [
    "df.shape #18 + 6 = 24"
   ]
  },
  {
   "cell_type": "code",
   "execution_count": 98,
   "metadata": {},
   "outputs": [],
   "source": [
    "df.dtypes[df.dtypes!='categoy'].index\n",
    "#on enlève 'mois_gestion'\n",
    "tmp = ['STITUATION_FAM', 'MARQUE', 'ANC_EMPLOI_CAT', \\\n",
    "'AGE_VEH_CAT', 'PRIX_VEH_CAT', 'MT_APPORT_CAT', 'pc_appo_CAT', \\\n",
    "'MT_FINANCE_CAT', 'VR_BALLON_CAT', 'DUREE_CONTRAT_CAT', 'MT_PREST_CAT', \\\n",
    "'MT_ASSUR_CAT', 'MT_MENS_CAT',  'PRIX_TOTAL_CAT', 'MENS_par_FINANCE_CAT',\\\n",
    "'DUREE_C_par_FINANCE_CAT', 'PREST_par_FINANCE_CAT', 'ASSUR_par_FINANCE_CAT', 'age_cli_par_DUREE_CAT']\n",
    "\n",
    "for col in tmp:\n",
    "    df[col] = df[col].astype('category',copy=False)\n",
    "    \n",
    "#dtypes: category(18), datetime64[ns](1)"
   ]
  },
  {
   "cell_type": "code",
   "execution_count": 99,
   "metadata": {},
   "outputs": [],
   "source": [
    "non_dummy_col = ['def12_31']\n",
    "dummy_col = list(set(df.columns) - set(non_dummy_col))\n",
    "df = pd.get_dummies(df, columns = dummy_col)"
   ]
  },
  {
   "cell_type": "code",
   "execution_count": 100,
   "metadata": {
    "scrolled": true
   },
   "outputs": [
    {
     "data": {
      "text/plain": [
       "(8457, 59)"
      ]
     },
     "execution_count": 100,
     "metadata": {},
     "output_type": "execute_result"
    }
   ],
   "source": [
    "df.shape"
   ]
  },
  {
   "cell_type": "code",
   "execution_count": 101,
   "metadata": {},
   "outputs": [
    {
     "data": {
      "text/plain": [
       "(8457, 77)"
      ]
     },
     "execution_count": 101,
     "metadata": {},
     "output_type": "execute_result"
    }
   ],
   "source": [
    "df = pd.concat([df, df_tmp], axis = 1)\n",
    "df.shape\n"
   ]
  },
  {
   "cell_type": "code",
   "execution_count": 102,
   "metadata": {},
   "outputs": [],
   "source": [
    "df.to_csv('data_rci.csv')"
   ]
  }
 ],
 "metadata": {
  "kernelspec": {
   "display_name": "Python 3",
   "language": "python",
   "name": "python3"
  },
  "language_info": {
   "codemirror_mode": {
    "name": "ipython",
    "version": 3
   },
   "file_extension": ".py",
   "mimetype": "text/x-python",
   "name": "python",
   "nbconvert_exporter": "python",
   "pygments_lexer": "ipython3",
   "version": "3.7.3"
  }
 },
 "nbformat": 4,
 "nbformat_minor": 2
}
