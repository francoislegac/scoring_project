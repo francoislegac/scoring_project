{
 "cells": [
  {
   "cell_type": "code",
   "execution_count": 112,
   "metadata": {},
   "outputs": [],
   "source": [
    "import numpy as np\n",
    "import pandas as pd\n",
    "import matplotlib.pyplot as plt\n",
    "import seaborn as sns\n",
    "from sklearn.linear_model import LinearRegression\n",
    "from sklearn.feature_selection import VarianceThreshold\n",
    "from scipy import stats\n",
    "#Etape 2\n",
    "from sklearn.metrics import confusion_matrix\n",
    "from sklearn.model_selection import train_test_split, GridSearchCV\n",
    "from imblearn.over_sampling import SMOTE, SMOTENC\n",
    "from sklearn.linear_model import LogisticRegression\n",
    "from sklearn.metrics import recall_score, precision_score, f1_score\n",
    "from scikitplot.metrics import plot_cumulative_gain, plot_precision_recall\n",
    "from sklearn import preprocessing\n",
    "from sklearn import metrics\n",
    "import proj_func\n",
    "\n",
    "\n",
    "%matplotlib inline"
   ]
  },
  {
   "cell_type": "code",
   "execution_count": 98,
   "metadata": {},
   "outputs": [
    {
     "data": {
      "text/html": [
       "<div>\n",
       "<style scoped>\n",
       "    .dataframe tbody tr th:only-of-type {\n",
       "        vertical-align: middle;\n",
       "    }\n",
       "\n",
       "    .dataframe tbody tr th {\n",
       "        vertical-align: top;\n",
       "    }\n",
       "\n",
       "    .dataframe thead th {\n",
       "        text-align: right;\n",
       "    }\n",
       "</style>\n",
       "<table border=\"1\" class=\"dataframe\">\n",
       "  <thead>\n",
       "    <tr style=\"text-align: right;\">\n",
       "      <th></th>\n",
       "      <th>ANC_EMPLOI</th>\n",
       "      <th>STITUATION_FAM</th>\n",
       "      <th>MODE_LOGT</th>\n",
       "      <th>AGE_VEH</th>\n",
       "      <th>VN_VO</th>\n",
       "      <th>MARQUE</th>\n",
       "      <th>PRIX_VEH</th>\n",
       "      <th>MT_APPORT</th>\n",
       "      <th>MT_FINANCE</th>\n",
       "      <th>MT_MENS</th>\n",
       "      <th>VR_BALLON</th>\n",
       "      <th>DUREE_CONTRAT</th>\n",
       "      <th>MT_PREST</th>\n",
       "      <th>MT_ASSUR</th>\n",
       "      <th>mois_gestion</th>\n",
       "      <th>age_cli</th>\n",
       "      <th>anciennete_rci</th>\n",
       "      <th>pc_appo</th>\n",
       "      <th>def12_31</th>\n",
       "    </tr>\n",
       "  </thead>\n",
       "  <tbody>\n",
       "    <tr>\n",
       "      <td>0</td>\n",
       "      <td>65</td>\n",
       "      <td>2</td>\n",
       "      <td>1</td>\n",
       "      <td>NaN</td>\n",
       "      <td>VN</td>\n",
       "      <td>REN</td>\n",
       "      <td>19584.65</td>\n",
       "      <td>0.0</td>\n",
       "      <td>19584.65</td>\n",
       "      <td>95.01</td>\n",
       "      <td>19584.63</td>\n",
       "      <td>6</td>\n",
       "      <td>NaN</td>\n",
       "      <td>NaN</td>\n",
       "      <td>2015-01-03</td>\n",
       "      <td>28</td>\n",
       "      <td>1</td>\n",
       "      <td>0</td>\n",
       "      <td>0</td>\n",
       "    </tr>\n",
       "    <tr>\n",
       "      <td>1</td>\n",
       "      <td>563</td>\n",
       "      <td>11</td>\n",
       "      <td>2</td>\n",
       "      <td>28.0</td>\n",
       "      <td>VO</td>\n",
       "      <td>REN</td>\n",
       "      <td>16995.00</td>\n",
       "      <td>2123.0</td>\n",
       "      <td>14872.00</td>\n",
       "      <td>312.34</td>\n",
       "      <td>NaN</td>\n",
       "      <td>60</td>\n",
       "      <td>150.0</td>\n",
       "      <td>NaN</td>\n",
       "      <td>2014-01-06</td>\n",
       "      <td>64</td>\n",
       "      <td>3</td>\n",
       "      <td>12</td>\n",
       "      <td>0</td>\n",
       "    </tr>\n",
       "    <tr>\n",
       "      <td>2</td>\n",
       "      <td>107</td>\n",
       "      <td>2</td>\n",
       "      <td>2</td>\n",
       "      <td>16.0</td>\n",
       "      <td>VO</td>\n",
       "      <td>REN</td>\n",
       "      <td>19950.00</td>\n",
       "      <td>3869.0</td>\n",
       "      <td>16081.00</td>\n",
       "      <td>329.93</td>\n",
       "      <td>NaN</td>\n",
       "      <td>60</td>\n",
       "      <td>150.0</td>\n",
       "      <td>NaN</td>\n",
       "      <td>2015-01-08</td>\n",
       "      <td>51</td>\n",
       "      <td>3</td>\n",
       "      <td>19</td>\n",
       "      <td>0</td>\n",
       "    </tr>\n",
       "    <tr>\n",
       "      <td>3</td>\n",
       "      <td>143</td>\n",
       "      <td>2</td>\n",
       "      <td>2</td>\n",
       "      <td>10.0</td>\n",
       "      <td>VO</td>\n",
       "      <td>REN</td>\n",
       "      <td>17500.00</td>\n",
       "      <td>7143.5</td>\n",
       "      <td>10356.50</td>\n",
       "      <td>217.51</td>\n",
       "      <td>NaN</td>\n",
       "      <td>60</td>\n",
       "      <td>150.0</td>\n",
       "      <td>NaN</td>\n",
       "      <td>2015-01-04</td>\n",
       "      <td>42</td>\n",
       "      <td>4</td>\n",
       "      <td>41</td>\n",
       "      <td>0</td>\n",
       "    </tr>\n",
       "    <tr>\n",
       "      <td>4</td>\n",
       "      <td>110</td>\n",
       "      <td>2</td>\n",
       "      <td>NaN</td>\n",
       "      <td>7.0</td>\n",
       "      <td>VO</td>\n",
       "      <td>REN</td>\n",
       "      <td>19740.00</td>\n",
       "      <td>3789.4</td>\n",
       "      <td>15950.60</td>\n",
       "      <td>310.33</td>\n",
       "      <td>7523.04</td>\n",
       "      <td>36</td>\n",
       "      <td>150.0</td>\n",
       "      <td>395.0</td>\n",
       "      <td>2015-01-02</td>\n",
       "      <td>34</td>\n",
       "      <td>4</td>\n",
       "      <td>19</td>\n",
       "      <td>0</td>\n",
       "    </tr>\n",
       "  </tbody>\n",
       "</table>\n",
       "</div>"
      ],
      "text/plain": [
       "   ANC_EMPLOI STITUATION_FAM MODE_LOGT  AGE_VEH VN_VO MARQUE  PRIX_VEH  \\\n",
       "0          65              2         1      NaN    VN    REN  19584.65   \n",
       "1         563             11         2     28.0    VO    REN  16995.00   \n",
       "2         107              2         2     16.0    VO    REN  19950.00   \n",
       "3         143              2         2     10.0    VO    REN  17500.00   \n",
       "4         110              2       NaN      7.0    VO    REN  19740.00   \n",
       "\n",
       "   MT_APPORT  MT_FINANCE  MT_MENS  VR_BALLON  DUREE_CONTRAT  MT_PREST  \\\n",
       "0        0.0    19584.65    95.01   19584.63              6       NaN   \n",
       "1     2123.0    14872.00   312.34        NaN             60     150.0   \n",
       "2     3869.0    16081.00   329.93        NaN             60     150.0   \n",
       "3     7143.5    10356.50   217.51        NaN             60     150.0   \n",
       "4     3789.4    15950.60   310.33    7523.04             36     150.0   \n",
       "\n",
       "   MT_ASSUR mois_gestion  age_cli anciennete_rci  pc_appo def12_31  \n",
       "0       NaN   2015-01-03       28              1        0        0  \n",
       "1       NaN   2014-01-06       64              3       12        0  \n",
       "2       NaN   2015-01-08       51              3       19        0  \n",
       "3       NaN   2015-01-04       42              4       41        0  \n",
       "4     395.0   2015-01-02       34              4       19        0  "
      ]
     },
     "execution_count": 98,
     "metadata": {},
     "output_type": "execute_result"
    }
   ],
   "source": [
    "raw_data = pd.read_csv('octroi_RCI.csv', sep = ';', decimal= ',', header=0, parse_dates=['mois_gestion'], dtype = {'STITUATION_FAM':'category', 'MODE_LOGT':'category', 'VN_VO':'category', 'MARQUE':'category', 'anciennete_rci':'category', 'def12_31': 'category'})\n",
    "df = raw_data.copy()\n",
    "df = df.drop('mois_gestion', axis=1)\n",
    "#df = df.drop('def12_31', axis=1)\n",
    "raw_data.head() #(8457, 19)"
   ]
  },
  {
   "cell_type": "code",
   "execution_count": 99,
   "metadata": {},
   "outputs": [],
   "source": [
    "df2 = pd.read_csv('data_output.csv')\n",
    "df2.drop(['Unnamed: 0'], axis=1, inplace=True)"
   ]
  },
  {
   "cell_type": "code",
   "execution_count": 100,
   "metadata": {},
   "outputs": [],
   "source": [
    "#df3 = pd.read_csv('pour_francois.csv')\n",
    "#df3.drop(['Unnamed: 0'], axis=1, inplace=True)"
   ]
  },
  {
   "cell_type": "code",
   "execution_count": 101,
   "metadata": {},
   "outputs": [],
   "source": [
    "y = raw_data['def12_31']"
   ]
  },
  {
   "cell_type": "code",
   "execution_count": 102,
   "metadata": {},
   "outputs": [
    {
     "name": "stdout",
     "output_type": "stream",
     "text": [
      "(8457, 76) (8457,)\n"
     ]
    }
   ],
   "source": [
    "print(df2.shape, y.shape)"
   ]
  },
  {
   "cell_type": "markdown",
   "metadata": {},
   "source": [
    "## Cross Validation"
   ]
  },
  {
   "cell_type": "code",
   "execution_count": 103,
   "metadata": {},
   "outputs": [
    {
     "name": "stdout",
     "output_type": "stream",
     "text": [
      "0.011794871794871795 0.011558389796731766\n",
      "(5919, 76) (2538, 76) (5919,) (2538,)\n"
     ]
    }
   ],
   "source": [
    "#Cross validation \n",
    "X_train, X_test, y_train, y_test = train_test_split(df2, y, test_size= 0.3, stratify=y, random_state=1) \n",
    "#print(len(X_train.loc[X_train['def12_31']=='0']), len(X_train.loc[X_train['def12_31']=='1']))\n",
    "#print(len(X_test.loc[X_test['def12_31']=='0']), len(X_test.loc[X_test['def12_31']=='1']))\n",
    "print(69/5850, 29/2509) #même distribution dans X_train et X_test ! \n",
    "print(X_train.shape, X_test.shape, y_train.shape, y_test.shape)"
   ]
  },
  {
   "cell_type": "markdown",
   "metadata": {},
   "source": [
    "## Rééchantillonnage : SMOTE"
   ]
  },
  {
   "cell_type": "code",
   "execution_count": 104,
   "metadata": {},
   "outputs": [
    {
     "name": "stdout",
     "output_type": "stream",
     "text": [
      "(11700, 76)\n"
     ]
    },
    {
     "data": {
      "image/png": "[encoded data removed]",
      "text/plain": [
       "<Figure size 144x144 with 1 Axes>"
      ]
     },
     "metadata": {
      "needs_background": "light"
     },
     "output_type": "display_data"
    }
   ],
   "source": [
    "#SMOTE\n",
    "X_resampled, y_resampled = SMOTE(random_state=1, k_neighbors=5).fit_resample(X_train, y_train)\n",
    "#Vérification\n",
    "print(X_resampled.shape)\n",
    "fig, ax = plt.subplots(figsize=(2,2))\n",
    "sns.countplot('def12_31', data=pd.concat([X_resampled,y_resampled], axis=1))\n",
    "ax.set_title('Balanced Classes');"
   ]
  },
  {
   "cell_type": "code",
   "execution_count": 105,
   "metadata": {},
   "outputs": [],
   "source": [
    "#Scaling\n",
    "X_sc_resampled = pd.DataFrame(preprocessing.scale(X_resampled), columns=X_resampled.columns)\n",
    "X_sc_test = pd.DataFrame(preprocessing.scale(X_test), columns= X_test.columns)"
   ]
  },
  {
   "cell_type": "code",
   "execution_count": 106,
   "metadata": {},
   "outputs": [],
   "source": [
    "y_resampled = y_resampled.astype('uint8')"
   ]
  },
  {
   "cell_type": "code",
   "execution_count": 107,
   "metadata": {},
   "outputs": [],
   "source": [
    "y_train = y_train.astype('uint8')"
   ]
  },
  {
   "cell_type": "code",
   "execution_count": 108,
   "metadata": {},
   "outputs": [],
   "source": [
    "params = {\n",
    "    'penalty':('l2', 'none'), \n",
    "    #'C': (0.001, 0.01, 0.1),\n",
    "    #'solver': ['newton-cg', 'lbfgs', 'sag'],    \n",
    "    #'l1_ratio': np.arange(0.1,0.9,0.1),\n",
    "}\n",
    "\n",
    "clf = GridSearchCV(\n",
    "    estimator = LogisticRegression(max_iter=10000),\n",
    "    param_grid = params,\n",
    "    cv = 5, #specify the number of folds in a (Stratified)KFold\n",
    "    scoring =['precision', 'recall', 'f1'],\n",
    "    refit = 'f1',\n",
    "    n_jobs = -1, #1 pas de parallélisation / -1 parallélisation\n",
    "    verbose=1\n",
    "    )\n",
    "    \n",
    "#clf.fit(X_resampled, y_resampled)"
   ]
  },
  {
   "cell_type": "code",
   "execution_count": 109,
   "metadata": {},
   "outputs": [],
   "source": [
    "#Tableau des résultats de gridsearch : \n",
    "#Note : j'ai appelé clf = gridsearchCV\n",
    "#res = pd.DataFrame(clf.cv_results_)\n",
    "\n",
    "#Je garde uniquement ces variables :\n",
    "#feats = ['param_C', 'param_penalty', 'param_solver','mean_test_precision', \\\n",
    "#'mean_test_recall','mean_test_f1', 'rank_test_f1']\n",
    "\n",
    "#feats = ['param_penalty','mean_test_precision', \\\n",
    "#'mean_test_recall','mean_test_f1', 'rank_test_f1']\n",
    "\n",
    "#res[feats].sort_values('rank_test_f1')"
   ]
  },
  {
   "cell_type": "code",
   "execution_count": 110,
   "metadata": {},
   "outputs": [
    {
     "name": "stderr",
     "output_type": "stream",
     "text": [
      "/Users/francoislegac/opt/anaconda3/lib/python3.7/site-packages/sklearn/linear_model/_logistic.py:1505: UserWarning: Setting penalty='none' will ignore the C and l1_ratio parameters\n",
      "  \"Setting penalty='none' will ignore the C and l1_ratio \"\n"
     ]
    },
    {
     "data": {
      "image/png": "[encoded data removed]",
      "text/plain": [
       "<Figure size 432x288 with 1 Axes>"
      ]
     },
     "metadata": {
      "needs_background": "light"
     },
     "output_type": "display_data"
    }
   ],
   "source": [
    "\n",
    "arg_models = [\n",
    "    LogisticRegression(solver='newton-cg', C=0.01, penalty='none', max_iter=10000),\n",
    "    LogisticRegression(solver='newton-cg', C=1, penalty='l2', max_iter=10000),\n",
    "    LogisticRegression(solver='liblinear', C=10, penalty='l1', max_iter=10000),\n",
    "]\n",
    "\n",
    "fig = proj_func.plot_several_lifts(arg_models, X_sc_resampled, X_sc_test, y_resampled, y_test)"
   ]
  },
  {
   "cell_type": "code",
   "execution_count": 114,
   "metadata": {},
   "outputs": [
    {
     "data": {
      "text/html": [
       "<div>\n",
       "<style scoped>\n",
       "    .dataframe tbody tr th:only-of-type {\n",
       "        vertical-align: middle;\n",
       "    }\n",
       "\n",
       "    .dataframe tbody tr th {\n",
       "        vertical-align: top;\n",
       "    }\n",
       "\n",
       "    .dataframe thead th {\n",
       "        text-align: right;\n",
       "    }\n",
       "</style>\n",
       "<table border=\"1\" class=\"dataframe\">\n",
       "  <thead>\n",
       "    <tr style=\"text-align: right;\">\n",
       "      <th></th>\n",
       "      <th>alpha</th>\n",
       "      <th>effectif</th>\n",
       "      <th>nb_positif</th>\n",
       "      <th>pc_positif</th>\n",
       "      <th>alpha_lift</th>\n",
       "      <th>cum_effectif</th>\n",
       "      <th>cum_positif</th>\n",
       "      <th>cum_alpha_lift</th>\n",
       "    </tr>\n",
       "  </thead>\n",
       "  <tbody>\n",
       "    <tr>\n",
       "      <td>0</td>\n",
       "      <td>0.1</td>\n",
       "      <td>254</td>\n",
       "      <td>12</td>\n",
       "      <td>4.724409</td>\n",
       "      <td>4.134673</td>\n",
       "      <td>254</td>\n",
       "      <td>12</td>\n",
       "      <td>4.134673</td>\n",
       "    </tr>\n",
       "    <tr>\n",
       "      <td>1</td>\n",
       "      <td>0.2</td>\n",
       "      <td>254</td>\n",
       "      <td>5</td>\n",
       "      <td>1.968504</td>\n",
       "      <td>1.722780</td>\n",
       "      <td>508</td>\n",
       "      <td>17</td>\n",
       "      <td>2.928727</td>\n",
       "    </tr>\n",
       "    <tr>\n",
       "      <td>2</td>\n",
       "      <td>0.3</td>\n",
       "      <td>254</td>\n",
       "      <td>1</td>\n",
       "      <td>0.393701</td>\n",
       "      <td>0.344556</td>\n",
       "      <td>762</td>\n",
       "      <td>18</td>\n",
       "      <td>2.067336</td>\n",
       "    </tr>\n",
       "    <tr>\n",
       "      <td>3</td>\n",
       "      <td>0.4</td>\n",
       "      <td>254</td>\n",
       "      <td>2</td>\n",
       "      <td>0.787402</td>\n",
       "      <td>0.689112</td>\n",
       "      <td>1016</td>\n",
       "      <td>20</td>\n",
       "      <td>1.722780</td>\n",
       "    </tr>\n",
       "    <tr>\n",
       "      <td>4</td>\n",
       "      <td>0.5</td>\n",
       "      <td>254</td>\n",
       "      <td>5</td>\n",
       "      <td>1.968504</td>\n",
       "      <td>1.722780</td>\n",
       "      <td>1270</td>\n",
       "      <td>25</td>\n",
       "      <td>1.722780</td>\n",
       "    </tr>\n",
       "    <tr>\n",
       "      <td>5</td>\n",
       "      <td>0.6</td>\n",
       "      <td>254</td>\n",
       "      <td>0</td>\n",
       "      <td>0.000000</td>\n",
       "      <td>0.000000</td>\n",
       "      <td>1524</td>\n",
       "      <td>25</td>\n",
       "      <td>1.435650</td>\n",
       "    </tr>\n",
       "    <tr>\n",
       "      <td>6</td>\n",
       "      <td>0.7</td>\n",
       "      <td>254</td>\n",
       "      <td>1</td>\n",
       "      <td>0.393701</td>\n",
       "      <td>0.344556</td>\n",
       "      <td>1778</td>\n",
       "      <td>26</td>\n",
       "      <td>1.279780</td>\n",
       "    </tr>\n",
       "    <tr>\n",
       "      <td>7</td>\n",
       "      <td>0.8</td>\n",
       "      <td>254</td>\n",
       "      <td>1</td>\n",
       "      <td>0.393701</td>\n",
       "      <td>0.344556</td>\n",
       "      <td>2032</td>\n",
       "      <td>27</td>\n",
       "      <td>1.162877</td>\n",
       "    </tr>\n",
       "    <tr>\n",
       "      <td>8</td>\n",
       "      <td>0.9</td>\n",
       "      <td>254</td>\n",
       "      <td>2</td>\n",
       "      <td>0.787402</td>\n",
       "      <td>0.689112</td>\n",
       "      <td>2286</td>\n",
       "      <td>29</td>\n",
       "      <td>1.110236</td>\n",
       "    </tr>\n",
       "    <tr>\n",
       "      <td>9</td>\n",
       "      <td>1.0</td>\n",
       "      <td>254</td>\n",
       "      <td>0</td>\n",
       "      <td>0.000000</td>\n",
       "      <td>0.000000</td>\n",
       "      <td>2540</td>\n",
       "      <td>29</td>\n",
       "      <td>0.999213</td>\n",
       "    </tr>\n",
       "  </tbody>\n",
       "</table>\n",
       "</div>"
      ],
      "text/plain": [
       "   alpha  effectif  nb_positif  pc_positif  alpha_lift  cum_effectif  \\\n",
       "0    0.1       254          12    4.724409    4.134673           254   \n",
       "1    0.2       254           5    1.968504    1.722780           508   \n",
       "2    0.3       254           1    0.393701    0.344556           762   \n",
       "3    0.4       254           2    0.787402    0.689112          1016   \n",
       "4    0.5       254           5    1.968504    1.722780          1270   \n",
       "5    0.6       254           0    0.000000    0.000000          1524   \n",
       "6    0.7       254           1    0.393701    0.344556          1778   \n",
       "7    0.8       254           1    0.393701    0.344556          2032   \n",
       "8    0.9       254           2    0.787402    0.689112          2286   \n",
       "9    1.0       254           0    0.000000    0.000000          2540   \n",
       "\n",
       "   cum_positif  cum_alpha_lift  \n",
       "0           12        4.134673  \n",
       "1           17        2.928727  \n",
       "2           18        2.067336  \n",
       "3           20        1.722780  \n",
       "4           25        1.722780  \n",
       "5           25        1.435650  \n",
       "6           26        1.279780  \n",
       "7           27        1.162877  \n",
       "8           29        1.110236  \n",
       "9           29        0.999213  "
      ]
     },
     "execution_count": 114,
     "metadata": {},
     "output_type": "execute_result"
    }
   ],
   "source": [
    "clf = LogisticRegression(solver='liblinear', penalty='l1', C=10)\n",
    "y_test = y_test.astype('uint8')\n",
    "df = proj_func.lift_table(clf, X_sc_resampled, X_sc_test, y_resampled, y_test)\n",
    "df"
   ]
  },
  {
   "cell_type": "code",
   "execution_count": 116,
   "metadata": {},
   "outputs": [],
   "source": [
    "df.to_csv('lift_table.csv')"
   ]
  },
  {
   "cell_type": "code",
   "execution_count": null,
   "metadata": {},
   "outputs": [],
   "source": []
  }
 ],
 "metadata": {
  "kernelspec": {
   "display_name": "Python 3",
   "language": "python",
   "name": "python3"
  },
  "language_info": {
   "codemirror_mode": {
    "name": "ipython",
    "version": 3
   },
   "file_extension": ".py",
   "mimetype": "text/x-python",
   "name": "python",
   "nbconvert_exporter": "python",
   "pygments_lexer": "ipython3",
   "version": "3.7.4"
  }
 },
 "nbformat": 4,
 "nbformat_minor": 2
}
